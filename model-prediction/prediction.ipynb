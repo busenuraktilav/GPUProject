{
 "cells": [
  {
   "cell_type": "code",
   "execution_count": 25,
   "metadata": {},
   "outputs": [],
   "source": [
    "import pandas as pd\n",
    "import matplotlib.pyplot as plt\n",
    "import matplotlib.path as mpath\n",
    "import numpy as np\n",
    "from numpy import absolute, mean, std\n",
    "from sklearn import preprocessing, metrics\n",
    "from sklearn.metrics import r2_score, mean_squared_error, mean_absolute_percentage_error, mean_absolute_error, explained_variance_score\n",
    "from sklearn.model_selection import train_test_split, cross_val_score, RepeatedKFold, KFold, validation_curve\n",
    "from sklearn.linear_model import LinearRegression, Ridge\n",
    "from sklearn.neighbors import KNeighborsRegressor\n",
    "from sklearn.tree import DecisionTreeRegressor\n",
    "from sklearn.neural_network import MLPRegressor\n",
    "from sklearn.multioutput import MultiOutputRegressor\n",
    "from sklearn.preprocessing import StandardScaler, OneHotEncoder;\n",
    "from sklearn.ensemble import RandomForestRegressor"
   ]
  },
  {
   "cell_type": "code",
   "execution_count": 50,
   "metadata": {},
   "outputs": [],
   "source": [
    "def readCSVFiles():\n",
    "\n",
    "    df01 = pd.read_csv(\"bellman_performance_results.csv\")\n",
    "    df02 = pd.read_csv(\"dijkstra_performance_results.csv\")\n",
    "    df03 = pd.read_csv(\"hybrid_performance_results.csv\")\n",
    "\n",
    "    return df01, df02, df03\n",
    "\n",
    "def combineAlgorithmsToFile(df01, df02, df03):\n",
    "    df01['AlgoBellman'] = 1\n",
    "    df01['AlgoDijkstra'] = 0\n",
    "    df01['AlgoHybrid'] = 0\n",
    "    df02['AlgoBellman'] = 0\n",
    "    df02['AlgoDijkstra'] = 1\n",
    "    df02['AlgoHybrid'] = 0\n",
    "    df03['AlgoBellman'] = 0\n",
    "    df03['AlgoDijkstra'] = 0\n",
    "    df03['AlgoHybrid'] = 1\n",
    "    frames = [df01, df02, df03]\n",
    "    concat = pd.concat(frames)\n",
    "    df1 = concat\n",
    "    \n",
    "    return df1\n",
    "\n",
    "def preprocessing(df1):\n",
    "    conditions = [df1['vertexNum'] == 524288, df1['vertexNum'] == 1048576, df1['vertexNum'] == 2097152, df1['vertexNum'] == 4194304, df1['vertexNum'] == 8388608, df1['vertexNum'] == 16777216]\n",
    "    numbers = [1, 2, 4, 8, 16, 32]\n",
    "    df1['graphSize'] = np.select(conditions, numbers, default=0)\n",
    "    \n",
    "    df1 = df1.drop(['vertexNum', 'edgeNum', 'maxEdgeDegree',\n",
    "                    'sAtomicBlock'], axis=1)\n",
    "    df1.dropna(inplace=True)\n",
    "    \n",
    "    df1 = df1[df1['minProcessEdge'] >= 0]\n",
    "              \n",
    "    for i in numbers:\n",
    "        mini = df1[df1['graphSize'] == i]['minProcessEdge'].min()\n",
    "        maxi = df1[df1['graphSize'] == i]['minProcessEdge'].max()\n",
    "        df1.loc[df1['graphSize'] == i, ['minProcessEdge']] = 1.0 / ((((df1.loc[df1['graphSize'] == i, ['minProcessEdge']] - mini) / (maxi - mini)) * 9) + 1)\n",
    "\n",
    "    return df1\n",
    "\n",
    "def _regressorAlgorithm(model, x_train, x_test, y_train, y_test):\n",
    "    #fit to model\n",
    "    model.fit(x_train, y_train)\n",
    "    #predict the outcome\n",
    "    y_pred = model.predict(x_test)\n",
    "    #summarize performance\n",
    "    print(\"\\n### Performance Summarization of _regressorAlgorithm ###\\n\")\n",
    "    print('Mean Absolute Error:', mean_absolute_error(y_test, y_pred))\n",
    "    print('Mean Squared Error:', mean_squared_error(y_test, y_pred))\n",
    "    print('Root Mean Squared Error:', np.sqrt(mean_squared_error(y_test, y_pred)))\n",
    "    print('R2 score: ', r2_score(y_test, y_pred))\n",
    "    print('Explained Variance Score: ', explained_variance_score(y_test, y_pred))\n",
    "    print('Mean Absolute Percentage Error: ', mean_absolute_percentage_error(y_test, y_pred))\n",
    "    #print('MAPE: ', MAPE(y_test, y_pred))\n",
    "    \n",
    "    return y_pred, y_test\n",
    "\n",
    "def _regressorAlgorithm_KFold(model, X, y):\n",
    "    #model = RandomForestRegressor(max_depth=1000, n_estimators=100, random_state=1)\n",
    "    cv = RepeatedKFold(n_splits=10, n_repeats=5, random_state=1)\n",
    "    # evaluate the model and collect the scores\n",
    "    n_scores_mae = cross_val_score(model, X, y, scoring='neg_mean_absolute_error', cv=cv, n_jobs=-1)\n",
    "    n_scores_mse = cross_val_score(model, X, y, scoring='neg_mean_squared_error', cv=cv, n_jobs=-1)\n",
    "    n_scores_rmse = cross_val_score(model, X, y, scoring='neg_root_mean_squared_error', cv=cv, n_jobs=-1)\n",
    "    n_scores_r2 = cross_val_score(model, X, y, scoring='r2', cv=cv, n_jobs=-1)\n",
    "    n_scores_ev = cross_val_score(model, X, y, scoring='explained_variance', cv=cv, n_jobs=-1)\n",
    "    n_scores_mape = cross_val_score(model, X, y, scoring='neg_mean_absolute_percentage_error', cv=cv, n_jobs=-1)\n",
    "    # force the scores to be positive\n",
    "    n_scores_mae = absolute(n_scores_mae)\n",
    "    n_scores_mse = absolute(n_scores_mse)\n",
    "    n_scores_rmse = absolute(n_scores_rmse)\n",
    "    n_scores_r2 = absolute(n_scores_r2)\n",
    "    n_scores_ev = absolute(n_scores_ev)\n",
    "    n_scores_mape = absolute(n_scores_mape)\n",
    "    # summarize performance\n",
    "    print(\"\\n### Performance Summarization of _regressorAlgorithm_KFold ###\\n\")\n",
    "    print('Mean Absolute Error (avg): %.5f' % mean(n_scores_mae))\n",
    "    print('Mean Squared Error (avg): %.5f' % mean(n_scores_mse))\n",
    "    print('Root Mean Squared Error (avg): %.5f' % mean(n_scores_rmse))\n",
    "    print('R2 score (avg) %.5f' % mean(n_scores_r2))\n",
    "    print('Explained Variance (avg): %.5f' % mean(n_scores_ev))\n",
    "    print('Mean Absolute Percentage Error (avg): %.5f' % mean(n_scores_mape))\n",
    "    \n",
    "def draw_BFDJ(arr1_b, arr2_b, arr1_d, arr2_d, x_label, y_label):\n",
    "    \n",
    "    asterisk = mpath.Path.unit_regular_asterisk(6)\n",
    "    circle = mpath.Path.unit_circle()\n",
    "\n",
    "    fig = plt.figure()\n",
    "    ax = fig.add_subplot(1, 1, 1)\n",
    "    ax.plot(arr1_b, arr2_b, color='red', label='predicted_data', marker=asterisk, markersize=7)\n",
    "    ax.plot(arr1_d, arr2_d, color='blue', label='test_data', marker=circle, markersize=4)\n",
    "    ax.set_xlabel(x_label)\n",
    "    ax.set_ylabel(y_label)\n",
    "\n",
    "    plt.legend()\n",
    "    plt.show()\n",
    "    \n",
    "def lineGraphOfPredictionError(y_test, y_pred):\n",
    "    y_pred_exec, y_pred_err, y_test_exec, y_test_err = [], [], [], []\n",
    "    y_test_n = y_test.to_numpy()\n",
    "    y_pred_n = y_pred\n",
    "    y_test_n.sort()\n",
    "    y_pred_n.sort()\n",
    "    for i in range(20):\n",
    "        y_pred_exec.append(y_pred_n[i][1])\n",
    "        y_pred_err.append(y_pred_n[i][0])\n",
    "        y_test_exec.append(y_test_n[i][1])\n",
    "        y_test_err.append(y_test_n[i][0])\n",
    "\n",
    "    y_pred_exec.sort()\n",
    "    y_test_exec.sort()\n",
    "    y_pred_err.sort()\n",
    "    y_test_err.sort()\n",
    "    print(y_pred_exec)\n",
    "    print(y_test_exec)\n",
    "\n",
    "\n",
    "    draw_BFDJ(y_pred_exec, y_pred_err, y_test_exec, y_test_err, \"execution time\", \"error\")\n",
    "    \n",
    "def MAPE(y_true, y_pred): \n",
    "    y_true, y_pred = np.array(y_true), np.array(y_pred)\n",
    "    print(y_true.shape)\n",
    "    print(y_pred.shape)\n",
    "    acc_ex, acc_err = 0, 0\n",
    "    \n",
    "    for i in range(len(y_true)):\n",
    "        if y_true[i][0] != 0:\n",
    "            acc_ex += np.abs((y_true[i][0] - y_pred[i][0]) / y_true[i][0])\n",
    "        elif y_true[i][0] == 0 and y_pred[i][0] != 0:\n",
    "            acc_ex += np.abs((y_true[i][0] - y_pred[i][0]) / y_pred[i][0])\n",
    "        #print(acc_ex)\n",
    "        \n",
    "    mean_ex = (acc_ex / len(y_true)) * 100\n",
    "    \n",
    "    for i in range(len(y_true)):\n",
    "        if y_true[i][1] != 0:\n",
    "            acc_err += np.abs((y_true[i][1] - y_pred[i][1]) / y_true[i][1])\n",
    "        elif y_true[i][1] == 0 and y_pred[i][1] != 0:\n",
    "            acc_err += np.abs((y_true[i][1] - y_pred[i][1]) / y_pred[i][1])\n",
    "        \n",
    "        #print(acc_err)\n",
    "        \n",
    "    mean_err = (acc_err / len(y_true)) * 100\n",
    "    \n",
    "    return (mean_ex + mean_err)/2\n",
    "    "
   ]
  },
  {
   "cell_type": "code",
   "execution_count": 3,
   "metadata": {},
   "outputs": [
    {
     "ename": "NameError",
     "evalue": "name 'y_pred_knr' is not defined",
     "output_type": "error",
     "traceback": [
      "\u001b[0;31m---------------------------------------------------------------------------\u001b[0m",
      "\u001b[0;31mNameError\u001b[0m                                 Traceback (most recent call last)",
      "\u001b[0;32m<ipython-input-3-a6f882c90349>\u001b[0m in \u001b[0;36m<module>\u001b[0;34m\u001b[0m\n\u001b[0;32m----> 1\u001b[0;31m \u001b[0my_pred_knr\u001b[0m\u001b[0;34m=\u001b[0m\u001b[0mnp\u001b[0m\u001b[0;34m.\u001b[0m\u001b[0marray\u001b[0m\u001b[0;34m(\u001b[0m\u001b[0my_pred_knr\u001b[0m\u001b[0;34m)\u001b[0m\u001b[0;34m\u001b[0m\u001b[0;34m\u001b[0m\u001b[0m\n\u001b[0m\u001b[1;32m      2\u001b[0m \u001b[0my_test_knr\u001b[0m\u001b[0;34m=\u001b[0m\u001b[0mnp\u001b[0m\u001b[0;34m.\u001b[0m\u001b[0marray\u001b[0m\u001b[0;34m(\u001b[0m\u001b[0my_test_knr\u001b[0m\u001b[0;34m)\u001b[0m\u001b[0;34m\u001b[0m\u001b[0;34m\u001b[0m\u001b[0m\n\u001b[1;32m      3\u001b[0m \u001b[0mprint\u001b[0m\u001b[0;34m(\u001b[0m\u001b[0my_pred_knr\u001b[0m\u001b[0;34m[\u001b[0m\u001b[0;36m1\u001b[0m\u001b[0;34m]\u001b[0m\u001b[0;34m[\u001b[0m\u001b[0;36m1\u001b[0m\u001b[0;34m]\u001b[0m\u001b[0;34m)\u001b[0m\u001b[0;34m\u001b[0m\u001b[0;34m\u001b[0m\u001b[0m\n\u001b[1;32m      4\u001b[0m \u001b[0mprint\u001b[0m\u001b[0;34m(\u001b[0m\u001b[0my_test_knr\u001b[0m\u001b[0;34m[\u001b[0m\u001b[0;36m1\u001b[0m\u001b[0;34m]\u001b[0m\u001b[0;34m[\u001b[0m\u001b[0;36m1\u001b[0m\u001b[0;34m]\u001b[0m\u001b[0;34m)\u001b[0m\u001b[0;34m\u001b[0m\u001b[0;34m\u001b[0m\u001b[0m\n",
      "\u001b[0;31mNameError\u001b[0m: name 'y_pred_knr' is not defined"
     ]
    }
   ],
   "source": [
    "y_pred_knr=np.array(y_pred_knr)\n",
    "y_test_knr=np.array(y_test_knr)\n",
    "print(y_pred_knr[1][1])\n",
    "print(y_test_knr[1][1])"
   ]
  },
  {
   "cell_type": "code",
   "execution_count": 27,
   "metadata": {},
   "outputs": [],
   "source": [
    "df01, df02, df03 = readCSVFiles()\n",
    "df1 = combineAlgorithmsToFile(df01, df02, df03)\n",
    "df1 = preprocessing(df1)"
   ]
  },
  {
   "cell_type": "markdown",
   "metadata": {},
   "source": [
    "# # Predict Multiple Output "
   ]
  },
  {
   "cell_type": "code",
   "execution_count": 45,
   "metadata": {},
   "outputs": [
    {
     "name": "stdout",
     "output_type": "stream",
     "text": [
      "(33063, 15)\n",
      "(6656, 15)\n"
     ]
    }
   ],
   "source": [
    "X_mo = df1.drop(['executionTime', 'Error'],axis=1)\n",
    "y_mo = df1[['executionTime', 'Error']]\n",
    "X_mo = X_mo.values\n",
    "\n",
    "#split the data randomly\n",
    "x_train_mo, x_test_mo, y_train_mo, y_test_mo = train_test_split(X_mo, y_mo, test_size=0.2, random_state=13)\n",
    "\n",
    "#split data - small graphs for training, large graphs for testing\n",
    "a = df1.loc[(df1['graphSize'] != 32) | (df1['sOriginalDistance'] == 1)]\n",
    "b = df1.loc[(df1['graphSize'] == 32) & (df1['sOriginalDistance'] == 0)]\n",
    "print(a.shape)\n",
    "print(b.shape)\n",
    "x_train_mo_nd = a.drop(['executionTime', 'Error'],axis=1)\n",
    "y_train_mo_nd = a[['executionTime', 'Error']]\n",
    "x_test_mo_nd = b.drop(['executionTime', 'Error'],axis=1)\n",
    "y_test_mo_nd = b[['executionTime', 'Error']]"
   ]
  },
  {
   "cell_type": "code",
   "execution_count": 46,
   "metadata": {},
   "outputs": [
    {
     "name": "stdout",
     "output_type": "stream",
     "text": [
      "LINEAR REGRESSION ALGORITHM PERFORMANCE RESULTS ON MULTIPLE OUTPUT\n",
      "\n",
      "### Performance Summarization of _regressorAlgorithm ###\n",
      "\n",
      "Mean Absolute Error: 43.29687684884682\n",
      "Mean Squared Error: 6301.143994141938\n",
      "Root Mean Squared Error: 79.3797454905339\n",
      "R2 score:  0.7064698246797525\n",
      "Explained Variance Score:  0.7064742075043859\n",
      "Mean Absolute Percentage Error:  23723170726376.867\n",
      "(7944, 2)\n",
      "(7944, 2)\n",
      "MAPE:  1463.1520949799428\n",
      "\n",
      "\n",
      "--- small graphs for training, large graphs for testing ---\n",
      "\n",
      "### Performance Summarization of _regressorAlgorithm ###\n",
      "\n",
      "Mean Absolute Error: 115.95674152323174\n",
      "Mean Squared Error: 32511.966497378548\n",
      "Root Mean Squared Error: 180.31074981092655\n",
      "R2 score:  0.423239484451587\n",
      "Explained Variance Score:  0.4353088954452023\n",
      "Mean Absolute Percentage Error:  38260920910538.08\n",
      "(6656, 2)\n",
      "(6656, 2)\n",
      "MAPE:  1232.5678667519458\n",
      "\n",
      "### Performance Summarization of _regressorAlgorithm_KFold ###\n",
      "\n",
      "Mean Absolute Error (avg): 43.53596\n",
      "Mean Squared Error (avg): 6317.33655\n",
      "Root Mean Squared Error (avg): 60.93652\n",
      "R2 score (avg) 0.70697\n",
      "Explained Variance (avg): 0.70705\n",
      "Mean Absolute Percentage Error (avg): 23017811178941.94922\n"
     ]
    }
   ],
   "source": [
    "print(\"LINEAR REGRESSION ALGORITHM PERFORMANCE RESULTS ON MULTIPLE OUTPUT\")\n",
    "model = LinearRegression()\n",
    "y_pred_lr, y_test_lr = _regressorAlgorithm(model, x_train_mo, x_test_mo, y_train_mo, y_test_mo)\n",
    "print(\"\\n\\n--- small graphs for training, large graphs for testing ---\")\n",
    "y_pred_lr_mo_nd, y_test_lr_mo_nd = _regressorAlgorithm(model, x_train_mo_nd, x_test_mo_nd, y_train_mo_nd, y_test_mo_nd)\n",
    "_regressorAlgorithm_KFold(model, X_mo, y_mo)"
   ]
  },
  {
   "cell_type": "code",
   "execution_count": 30,
   "metadata": {},
   "outputs": [
    {
     "name": "stdout",
     "output_type": "stream",
     "text": [
      "KNEIGHBORS REGRESSION ALGORITHM PERFORMANCE RESULTS ON MULTIPLE OUTPUT\n",
      "\n",
      "### Performance Summarization of _regressorAlgorithm ###\n",
      "\n",
      "Mean Absolute Error: 6.83428822255789\n",
      "Mean Squared Error: 290.63660277430233\n",
      "Root Mean Squared Error: 17.048067420511405\n",
      "R2 score:  0.9594806417378138\n",
      "Explained Variance Score:  0.9598789186813522\n",
      "Mean Absolute Percentage Error:  12972317126066.326\n",
      "MAPE:  497.7560290536771\n",
      "\n",
      "\n",
      "--- small graphs for training, large graphs for testing ---\n",
      "\n",
      "### Performance Summarization of _regressorAlgorithm ###\n",
      "\n",
      "Mean Absolute Error: 190.52729872896595\n",
      "Mean Squared Error: 100535.07399625547\n",
      "Root Mean Squared Error: 317.07266359031246\n",
      "R2 score:  -0.1437576385808389\n",
      "Explained Variance Score:  0.4300371763213948\n",
      "Mean Absolute Percentage Error:  6766226.840438727\n",
      "MAPE:  143.88152482671384\n",
      "\n",
      "### Performance Summarization of _regressorAlgorithm_KFold ###\n",
      "\n",
      "Mean Absolute Error (avg): 6.48116\n",
      "Mean Squared Error (avg): 259.02290\n",
      "Root Mean Squared Error (avg): 13.28516\n",
      "R2 score (avg) 0.96240\n",
      "Explained Variance (avg): 0.96277\n",
      "Mean Absolute Percentage Error (avg): 12599501809598.57227\n"
     ]
    }
   ],
   "source": [
    "print(\"KNEIGHBORS REGRESSION ALGORITHM PERFORMANCE RESULTS ON MULTIPLE OUTPUT\")\n",
    "model = KNeighborsRegressor()\n",
    "y_pred_knr, y_test_knr = _regressorAlgorithm(model, x_train_mo, x_test_mo, y_train_mo, y_test_mo)\n",
    "print(\"\\n\\n--- small graphs for training, large graphs for testing ---\")\n",
    "y_pred_knr_mo_nd, y_test_knr_mo_nd = _regressorAlgorithm(model, x_train_mo_nd, x_test_mo_nd, y_train_mo_nd, y_test_mo_nd)\n",
    "_regressorAlgorithm_KFold(model, X_mo, y_mo)"
   ]
  },
  {
   "cell_type": "code",
   "execution_count": 31,
   "metadata": {},
   "outputs": [
    {
     "name": "stdout",
     "output_type": "stream",
     "text": [
      "RANDOM FOREST REGRESSION ALGORITHM PERFORMANCE RESULTS ON MULTIPLE OUTPUT\n",
      "\n",
      "### Performance Summarization of _regressorAlgorithm ###\n",
      "\n",
      "Mean Absolute Error: 2.151607625530262\n",
      "Mean Squared Error: 91.56865701730122\n",
      "Root Mean Squared Error: 9.569151321684762\n",
      "R2 score:  0.9893711508204175\n",
      "Explained Variance Score:  0.9893722674179711\n",
      "Mean Absolute Percentage Error:  359940732680.7515\n",
      "MAPE:  15.42766968312555\n",
      "\n",
      "\n",
      "--- small graphs for training, large graphs for testing ---\n",
      "\n",
      "### Performance Summarization of _regressorAlgorithm ###\n",
      "\n",
      "Mean Absolute Error: 118.7354489195394\n",
      "Mean Squared Error: 39791.214022327855\n",
      "Root Mean Squared Error: 199.47735215389204\n",
      "R2 score:  0.5998241939048825\n",
      "Explained Variance Score:  0.8582903067671774\n",
      "Mean Absolute Percentage Error:  17812088370.266453\n",
      "MAPE:  29.63647699895561\n"
     ]
    }
   ],
   "source": [
    "print(\"RANDOM FOREST REGRESSION ALGORITHM PERFORMANCE RESULTS ON MULTIPLE OUTPUT\")\n",
    "model = RandomForestRegressor(max_depth=1000, n_estimators=100, random_state=1)\n",
    "y_pred_rfr, y_test_rfr = _regressorAlgorithm(model, x_train_mo, x_test_mo, y_train_mo, y_test_mo)\n",
    "print(\"\\n\\n--- small graphs for training, large graphs for testing ---\")\n",
    "y_pred_rfr_mo_nd, y_test_rfr_mo_nd = _regressorAlgorithm(model, x_train_mo_nd, x_test_mo_nd, y_train_mo_nd, y_test_mo_nd)\n",
    "#_regressorAlgorithm_KFold(model, X_mo, y_mo)"
   ]
  },
  {
   "cell_type": "code",
   "execution_count": 32,
   "metadata": {},
   "outputs": [
    {
     "name": "stdout",
     "output_type": "stream",
     "text": [
      "DECISION TREE REGRESSION ALGORITHM PERFORMANCE RESULTS ON MULTIPLE OUTPUT\n",
      "\n",
      "### Performance Summarization of _regressorAlgorithm ###\n",
      "\n",
      "Mean Absolute Error: 2.446862204284149\n",
      "Mean Squared Error: 105.23938291930561\n",
      "Root Mean Squared Error: 10.258624806439975\n",
      "R2 score:  0.9879428466312078\n",
      "Explained Variance Score:  0.9879439862723103\n",
      "Mean Absolute Percentage Error:  267103595724.62274\n",
      "MAPE:  10.610289542316531\n",
      "\n",
      "\n",
      "--- small graphs for training, large graphs for testing ---\n",
      "\n",
      "### Performance Summarization of _regressorAlgorithm ###\n",
      "\n",
      "Mean Absolute Error: 120.02355227313701\n",
      "Mean Squared Error: 40202.90326230355\n",
      "Root Mean Squared Error: 200.5066165050509\n",
      "R2 score:  0.596144238345764\n",
      "Explained Variance Score:  0.8425798039018316\n",
      "Mean Absolute Percentage Error:  0.2870250913238438\n",
      "MAPE:  28.702509132384378\n"
     ]
    }
   ],
   "source": [
    "print(\"DECISION TREE REGRESSION ALGORITHM PERFORMANCE RESULTS ON MULTIPLE OUTPUT\")\n",
    "model = DecisionTreeRegressor(max_depth=1000, splitter=\"best\", criterion=\"mse\", min_samples_split=2)\n",
    "y_pred_dtr, y_test_dtr = _regressorAlgorithm(model, x_train_mo, x_test_mo, y_train_mo, y_test_mo)\n",
    "print(\"\\n\\n--- small graphs for training, large graphs for testing ---\")\n",
    "y_pred_dtr_mo_nd, y_test_dtr_mo_nd = _regressorAlgorithm(model, x_train_mo_nd, x_test_mo_nd, y_train_mo_nd, y_test_mo_nd)\n",
    "#_regressorAlgorithm_KFold(model, X_mo, y_mo)"
   ]
  },
  {
   "cell_type": "code",
   "execution_count": 33,
   "metadata": {},
   "outputs": [
    {
     "name": "stdout",
     "output_type": "stream",
     "text": [
      "MLP REGRESSION ALGORITHM PERFORMANCE RESULTS ON MULTIPLE OUTPUT\n",
      "\n",
      "### Performance Summarization of _regressorAlgorithm ###\n",
      "\n",
      "Mean Absolute Error: 40.82214929848098\n",
      "Mean Squared Error: 6466.58790075504\n",
      "Root Mean Squared Error: 80.41509746779543\n",
      "R2 score:  0.3984870705583446\n",
      "Explained Variance Score:  0.3997239120999623\n",
      "Mean Absolute Percentage Error:  116123636765120.98\n",
      "MAPE:  3039.8898329224958\n",
      "\n",
      "\n",
      "--- small graphs for training, large graphs for testing ---\n",
      "\n",
      "### Performance Summarization of _regressorAlgorithm ###\n",
      "\n",
      "Mean Absolute Error: 156.1765688031863\n",
      "Mean Squared Error: 56411.092434137434\n",
      "Root Mean Squared Error: 237.51019437939382\n",
      "R2 score:  -10.601731768164603\n",
      "Explained Variance Score:  -9.823248105512082\n",
      "Mean Absolute Percentage Error:  543466257938026.4\n",
      "MAPE:  27656.675302465566\n"
     ]
    }
   ],
   "source": [
    "print(\"MLP REGRESSION ALGORITHM PERFORMANCE RESULTS ON MULTIPLE OUTPUT\")\n",
    "model = MLPRegressor(hidden_layer_sizes=(4,8,4),activation=\"relu\" ,random_state=1, max_iter=50000)\n",
    "y_pred_mlpr, y_test_mlpr = _regressorAlgorithm(model, x_train_mo, x_test_mo, y_train_mo, y_test_mo)\n",
    "print(\"\\n\\n--- small graphs for training, large graphs for testing ---\")\n",
    "y_pred_mlpr_mo_nd, y_test_mlpr_mo_nd = _regressorAlgorithm(model, x_train_mo_nd, x_test_mo_nd, y_train_mo_nd, y_test_mo_nd)\n",
    "#_regressorAlgorithm_KFold(model, X_mo, y_mo)"
   ]
  },
  {
   "cell_type": "code",
   "execution_count": 34,
   "metadata": {},
   "outputs": [
    {
     "name": "stdout",
     "output_type": "stream",
     "text": [
      "MULTIOUTPUT REGRESSION ALGORITHM PERFORMANCE RESULTS ON MULTIPLE OUTPUT\n",
      "\n",
      "### Performance Summarization of _regressorAlgorithm ###\n",
      "\n",
      "Mean Absolute Error: 43.29540729228551\n",
      "Mean Squared Error: 6301.150094767646\n",
      "Root Mean Squared Error: 79.37978391736554\n",
      "R2 score:  0.706467841184427\n",
      "Explained Variance Score:  0.7064722252806279\n",
      "Mean Absolute Percentage Error:  23912078106188.992\n",
      "MAPE:  1462.880689162574\n",
      "\n",
      "\n",
      "--- small graphs for training, large graphs for testing ---\n",
      "\n",
      "### Performance Summarization of _regressorAlgorithm ###\n",
      "\n",
      "Mean Absolute Error: 115.95917697169266\n",
      "Mean Squared Error: 32513.53168682082\n",
      "Root Mean Squared Error: 180.31509001417717\n",
      "R2 score:  0.4232335087985196\n",
      "Explained Variance Score:  0.43530413506156934\n",
      "Mean Absolute Percentage Error:  38268066563642.97\n",
      "MAPE:  1232.9424414767243\n"
     ]
    }
   ],
   "source": [
    "print(\"MULTIOUTPUT REGRESSION ALGORITHM PERFORMANCE RESULTS ON MULTIPLE OUTPUT\")\n",
    "model = MultiOutputRegressor(Ridge(random_state=123))\n",
    "y_pred_mor, y_test_mor = _regressorAlgorithm(model, x_train_mo, x_test_mo, y_train_mo, y_test_mo)\n",
    "print(\"\\n\\n--- small graphs for training, large graphs for testing ---\")\n",
    "y_pred_mor_mo_nd, y_test_mor_mo_nd = _regressorAlgorithm(model, x_train_mo_nd, x_test_mo_nd, y_train_mo_nd, y_test_mo_nd)\n",
    "#_regressorAlgorithm_KFold(model, X_mo, y_mo)"
   ]
  },
  {
   "cell_type": "markdown",
   "metadata": {},
   "source": [
    "# Predict Single Output - Execution"
   ]
  },
  {
   "cell_type": "code",
   "execution_count": 51,
   "metadata": {},
   "outputs": [],
   "source": [
    "X_sox = df1.drop(['executionTime', 'Error'],axis=1)\n",
    "y_sox = df1[['executionTime']]\n",
    "X_sox = X_sox.values\n",
    "\n",
    "#split the data randomly\n",
    "x_train_sox, x_test_sox, y_train_sox, y_test_sox = train_test_split(X_sox, y_sox, test_size=0.2, random_state=13)\n",
    "\n",
    "#split data - small graphs for training, large graphs for testing\n",
    "a = df1.loc[(df1['graphSize'] != 32) | (df1['sOriginalDistance'] == 1)]\n",
    "b = df1.loc[(df1['graphSize'] == 32) & (df1['sOriginalDistance'] == 0)]\n",
    "x_train_sox_nd = a.drop(['executionTime', 'Error'],axis=1)\n",
    "y_train_sox_nd = a[['executionTime']]\n",
    "x_test_sox_nd = b.drop(['executionTime', 'Error'],axis=1)\n",
    "y_test_sox_nd = b[['executionTime']]"
   ]
  },
  {
   "cell_type": "code",
   "execution_count": 52,
   "metadata": {},
   "outputs": [
    {
     "name": "stdout",
     "output_type": "stream",
     "text": [
      "LINEAR REGRESSION ALGORITHM PERFORMANCE RESULTS ON SINGLE OUTPUT EXECUTION\n",
      "\n",
      "### Performance Summarization of _regressorAlgorithm ###\n",
      "\n",
      "Mean Absolute Error: 78.60858888499118\n",
      "Mean Squared Error: 12503.88243804214\n",
      "Root Mean Squared Error: 111.82076031776094\n",
      "R2 score:  0.7799347979488677\n",
      "Explained Variance Score:  0.7799349337934924\n",
      "Mean Absolute Percentage Error:  5.357850929487972\n",
      "\n",
      "\n",
      "--- small graphs for training, large graphs for testing ---\n",
      "\n",
      "### Performance Summarization of _regressorAlgorithm ###\n",
      "\n",
      "Mean Absolute Error: 223.21519697997226\n",
      "Mean Squared Error: 64901.635386231355\n",
      "Root Mean Squared Error: 254.75799376316212\n",
      "R2 score:  0.39149614114842946\n",
      "Explained Variance Score:  0.3956989418088883\n",
      "Mean Absolute Percentage Error:  2.9607921754212905\n",
      "\n",
      "### Performance Summarization of _regressorAlgorithm_KFold ###\n",
      "\n",
      "Mean Absolute Error (avg): 79.07419\n",
      "Mean Squared Error (avg): 12536.17455\n",
      "Root Mean Squared Error (avg): 111.94887\n",
      "R2 score (avg) 0.78120\n",
      "Explained Variance (avg): 0.78124\n",
      "Mean Absolute Percentage Error (avg): 5.52833\n"
     ]
    }
   ],
   "source": [
    "print(\"LINEAR REGRESSION ALGORITHM PERFORMANCE RESULTS ON SINGLE OUTPUT EXECUTION\")\n",
    "model = LinearRegression()\n",
    "y_pred_lr_sox, y_test_lr_sox = _regressorAlgorithm(model, x_train_sox, x_test_sox, y_train_sox, y_test_sox)\n",
    "print(\"\\n\\n--- small graphs for training, large graphs for testing ---\")\n",
    "y_pred_lr_sox_nd, y_test_lr_sox_nd = _regressorAlgorithm(model, x_train_sox_nd, x_test_sox_nd, y_train_sox_nd, y_test_sox_nd)\n",
    "_regressorAlgorithm_KFold(model, X_sox, y_sox)"
   ]
  },
  {
   "cell_type": "code",
   "execution_count": 53,
   "metadata": {},
   "outputs": [
    {
     "name": "stdout",
     "output_type": "stream",
     "text": [
      "KNEIGHBORS REGRESSION ALGORITHM PERFORMANCE RESULTS ON SINGLE OUTPUT EXECUTION\n",
      "\n",
      "### Performance Summarization of _regressorAlgorithm ###\n",
      "\n",
      "Mean Absolute Error: 10.738521291540785\n",
      "Mean Squared Error: 562.1967035727897\n",
      "Root Mean Squared Error: 23.710687539014756\n",
      "R2 score:  0.9901054786961354\n",
      "Explained Variance Score:  0.9901304388877623\n",
      "Mean Absolute Percentage Error:  0.07660717623072895\n",
      "\n",
      "\n",
      "--- small graphs for training, large graphs for testing ---\n",
      "\n",
      "### Performance Summarization of _regressorAlgorithm ###\n",
      "\n",
      "Mean Absolute Error: 374.14752323918276\n",
      "Mean Squared Error: 200979.67916300517\n",
      "Root Mean Squared Error: 448.3075720562895\n",
      "R2 score:  -0.8843425068358768\n",
      "Explained Variance Score:  0.24271959732304982\n",
      "Mean Absolute Percentage Error:  0.7838873345703958\n",
      "\n",
      "### Performance Summarization of _regressorAlgorithm_KFold ###\n",
      "\n",
      "Mean Absolute Error (avg): 10.16477\n",
      "Mean Squared Error (avg): 500.22090\n",
      "Root Mean Squared Error (avg): 22.34888\n",
      "R2 score (avg) 0.99127\n",
      "Explained Variance (avg): 0.99130\n",
      "Mean Absolute Percentage Error (avg): 0.07026\n"
     ]
    }
   ],
   "source": [
    "print(\"KNEIGHBORS REGRESSION ALGORITHM PERFORMANCE RESULTS ON SINGLE OUTPUT EXECUTION\")\n",
    "model = KNeighborsRegressor()\n",
    "y_pred_knr_sox, y_test_knr_sox = _regressorAlgorithm(model, x_train_sox, x_test_sox, y_train_sox, y_test_sox)\n",
    "print(\"\\n\\n--- small graphs for training, large graphs for testing ---\")\n",
    "y_pred_knr_sox_nd, y_test_knr_sox_nd = _regressorAlgorithm(model, x_train_sox_nd, x_test_sox_nd, y_train_sox_nd, y_test_sox_nd)\n",
    "_regressorAlgorithm_KFold(model, X_sox, y_sox)"
   ]
  },
  {
   "cell_type": "code",
   "execution_count": 68,
   "metadata": {},
   "outputs": [
    {
     "name": "stdout",
     "output_type": "stream",
     "text": [
      "RANDOM FOREST REGRESSION ALGORITHM PERFORMANCE RESULTS ON SINGLE OUTPUT EXECUTION\n"
     ]
    },
    {
     "name": "stderr",
     "output_type": "stream",
     "text": [
      "<ipython-input-50-acf1557e2151>:45: DataConversionWarning: A column-vector y was passed when a 1d array was expected. Please change the shape of y to (n_samples,), for example using ravel().\n",
      "  model.fit(x_train, y_train)\n"
     ]
    },
    {
     "name": "stdout",
     "output_type": "stream",
     "text": [
      "\n",
      "### Performance Summarization of _regressorAlgorithm ###\n",
      "\n",
      "Mean Absolute Error: 3.5268705109616185\n",
      "Mean Squared Error: 177.71746484631566\n",
      "Root Mean Squared Error: 13.331071406541774\n",
      "R2 score:  0.9968722170891153\n",
      "Explained Variance Score:  0.9968722573728402\n",
      "Mean Absolute Percentage Error:  0.01856863445833698\n",
      "\n",
      "\n",
      "--- small graphs for training, large graphs for testing ---\n"
     ]
    },
    {
     "name": "stderr",
     "output_type": "stream",
     "text": [
      "<ipython-input-50-acf1557e2151>:45: DataConversionWarning: A column-vector y was passed when a 1d array was expected. Please change the shape of y to (n_samples,), for example using ravel().\n",
      "  model.fit(x_train, y_train)\n"
     ]
    },
    {
     "name": "stdout",
     "output_type": "stream",
     "text": [
      "\n",
      "### Performance Summarization of _regressorAlgorithm ###\n",
      "\n",
      "Mean Absolute Error: 235.91860049343282\n",
      "Mean Squared Error: 79835.4781570572\n",
      "Root Mean Squared Error: 282.551726515796\n",
      "R2 score:  0.2514796238534277\n",
      "Explained Variance Score:  0.7732316264033323\n",
      "Mean Absolute Percentage Error:  0.42916702544913937\n"
     ]
    }
   ],
   "source": [
    "print(\"RANDOM FOREST REGRESSION ALGORITHM PERFORMANCE RESULTS ON SINGLE OUTPUT EXECUTION\")\n",
    "model = RandomForestRegressor(max_depth=1000, n_estimators=100, random_state=1)\n",
    "y_pred_rfr_sox, y_test_rfr_sox = _regressorAlgorithm(model, x_train_sox, x_test_sox, y_train_sox, y_test_sox)\n",
    "print(\"\\n\\n--- small graphs for training, large graphs for testing ---\")\n",
    "y_pred_rfr_sox_nd, y_test_rfr_sox_nd = _regressorAlgorithm(model, x_train_sox_nd, x_test_sox_nd, y_train_sox_nd, y_test_sox_nd)\n",
    "#_regressorAlgorithm_KFold(model, X_sox, y_sox)"
   ]
  },
  {
   "cell_type": "code",
   "execution_count": 55,
   "metadata": {},
   "outputs": [
    {
     "name": "stdout",
     "output_type": "stream",
     "text": [
      "DECISION TREE REGRESSION ALGORITHM PERFORMANCE RESULTS ON SINGLE OUTPUT EXECUTION\n",
      "\n",
      "### Performance Summarization of _regressorAlgorithm ###\n",
      "\n",
      "Mean Absolute Error: 4.104553128776435\n",
      "Mean Squared Error: 206.84853356935565\n",
      "Root Mean Squared Error: 14.382229784333013\n",
      "R2 score:  0.9963595175690849\n",
      "Explained Variance Score:  0.9963595706512506\n",
      "Mean Absolute Percentage Error:  0.021428623028435335\n",
      "\n",
      "\n",
      "--- small graphs for training, large graphs for testing ---\n",
      "\n",
      "### Performance Summarization of _regressorAlgorithm ###\n",
      "\n",
      "Mean Absolute Error: 236.30936769831732\n",
      "Mean Squared Error: 80464.5768515542\n",
      "Root Mean Squared Error: 283.662787216713\n",
      "R2 score:  0.24558132898116747\n",
      "Explained Variance Score:  0.7399975832998598\n",
      "Mean Absolute Percentage Error:  0.42985210380860983\n"
     ]
    }
   ],
   "source": [
    "print(\"DECISION TREE REGRESSION ALGORITHM PERFORMANCE RESULTS ON SINGLE OUTPUT EXECUTION\")\n",
    "model = DecisionTreeRegressor(max_depth=1000, splitter=\"best\", criterion=\"mse\", min_samples_split=2)\n",
    "y_pred_dtr_sox, y_test_dtr_sox = _regressorAlgorithm(model, x_train_sox, x_test_sox, y_train_sox, y_test_sox)\n",
    "print(\"\\n\\n--- small graphs for training, large graphs for testing ---\")\n",
    "y_pred_dtr_sox_nd, y_test_dtr_sox_nd = _regressorAlgorithm(model, x_train_sox_nd, x_test_sox_nd, y_train_sox_nd, y_test_sox_nd)\n",
    "#_regressorAlgorithm_KFold(model, X_sox, y_sox)"
   ]
  },
  {
   "cell_type": "code",
   "execution_count": 56,
   "metadata": {},
   "outputs": [
    {
     "name": "stdout",
     "output_type": "stream",
     "text": [
      "MLP REGRESSION ALGORITHM PERFORMANCE RESULTS ON SINGLE OUTPUT EXECUTION\n"
     ]
    },
    {
     "name": "stderr",
     "output_type": "stream",
     "text": [
      "/home/buse/anaconda3/lib/python3.8/site-packages/sklearn/utils/validation.py:63: DataConversionWarning: A column-vector y was passed when a 1d array was expected. Please change the shape of y to (n_samples, ), for example using ravel().\n",
      "  return f(*args, **kwargs)\n"
     ]
    },
    {
     "name": "stdout",
     "output_type": "stream",
     "text": [
      "\n",
      "### Performance Summarization of _regressorAlgorithm ###\n",
      "\n",
      "Mean Absolute Error: 78.30462859646943\n",
      "Mean Squared Error: 16175.493330580814\n",
      "Root Mean Squared Error: 127.18291288762344\n",
      "R2 score:  0.715315364990877\n",
      "Explained Variance Score:  0.7153710466372847\n",
      "Mean Absolute Percentage Error:  1.7685165713630142\n",
      "\n",
      "\n",
      "--- small graphs for training, large graphs for testing ---\n"
     ]
    },
    {
     "name": "stderr",
     "output_type": "stream",
     "text": [
      "/home/buse/anaconda3/lib/python3.8/site-packages/sklearn/utils/validation.py:63: DataConversionWarning: A column-vector y was passed when a 1d array was expected. Please change the shape of y to (n_samples, ), for example using ravel().\n",
      "  return f(*args, **kwargs)\n"
     ]
    },
    {
     "name": "stdout",
     "output_type": "stream",
     "text": [
      "\n",
      "### Performance Summarization of _regressorAlgorithm ###\n",
      "\n",
      "Mean Absolute Error: 261.1389610698077\n",
      "Mean Squared Error: 100231.05736909473\n",
      "Root Mean Squared Error: 316.59288900588837\n",
      "R2 score:  0.060255033283701964\n",
      "Explained Variance Score:  0.0868377311228864\n",
      "Mean Absolute Percentage Error:  2.7512066211982824\n"
     ]
    }
   ],
   "source": [
    "print(\"MLP REGRESSION ALGORITHM PERFORMANCE RESULTS ON SINGLE OUTPUT EXECUTION\")\n",
    "model = MLPRegressor(hidden_layer_sizes=(4,8,4),activation=\"relu\" ,random_state=1, max_iter=50000)\n",
    "y_pred_mlpr_sox, y_test_mlpr_sox = _regressorAlgorithm(model, x_train_sox, x_test_sox, y_train_sox, y_test_sox)\n",
    "print(\"\\n\\n--- small graphs for training, large graphs for testing ---\")\n",
    "y_pred_mlpr_sox_nd, y_test_mlpr_sox_nd = _regressorAlgorithm(model, x_train_sox_nd, x_test_sox_nd, y_train_sox_nd, y_test_sox_nd)\n",
    "#_regressorAlgorithm_KFold(model, X_sox, y_sox)"
   ]
  },
  {
   "cell_type": "code",
   "execution_count": 57,
   "metadata": {},
   "outputs": [
    {
     "name": "stdout",
     "output_type": "stream",
     "text": [
      "MULTIOUTPUT REGRESSION ALGORITHM PERFORMANCE RESULTS ON SINGLE OUTPUT EXECUTION\n",
      "\n",
      "### Performance Summarization of _regressorAlgorithm ###\n",
      "\n",
      "Mean Absolute Error: 78.6055665709657\n",
      "Mean Squared Error: 12503.89362839962\n",
      "Root Mean Squared Error: 111.82081035477977\n",
      "R2 score:  0.7799346010013762\n",
      "Explained Variance Score:  0.7799347363881266\n",
      "Mean Absolute Percentage Error:  5.357511317938575\n",
      "\n",
      "\n",
      "--- small graphs for training, large graphs for testing ---\n",
      "\n",
      "### Performance Summarization of _regressorAlgorithm ###\n",
      "\n",
      "Mean Absolute Error: 223.22046088093273\n",
      "Mean Squared Error: 64904.76967742489\n",
      "Root Mean Squared Error: 254.76414519595352\n",
      "R2 score:  0.39146675470424075\n",
      "Explained Variance Score:  0.39567107582443595\n",
      "Mean Absolute Percentage Error:  2.960868535462173\n"
     ]
    }
   ],
   "source": [
    "print(\"MULTIOUTPUT REGRESSION ALGORITHM PERFORMANCE RESULTS ON SINGLE OUTPUT EXECUTION\")\n",
    "model = MultiOutputRegressor(Ridge(random_state=123))\n",
    "y_pred_mor_sox, y_test_mor_sox = _regressorAlgorithm(model, x_train_sox, x_test_sox, y_train_sox, y_test_sox)\n",
    "print(\"\\n\\n--- small graphs for training, large graphs for testing ---\")\n",
    "y_pred_mor_sox_nd, y_test_mor_sox_nd = _regressorAlgorithm(model, x_train_sox_nd, x_test_sox_nd, y_train_sox_nd, y_test_sox_nd)\n",
    "#_regressorAlgorithm_KFold(model, X_sox, y_sox)"
   ]
  },
  {
   "cell_type": "markdown",
   "metadata": {},
   "source": [
    "# Predict Single Output - Error "
   ]
  },
  {
   "cell_type": "code",
   "execution_count": 60,
   "metadata": {},
   "outputs": [],
   "source": [
    "X_soe = df1.drop(['executionTime', 'Error'],axis=1)\n",
    "y_soe = df1[['Error']]\n",
    "X_soe = X_soe.values\n",
    "\n",
    "#split the data randomly\n",
    "x_train_soe, x_test_soe, y_train_soe, y_test_soe = train_test_split(X_soe, y_soe, test_size=0.2, random_state=13)\n",
    "\n",
    "#split data - small graphs for training, large graphs for testing\n",
    "a = df1.loc[(df1['graphSize'] != 32) | (df1['sOriginalDistance'] == 1)]\n",
    "b = df1.loc[(df1['graphSize'] == 32) & (df1['sOriginalDistance'] == 0)]\n",
    "x_train_soe_nd = a.drop(['executionTime', 'Error'],axis=1)\n",
    "y_train_soe_nd = a[['Error']]\n",
    "x_test_soe_nd = b.drop(['executionTime', 'Error'],axis=1)\n",
    "y_test_soe_nd = b[['Error']]"
   ]
  },
  {
   "cell_type": "code",
   "execution_count": 61,
   "metadata": {},
   "outputs": [
    {
     "name": "stdout",
     "output_type": "stream",
     "text": [
      "LINEAR REGRESSION ALGORITHM PERFORMANCE RESULTS ON SINGLE OUTPUT ERROR\n",
      "\n",
      "### Performance Summarization of _regressorAlgorithm ###\n",
      "\n",
      "Mean Absolute Error: 7.985164812702663\n",
      "Mean Squared Error: 98.40555024173175\n",
      "Root Mean Squared Error: 9.919957169349662\n",
      "R2 score:  0.6330048514106378\n",
      "Explained Variance Score:  0.6330134812152786\n",
      "Mean Absolute Percentage Error:  47446341452748.82\n",
      "\n",
      "\n",
      "--- small graphs for training, large graphs for testing ---\n",
      "\n",
      "### Performance Summarization of _regressorAlgorithm ###\n",
      "\n",
      "Mean Absolute Error: 8.69828606649093\n",
      "Mean Squared Error: 122.29760852593235\n",
      "Root Mean Squared Error: 11.058824916144227\n",
      "R2 score:  0.4549828277547452\n",
      "Explained Variance Score:  0.4749188490815184\n",
      "Mean Absolute Percentage Error:  76521841821072.6\n",
      "\n",
      "### Performance Summarization of _regressorAlgorithm_KFold ###\n",
      "\n",
      "Mean Absolute Error (avg): 7.99773\n",
      "Mean Squared Error (avg): 98.49856\n",
      "Root Mean Squared Error (avg): 9.92416\n",
      "R2 score (avg) 0.63273\n",
      "Explained Variance (avg): 0.63285\n",
      "Mean Absolute Percentage Error (avg): 46035622357878.82031\n"
     ]
    }
   ],
   "source": [
    "print(\"LINEAR REGRESSION ALGORITHM PERFORMANCE RESULTS ON SINGLE OUTPUT ERROR\")\n",
    "model = LinearRegression()\n",
    "y_pred_lr_soe, y_test_lr_soe = _regressorAlgorithm(model, x_train_soe, x_test_soe, y_train_soe, y_test_soe)\n",
    "print(\"\\n\\n--- small graphs for training, large graphs for testing ---\")\n",
    "y_pred_lr_soe_nd, y_test_lr_soe_nd = _regressorAlgorithm(model, x_train_soe_nd, x_test_soe_nd, y_train_soe_nd, y_test_soe_nd)\n",
    "_regressorAlgorithm_KFold(model, X_soe, y_soe)"
   ]
  },
  {
   "cell_type": "code",
   "execution_count": 62,
   "metadata": {},
   "outputs": [
    {
     "name": "stdout",
     "output_type": "stream",
     "text": [
      "KNEIGHBORS REGRESSION ALGORITHM PERFORMANCE RESULTS ON SINGLE OUTPUT ERROR\n",
      "\n",
      "### Performance Summarization of _regressorAlgorithm ###\n",
      "\n",
      "Mean Absolute Error: 2.930055153575025\n",
      "Mean Squared Error: 19.07650197581435\n",
      "Root Mean Squared Error: 4.367665506402059\n",
      "R2 score:  0.9288558047794923\n",
      "Explained Variance Score:  0.9296273984749437\n",
      "Mean Absolute Percentage Error:  25944634252132.75\n",
      "\n",
      "\n",
      "--- small graphs for training, large graphs for testing ---\n",
      "\n",
      "### Performance Summarization of _regressorAlgorithm ###\n",
      "\n",
      "Mean Absolute Error: 6.907074218750001\n",
      "Mean Squared Error: 90.46882950585758\n",
      "Root Mean Squared Error: 9.511510369329237\n",
      "R2 score:  0.5968272296741979\n",
      "Explained Variance Score:  0.6173547553197432\n",
      "Mean Absolute Percentage Error:  13532452.896989848\n",
      "\n",
      "### Performance Summarization of _regressorAlgorithm_KFold ###\n",
      "\n",
      "Mean Absolute Error (avg): 2.79755\n",
      "Mean Squared Error (avg): 17.82490\n",
      "Root Mean Squared Error (avg): 4.22145\n",
      "R2 score (avg) 0.93353\n",
      "Explained Variance (avg): 0.93424\n",
      "Mean Absolute Percentage Error (avg): 25199003619197.21484\n"
     ]
    }
   ],
   "source": [
    "print(\"KNEIGHBORS REGRESSION ALGORITHM PERFORMANCE RESULTS ON SINGLE OUTPUT ERROR\")\n",
    "model = KNeighborsRegressor()\n",
    "y_pred_knr_soe, y_test_knr_soe = _regressorAlgorithm(model, x_train_soe, x_test_soe, y_train_soe, y_test_soe)\n",
    "print(\"\\n\\n--- small graphs for training, large graphs for testing ---\")\n",
    "y_pred_knr_soe_nd, y_test_knr_soe_nd = _regressorAlgorithm(model, x_train_soe_nd, x_test_soe_nd, y_train_soe_nd, y_test_soe_nd)\n",
    "_regressorAlgorithm_KFold(model, X_soe, y_soe)"
   ]
  },
  {
   "cell_type": "code",
   "execution_count": 63,
   "metadata": {},
   "outputs": [
    {
     "name": "stdout",
     "output_type": "stream",
     "text": [
      "RANDOM FOREST REGRESSION ALGORITHM PERFORMANCE RESULTS ON SINGLE OUTPUT ERROR\n"
     ]
    },
    {
     "name": "stderr",
     "output_type": "stream",
     "text": [
      "<ipython-input-50-acf1557e2151>:45: DataConversionWarning: A column-vector y was passed when a 1d array was expected. Please change the shape of y to (n_samples,), for example using ravel().\n",
      "  model.fit(x_train, y_train)\n"
     ]
    },
    {
     "name": "stdout",
     "output_type": "stream",
     "text": [
      "\n",
      "### Performance Summarization of _regressorAlgorithm ###\n",
      "\n",
      "Mean Absolute Error: 0.4704840696177987\n",
      "Mean Squared Error: 4.3768135930962355\n",
      "Root Mean Squared Error: 2.092083553086787\n",
      "R2 score:  0.9836770451361685\n",
      "Explained Variance Score:  0.9836785476828556\n",
      "Mean Absolute Percentage Error:  130958146.2958586\n",
      "\n",
      "\n",
      "--- small graphs for training, large graphs for testing ---\n"
     ]
    },
    {
     "name": "stderr",
     "output_type": "stream",
     "text": [
      "<ipython-input-50-acf1557e2151>:45: DataConversionWarning: A column-vector y was passed when a 1d array was expected. Please change the shape of y to (n_samples,), for example using ravel().\n",
      "  model.fit(x_train, y_train)\n"
     ]
    },
    {
     "name": "stdout",
     "output_type": "stream",
     "text": [
      "\n",
      "### Performance Summarization of _regressorAlgorithm ###\n",
      "\n",
      "Mean Absolute Error: 2.934782948044088\n",
      "Mean Squared Error: 16.56016795471688\n",
      "Root Mean Squared Error: 4.069418626132839\n",
      "R2 score:  0.9261998985967704\n",
      "Explained Variance Score:  0.926288912416843\n",
      "Mean Absolute Percentage Error:  77811592.2450326\n"
     ]
    }
   ],
   "source": [
    "print(\"RANDOM FOREST REGRESSION ALGORITHM PERFORMANCE RESULTS ON SINGLE OUTPUT ERROR\")\n",
    "model = RandomForestRegressor(max_depth=1000, n_estimators=100, random_state=1)\n",
    "y_pred_rfr_soe, y_test_rfr_soe = _regressorAlgorithm(model, x_train_soe, x_test_soe, y_train_soe, y_test_soe)\n",
    "print(\"\\n\\n--- small graphs for training, large graphs for testing ---\")\n",
    "y_pred_rfr_soe_nd, y_test_rfr_soe_nd = _regressorAlgorithm(model, x_train_soe_nd, x_test_soe_nd, y_train_soe_nd, y_test_soe_nd)\n",
    "#_regressorAlgorithm_KFold(model, X_soe, y_soe)"
   ]
  },
  {
   "cell_type": "code",
   "execution_count": 64,
   "metadata": {},
   "outputs": [
    {
     "name": "stdout",
     "output_type": "stream",
     "text": [
      "DECISION TREE REGRESSION ALGORITHM PERFORMANCE RESULTS ON SINGLE OUTPUT ERROR\n",
      "\n",
      "### Performance Summarization of _regressorAlgorithm ###\n",
      "\n",
      "Mean Absolute Error: 0.4685386528617204\n",
      "Mean Squared Error: 4.608390627973234\n",
      "Root Mean Squared Error: 2.146716243003074\n",
      "R2 score:  0.9828133982370272\n",
      "Explained Variance Score:  0.9828146859659961\n",
      "Mean Absolute Percentage Error:  170075514.65978175\n",
      "\n",
      "\n",
      "--- small graphs for training, large graphs for testing ---\n",
      "\n",
      "### Performance Summarization of _regressorAlgorithm ###\n",
      "\n",
      "Mean Absolute Error: 3.1465757151442277\n",
      "Mean Squared Error: 20.36086378253124\n",
      "Root Mean Squared Error: 4.512301384275128\n",
      "R2 score:  0.9092621635289544\n",
      "Explained Variance Score:  0.9095101832197485\n",
      "Mean Absolute Percentage Error:  0.13313840398391735\n"
     ]
    }
   ],
   "source": [
    "print(\"DECISION TREE REGRESSION ALGORITHM PERFORMANCE RESULTS ON SINGLE OUTPUT ERROR\")\n",
    "model = DecisionTreeRegressor(max_depth=1000, splitter=\"best\", criterion=\"mse\", min_samples_split=2)\n",
    "y_pred_dtr_soe, y_test_dtr_soe = _regressorAlgorithm(model, x_train_soe, x_test_soe, y_train_soe, y_test_soe)\n",
    "print(\"\\n\\n--- small graphs for training, large graphs for testing ---\")\n",
    "y_pred_dtr_soe_nd, y_test_dtr_soe_nd = _regressorAlgorithm(model, x_train_soe_nd, x_test_soe_nd, y_train_soe_nd, y_test_soe_nd)\n",
    "#_regressorAlgorithm_KFold(model, X_soe, y_soe)"
   ]
  },
  {
   "cell_type": "code",
   "execution_count": 65,
   "metadata": {},
   "outputs": [
    {
     "name": "stdout",
     "output_type": "stream",
     "text": [
      "MLP REGRESSION ALGORITHM PERFORMANCE RESULTS ON SINGLE OUTPUT ERROR\n"
     ]
    },
    {
     "name": "stderr",
     "output_type": "stream",
     "text": [
      "/home/buse/anaconda3/lib/python3.8/site-packages/sklearn/utils/validation.py:63: DataConversionWarning: A column-vector y was passed when a 1d array was expected. Please change the shape of y to (n_samples, ), for example using ravel().\n",
      "  return f(*args, **kwargs)\n"
     ]
    },
    {
     "name": "stdout",
     "output_type": "stream",
     "text": [
      "\n",
      "### Performance Summarization of _regressorAlgorithm ###\n",
      "\n",
      "Mean Absolute Error: 9.196089568783094\n",
      "Mean Squared Error: 131.89666840468084\n",
      "Root Mean Squared Error: 11.484627482190305\n",
      "R2 score:  0.5081025683946641\n",
      "Explained Variance Score:  0.5089045010344985\n",
      "Mean Absolute Percentage Error:  110799871774549.73\n",
      "\n",
      "\n",
      "--- small graphs for training, large graphs for testing ---\n"
     ]
    },
    {
     "name": "stderr",
     "output_type": "stream",
     "text": [
      "/home/buse/anaconda3/lib/python3.8/site-packages/sklearn/utils/validation.py:63: DataConversionWarning: A column-vector y was passed when a 1d array was expected. Please change the shape of y to (n_samples, ), for example using ravel().\n",
      "  return f(*args, **kwargs)\n"
     ]
    },
    {
     "name": "stdout",
     "output_type": "stream",
     "text": [
      "\n",
      "### Performance Summarization of _regressorAlgorithm ###\n",
      "\n",
      "Mean Absolute Error: 9.086768251446811\n",
      "Mean Squared Error: 130.52945223391762\n",
      "Root Mean Squared Error: 11.42494867532969\n",
      "R2 score:  0.4182977589772988\n",
      "Explained Variance Score:  0.4332947550235846\n",
      "Mean Absolute Percentage Error:  145495445165744.56\n"
     ]
    }
   ],
   "source": [
    "print(\"MLP REGRESSION ALGORITHM PERFORMANCE RESULTS ON SINGLE OUTPUT ERROR\")\n",
    "model = MLPRegressor(hidden_layer_sizes=(4,8,4),activation=\"relu\" ,random_state=1, max_iter=50000)\n",
    "y_pred_mlpr_soe, y_test_mlpr_soe = _regressorAlgorithm(model, x_train_soe, x_test_soe, y_train_soe, y_test_soe)\n",
    "print(\"\\n\\n--- small graphs for training, large graphs for testing ---\")\n",
    "y_pred_mlpr_soe_nd, y_test_mlpr_soe_nd = _regressorAlgorithm(model, x_train_soe_nd, x_test_soe_nd, y_train_soe_nd, y_test_soe_nd)\n",
    "#_regressorAlgorithm_KFold(model, X_soe, y_soe)"
   ]
  },
  {
   "cell_type": "code",
   "execution_count": 66,
   "metadata": {},
   "outputs": [
    {
     "name": "stdout",
     "output_type": "stream",
     "text": [
      "MULTIOUTPUT REGRESSION ALGORITHM PERFORMANCE RESULTS ON SINGLE OUTPUT ERROR\n",
      "\n",
      "### Performance Summarization of _regressorAlgorithm ###\n",
      "\n",
      "Mean Absolute Error: 7.985248013605315\n",
      "Mean Squared Error: 98.40656113567145\n",
      "Root Mean Squared Error: 9.920008121754309\n",
      "R2 score:  0.6330010813674776\n",
      "Explained Variance Score:  0.6330097141731292\n",
      "Mean Absolute Percentage Error:  47824156212372.625\n",
      "\n",
      "\n",
      "--- small graphs for training, large graphs for testing ---\n",
      "\n",
      "### Performance Summarization of _regressorAlgorithm ###\n",
      "\n",
      "Mean Absolute Error: 8.697893062452586\n",
      "Mean Squared Error: 122.29369621674866\n",
      "Root Mean Squared Error: 11.058648028432257\n",
      "R2 score:  0.4550002628927985\n",
      "Explained Variance Score:  0.47493719429870274\n",
      "Mean Absolute Percentage Error:  76536133127282.98\n"
     ]
    }
   ],
   "source": [
    "print(\"MULTIOUTPUT REGRESSION ALGORITHM PERFORMANCE RESULTS ON SINGLE OUTPUT ERROR\")\n",
    "model = MultiOutputRegressor(Ridge(random_state=123))\n",
    "y_pred_mor_soe, y_test_mor_soe = _regressorAlgorithm(model, x_train_soe, x_test_soe, y_train_soe, y_test_soe)\n",
    "print(\"\\n\\n--- small graphs for training, large graphs for testing ---\")\n",
    "y_pred_mor_soe_nd, y_test_mor_soe_nd = _regressorAlgorithm(model, x_train_soe_nd, x_test_soe_nd, y_train_soe_nd, y_test_soe_nd)\n",
    "#_regressorAlgorithm_KFold(model, X_soe, y_soe)"
   ]
  },
  {
   "cell_type": "code",
   "execution_count": null,
   "metadata": {},
   "outputs": [],
   "source": []
  }
 ],
 "metadata": {
  "kernelspec": {
   "display_name": "Python 3",
   "language": "python",
   "name": "python3"
  },
  "language_info": {
   "codemirror_mode": {
    "name": "ipython",
    "version": 3
   },
   "file_extension": ".py",
   "mimetype": "text/x-python",
   "name": "python",
   "nbconvert_exporter": "python",
   "pygments_lexer": "ipython3",
   "version": "3.8.3"
  }
 },
 "nbformat": 4,
 "nbformat_minor": 4
}
