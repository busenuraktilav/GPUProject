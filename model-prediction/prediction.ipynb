{
 "cells": [
  {
   "cell_type": "code",
   "execution_count": 1,
   "metadata": {},
   "outputs": [],
   "source": [
    "import pandas as pd\n",
    "import matplotlib.pyplot as plt\n",
    "import matplotlib.path as mpath\n",
    "import numpy as np\n",
    "from numpy import absolute, mean, std\n",
    "from sklearn import preprocessing, metrics\n",
    "from sklearn.metrics import r2_score, mean_squared_error, mean_absolute_percentage_error, mean_absolute_error, explained_variance_score\n",
    "from sklearn.model_selection import train_test_split, cross_val_score, RepeatedKFold, KFold, validation_curve\n",
    "from sklearn.linear_model import LinearRegression, Ridge\n",
    "from sklearn.neighbors import KNeighborsRegressor\n",
    "from sklearn.tree import DecisionTreeRegressor\n",
    "from sklearn.neural_network import MLPRegressor\n",
    "from sklearn.multioutput import MultiOutputRegressor\n",
    "from sklearn.preprocessing import StandardScaler, OneHotEncoder;\n",
    "from sklearn.ensemble import RandomForestRegressor"
   ]
  },
  {
   "cell_type": "code",
   "execution_count": 234,
   "metadata": {},
   "outputs": [],
   "source": [
    "def readCSVFiles():\n",
    "\n",
    "    df01 = pd.read_csv(\"bellman_performance_results.csv\")\n",
    "    df02 = pd.read_csv(\"dijkstra_performance_results.csv\")\n",
    "    df03 = pd.read_csv(\"hybrid_performance_results.csv\")\n",
    "\n",
    "    return df01, df02, df03\n",
    "\n",
    "def combineAlgorithmsToFile(df01, df02, df03):\n",
    "    df01['AlgoBellman'] = 1\n",
    "    df01['AlgoDijkstra'] = 0\n",
    "    df01['AlgoHybrid'] = 0\n",
    "    df02['AlgoBellman'] = 0\n",
    "    df02['AlgoDijkstra'] = 1\n",
    "    df02['AlgoHybrid'] = 0\n",
    "    df03['AlgoBellman'] = 0\n",
    "    df03['AlgoDijkstra'] = 0\n",
    "    df03['AlgoHybrid'] = 1\n",
    "    #frames = [df01, df02, df03]\n",
    "    #concat = pd.append(frames)\n",
    "    df04 = df01.append(df02,ignore_index=True)\n",
    "    df05 = df04.append(df03,ignore_index=True)\n",
    "    df1 = df05\n",
    "    \n",
    "    return df1\n",
    "\n",
    "beta = 0.0000000001\n",
    "def executionTimeToSpeedup(df):\n",
    "    \n",
    "    algorithms = ['AlgoBellman', 'AlgoDijkstra', 'AlgoHybrid']\n",
    "    vertexNums = [524288, 1048576, 2097152, 4194304, 8388608, 16777216]\n",
    "    df['speedup'] = 1.0\n",
    "\n",
    "    for al in algorithms:\n",
    "        for v in vertexNums:\n",
    "            base = df.loc[(df[al] == 1) & (df['vertexNum'] == v) & (df['sOriginalDistance'] == 1), 'executionTime']\n",
    "            df.loc[(df[al] == 1) & (df['vertexNum'] == v), 'speedup'] = base.values/((df.loc[(df[al] == 1) & (df['vertexNum'] == v), 'executionTime']).astype(float))\n",
    "\n",
    "    #print(df['speedup'])\n",
    "    df['Error'] = df['Error'] + beta\n",
    "    return df\n",
    "    \n",
    "\n",
    "def preprocessing(df1):\n",
    "    conditions = [df1['vertexNum'] == 524288, df1['vertexNum'] == 1048576, df1['vertexNum'] == 2097152, df1['vertexNum'] == 4194304, df1['vertexNum'] == 8388608, df1['vertexNum'] == 16777216]\n",
    "    numbers = [1, 2, 4, 8, 16, 32]\n",
    "    df1['graphSize'] = np.select(conditions, numbers, default=0)\n",
    "    \n",
    "    df1 = df1.drop(['vertexNum', 'edgeNum', 'maxEdgeDegree',\n",
    "                    'sAtomicBlock', 'executionTime'], axis=1)\n",
    "    df1.dropna(inplace=True)\n",
    "    \n",
    "    df1 = df1[df1['minProcessEdge'] >= 0]\n",
    "              \n",
    "    for i in numbers:\n",
    "        mini = df1[df1['graphSize'] == i]['minProcessEdge'].min()\n",
    "        maxi = df1[df1['graphSize'] == i]['minProcessEdge'].max()\n",
    "        df1.loc[df1['graphSize'] == i, ['minProcessEdge']] = 1.0 / ((((df1.loc[df1['graphSize'] == i, ['minProcessEdge']] - mini) / (maxi - mini)) * 9) + 1)\n",
    "    \n",
    "    return df1\n",
    "\n",
    "\n",
    "\n",
    "def _regressorAlgorithm(model, x_train, x_test, y_train, y_test):\n",
    "    #fit to model\n",
    "    model.fit(x_train, y_train)\n",
    "    #predict the outcome\n",
    "    y_pred = model.predict(x_test)\n",
    "    #summarize performance\n",
    "    print(\"\\n### Performance Summarization of _regressorAlgorithm ###\\n\")\n",
    "    print('Mean Absolute Error:', mean_absolute_error(y_test, y_pred))\n",
    "    print('Mean Squared Error:', mean_squared_error(y_test, y_pred))\n",
    "    print('Root Mean Squared Error:', np.sqrt(mean_squared_error(y_test, y_pred)))\n",
    "    print('R2 score: ', r2_score(y_test, y_pred))\n",
    "    print('Explained Variance Score: ', explained_variance_score(y_test, y_pred))\n",
    "    print('Mean Absolute Percentage Error: ', mean_absolute_percentage_error(y_test, y_pred))\n",
    "    #print('MAPE: ', MAPE(y_test, y_pred))\n",
    "    \n",
    "    return y_pred, y_test\n",
    "\n",
    "def _regressorAlgorithm_KFold(model, X, y):\n",
    "    #model = RandomForestRegressor(max_depth=1000, n_estimators=100, random_state=1)\n",
    "    cv = RepeatedKFold(n_splits=10, n_repeats=5, random_state=1)\n",
    "    # evaluate the model and collect the scores\n",
    "    n_scores_mae = cross_val_score(model, X, y, scoring='neg_mean_absolute_error', cv=cv, n_jobs=-1)\n",
    "    n_scores_mse = cross_val_score(model, X, y, scoring='neg_mean_squared_error', cv=cv, n_jobs=-1)\n",
    "    n_scores_rmse = cross_val_score(model, X, y, scoring='neg_root_mean_squared_error', cv=cv, n_jobs=-1)\n",
    "    n_scores_r2 = cross_val_score(model, X, y, scoring='r2', cv=cv, n_jobs=-1)\n",
    "    n_scores_ev = cross_val_score(model, X, y, scoring='explained_variance', cv=cv, n_jobs=-1)\n",
    "    n_scores_mape = cross_val_score(model, X, y, scoring='neg_mean_absolute_percentage_error', cv=cv, n_jobs=-1)\n",
    "    # force the scores to be positive\n",
    "    n_scores_mae = absolute(n_scores_mae)\n",
    "    n_scores_mse = absolute(n_scores_mse)\n",
    "    n_scores_rmse = absolute(n_scores_rmse)\n",
    "    n_scores_r2 = absolute(n_scores_r2)\n",
    "    n_scores_ev = absolute(n_scores_ev)\n",
    "    n_scores_mape = absolute(n_scores_mape)\n",
    "    # summarize performance\n",
    "    print(\"\\n### Performance Summarization of _regressorAlgorithm_KFold ###\\n\")\n",
    "    print('Mean Absolute Error (avg): %.5f' % mean(n_scores_mae))\n",
    "    print('Mean Squared Error (avg): %.5f' % mean(n_scores_mse))\n",
    "    print('Root Mean Squared Error (avg): %.5f' % mean(n_scores_rmse))\n",
    "    print('R2 score (avg) %.5f' % mean(n_scores_r2))\n",
    "    print('Explained Variance (avg): %.5f' % mean(n_scores_ev))\n",
    "    print('Mean Absolute Percentage Error (avg): %.5f' % mean(n_scores_mape))\n",
    "    \n",
    "def draw_BFDJ(arr1_b, arr2_b, arr1_d, arr2_d, x_label, y_label):\n",
    "    \n",
    "    asterisk = mpath.Path.unit_regular_asterisk(6)\n",
    "    circle = mpath.Path.unit_circle()\n",
    "\n",
    "    fig = plt.figure()\n",
    "    ax = fig.add_subplot(1, 1, 1)\n",
    "    ax.plot(arr1_b, arr2_b, color='red', label='predicted_data', marker=asterisk, markersize=7)\n",
    "    ax.plot(arr1_d, arr2_d, color='blue', label='test_data', marker=circle, markersize=4)\n",
    "    ax.set_xlabel(x_label)\n",
    "    ax.set_ylabel(y_label)\n",
    "\n",
    "    plt.legend()\n",
    "    plt.show()\n",
    "    \n",
    "def lineGraphOfPredictionError(y_test, y_pred):\n",
    "    y_pred_exec, y_pred_err, y_test_exec, y_test_err = [], [], [], []\n",
    "    y_test_n = y_test.to_numpy()\n",
    "    y_pred_n = y_pred\n",
    "    y_test_n.sort()\n",
    "    y_pred_n.sort()\n",
    "    for i in range(20):\n",
    "        y_pred_exec.append(y_pred_n[i][1])\n",
    "        y_pred_err.append(y_pred_n[i][0])\n",
    "        y_test_exec.append(y_test_n[i][1])\n",
    "        y_test_err.append(y_test_n[i][0])\n",
    "\n",
    "    y_pred_exec.sort()\n",
    "    y_test_exec.sort()\n",
    "    y_pred_err.sort()\n",
    "    y_test_err.sort()\n",
    "    print(y_pred_exec)\n",
    "    print(y_test_exec)\n",
    "\n",
    "\n",
    "    draw_BFDJ(y_pred_exec, y_pred_err, y_test_exec, y_test_err, \"execution time\", \"error\")\n",
    "    \n",
    "def MAPE(y_true, y_pred): \n",
    "    y_true, y_pred = np.array(y_true), np.array(y_pred)\n",
    "    print(y_true.shape)\n",
    "    print(y_pred.shape)\n",
    "    acc_ex, acc_err = 0, 0\n",
    "    \n",
    "    for i in range(len(y_true)):\n",
    "        if y_true[i][0] != 0:\n",
    "            acc_ex += np.abs((y_true[i][0] - y_pred[i][0]) / y_true[i][0])\n",
    "        elif y_true[i][0] == 0 and y_pred[i][0] != 0:\n",
    "            acc_ex += np.abs((y_true[i][0] - y_pred[i][0]) / y_pred[i][0])\n",
    "        #print(acc_ex)\n",
    "        \n",
    "    mean_ex = (acc_ex / len(y_true)) * 100\n",
    "    \n",
    "    for i in range(len(y_true)):\n",
    "        if y_true[i][1] != 0:\n",
    "            acc_err += np.abs((y_true[i][1] - y_pred[i][1]) / y_true[i][1])\n",
    "        elif y_true[i][1] == 0 and y_pred[i][1] != 0:\n",
    "            acc_err += np.abs((y_true[i][1] - y_pred[i][1]) / y_pred[i][1])\n",
    "        \n",
    "        #print(acc_err)\n",
    "        \n",
    "    mean_err = (acc_err / len(y_true)) * 100\n",
    "    \n",
    "    return (mean_ex + mean_err)/2\n",
    "    "
   ]
  },
  {
   "cell_type": "code",
   "execution_count": 287,
   "metadata": {},
   "outputs": [],
   "source": [
    "'''\n",
    "y_pred_knr=np.array(y_pred_knr)\n",
    "y_test_knr=np.array(y_test_knr)\n",
    "print(y_pred_knr[1][1])\n",
    "print(y_test_knr[1][1])\n",
    "'''"
   ]
  },
  {
   "cell_type": "code",
   "execution_count": 288,
   "metadata": {},
   "outputs": [],
   "source": [
    "df01, df02, df03 = readCSVFiles()\n",
    "df1 = combineAlgorithmsToFile(df01, df02, df03)\n",
    "df2 = executionTimeToSpeedup(df1)\n",
    "df1 = preprocessing(df2)"
   ]
  },
  {
   "cell_type": "markdown",
   "metadata": {},
   "source": [
    "# # Predict Multiple Output "
   ]
  },
  {
   "cell_type": "code",
   "execution_count": 289,
   "metadata": {},
   "outputs": [
    {
     "name": "stdout",
     "output_type": "stream",
     "text": [
      "(33063, 15)\n",
      "(6656, 15)\n"
     ]
    }
   ],
   "source": [
    "X_mo = df1.drop(['speedup', 'Error'],axis=1)\n",
    "y_mo = df1[['speedup', 'Error']]\n",
    "X_mo = X_mo.values\n",
    "\n",
    "#split the data randomly\n",
    "x_train_mo, x_test_mo, y_train_mo, y_test_mo = train_test_split(X_mo, y_mo, test_size=0.2, random_state=13)\n",
    "\n",
    "#split data - small graphs for training, large graphs for testing\n",
    "a = df1.loc[(df1['graphSize'] != 32) | (df1['sOriginalDistance'] == 1)]\n",
    "b = df1.loc[(df1['graphSize'] == 32) & (df1['sOriginalDistance'] == 0)]\n",
    "print(a.shape)\n",
    "print(b.shape)\n",
    "x_train_mo_nd = a.drop(['speedup', 'Error'],axis=1)\n",
    "y_train_mo_nd = a[['speedup', 'Error']]\n",
    "x_test_mo_nd = b.drop(['speedup', 'Error'],axis=1)\n",
    "y_test_mo_nd = b[['speedup', 'Error']]"
   ]
  },
  {
   "cell_type": "code",
   "execution_count": 290,
   "metadata": {},
   "outputs": [
    {
     "name": "stdout",
     "output_type": "stream",
     "text": [
      "LINEAR REGRESSION ALGORITHM PERFORMANCE RESULTS ON MULTIPLE OUTPUT\n",
      "\n",
      "### Performance Summarization of _regressorAlgorithm ###\n",
      "\n",
      "Mean Absolute Error: 6.84313021558161\n",
      "Mean Squared Error: 125.78670920579579\n",
      "Root Mean Squared Error: 11.21546740915401\n",
      "R2 score:  0.3961814151426306\n",
      "Explained Variance Score:  0.39625789924652416\n",
      "Mean Absolute Percentage Error:  52676034.02701403\n",
      "\n",
      "\n",
      "--- small graphs for training, large graphs for testing ---\n",
      "\n",
      "### Performance Summarization of _regressorAlgorithm ###\n",
      "\n",
      "Mean Absolute Error: 7.442025800934283\n",
      "Mean Squared Error: 169.00443927912374\n",
      "Root Mean Squared Error: 13.000170740383519\n",
      "R2 score:  0.30427734336554935\n",
      "Explained Variance Score:  0.31431095292394073\n",
      "Mean Absolute Percentage Error:  84956322.86213845\n",
      "\n",
      "### Performance Summarization of _regressorAlgorithm_KFold ###\n",
      "\n",
      "Mean Absolute Error (avg): 6.89141\n",
      "Mean Squared Error (avg): 132.03515\n",
      "Root Mean Squared Error (avg): 11.38822\n",
      "R2 score (avg) 0.39867\n",
      "Explained Variance (avg): 0.39885\n",
      "Mean Absolute Percentage Error (avg): 51109825.83355\n"
     ]
    }
   ],
   "source": [
    "print(\"LINEAR REGRESSION ALGORITHM PERFORMANCE RESULTS ON MULTIPLE OUTPUT\")\n",
    "model = LinearRegression()\n",
    "y_pred_lr, y_test_lr = _regressorAlgorithm(model, x_train_mo, x_test_mo, y_train_mo, y_test_mo)\n",
    "print(\"\\n\\n--- small graphs for training, large graphs for testing ---\")\n",
    "y_pred_lr_mo_nd, y_test_lr_mo_nd = _regressorAlgorithm(model, x_train_mo_nd, x_test_mo_nd, y_train_mo_nd, y_test_mo_nd)\n",
    "_regressorAlgorithm_KFold(model, X_mo, y_mo)"
   ]
  },
  {
   "cell_type": "code",
   "execution_count": 291,
   "metadata": {},
   "outputs": [
    {
     "name": "stdout",
     "output_type": "stream",
     "text": [
      "KNEIGHBORS REGRESSION ALGORITHM PERFORMANCE RESULTS ON MULTIPLE OUTPUT\n",
      "\n",
      "### Performance Summarization of _regressorAlgorithm ###\n",
      "\n",
      "Mean Absolute Error: 1.5889085382517807\n",
      "Mean Squared Error: 9.918802173435845\n",
      "Root Mean Squared Error: 3.1494129887069184\n",
      "R2 score:  0.9623392964597497\n",
      "Explained Variance Score:  0.9627299240105552\n",
      "Mean Absolute Percentage Error:  28804335.285324987\n",
      "\n",
      "\n",
      "--- small graphs for training, large graphs for testing ---\n",
      "\n",
      "### Performance Summarization of _regressorAlgorithm ###\n",
      "\n",
      "Mean Absolute Error: 4.151517402156787\n",
      "Mean Squared Error: 76.34778049360804\n",
      "Root Mean Squared Error: 8.737721699253648\n",
      "R2 score:  0.6763280681666504\n",
      "Explained Variance Score:  0.6885413457741213\n",
      "Mean Absolute Percentage Error:  16.17431300094221\n",
      "\n",
      "### Performance Summarization of _regressorAlgorithm_KFold ###\n",
      "\n",
      "Mean Absolute Error (avg): 1.51092\n",
      "Mean Squared Error (avg): 9.21246\n",
      "Root Mean Squared Error (avg): 2.49608\n",
      "R2 score (avg) 0.96524\n",
      "Explained Variance (avg): 0.96559\n",
      "Mean Absolute Percentage Error (avg): 27976518.04329\n"
     ]
    }
   ],
   "source": [
    "print(\"KNEIGHBORS REGRESSION ALGORITHM PERFORMANCE RESULTS ON MULTIPLE OUTPUT\")\n",
    "model = KNeighborsRegressor()\n",
    "y_pred_knr, y_test_knr = _regressorAlgorithm(model, x_train_mo, x_test_mo, y_train_mo, y_test_mo)\n",
    "print(\"\\n\\n--- small graphs for training, large graphs for testing ---\")\n",
    "y_pred_knr_mo_nd, y_test_knr_mo_nd = _regressorAlgorithm(model, x_train_mo_nd, x_test_mo_nd, y_train_mo_nd, y_test_mo_nd)\n",
    "_regressorAlgorithm_KFold(model, X_mo, y_mo)"
   ]
  },
  {
   "cell_type": "code",
   "execution_count": 292,
   "metadata": {},
   "outputs": [
    {
     "name": "stdout",
     "output_type": "stream",
     "text": [
      "RANDOM FOREST REGRESSION ALGORITHM PERFORMANCE RESULTS ON MULTIPLE OUTPUT\n",
      "\n",
      "### Performance Summarization of _regressorAlgorithm ###\n",
      "\n",
      "Mean Absolute Error: 0.28050733047532483\n",
      "Mean Squared Error: 2.3247736368646095\n",
      "Root Mean Squared Error: 1.5247208389946696\n",
      "R2 score:  0.9910898791423568\n",
      "Explained Variance Score:  0.9910903628504993\n",
      "Mean Absolute Percentage Error:  33771.43075297826\n",
      "\n",
      "\n",
      "--- small graphs for training, large graphs for testing ---\n",
      "\n",
      "### Performance Summarization of _regressorAlgorithm ###\n",
      "\n",
      "Mean Absolute Error: 1.807043768934095\n",
      "Mean Squared Error: 11.177457474339203\n",
      "Root Mean Squared Error: 3.3432704757974943\n",
      "R2 score:  0.9513952488462594\n",
      "Explained Variance Score:  0.9516403830795548\n",
      "Mean Absolute Percentage Error:  1787.984268374141\n"
     ]
    }
   ],
   "source": [
    "print(\"RANDOM FOREST REGRESSION ALGORITHM PERFORMANCE RESULTS ON MULTIPLE OUTPUT\")\n",
    "model = RandomForestRegressor(max_depth=1000, n_estimators=100, random_state=1)\n",
    "y_pred_rfr, y_test_rfr = _regressorAlgorithm(model, x_train_mo, x_test_mo, y_train_mo, y_test_mo)\n",
    "print(\"\\n\\n--- small graphs for training, large graphs for testing ---\")\n",
    "y_pred_rfr_mo_nd, y_test_rfr_mo_nd = _regressorAlgorithm(model, x_train_mo_nd, x_test_mo_nd, y_train_mo_nd, y_test_mo_nd)\n",
    "#_regressorAlgorithm_KFold(model, X_mo, y_mo)"
   ]
  },
  {
   "cell_type": "code",
   "execution_count": 293,
   "metadata": {},
   "outputs": [
    {
     "name": "stdout",
     "output_type": "stream",
     "text": [
      "DECISION TREE REGRESSION ALGORITHM PERFORMANCE RESULTS ON MULTIPLE OUTPUT\n",
      "\n",
      "### Performance Summarization of _regressorAlgorithm ###\n",
      "\n",
      "Mean Absolute Error: 0.2846369287927214\n",
      "Mean Squared Error: 2.4717381272753656\n",
      "Root Mean Squared Error: 1.5721762392541638\n",
      "R2 score:  0.9904801982740589\n",
      "Explained Variance Score:  0.9904806943248827\n",
      "Mean Absolute Percentage Error:  22973.34497162483\n",
      "\n",
      "\n",
      "--- small graphs for training, large graphs for testing ---\n",
      "\n",
      "### Performance Summarization of _regressorAlgorithm ###\n",
      "\n",
      "Mean Absolute Error: 1.7920324066131532\n",
      "Mean Squared Error: 11.611111417586976\n",
      "Root Mean Squared Error: 3.407508095014152\n",
      "R2 score:  0.9495083521901037\n",
      "Explained Variance Score:  0.9499654287406138\n",
      "Mean Absolute Percentage Error:  0.12006376634524427\n"
     ]
    }
   ],
   "source": [
    "print(\"DECISION TREE REGRESSION ALGORITHM PERFORMANCE RESULTS ON MULTIPLE OUTPUT\")\n",
    "model = DecisionTreeRegressor(max_depth=1000, splitter=\"best\", criterion=\"mse\", min_samples_split=2)\n",
    "y_pred_dtr, y_test_dtr = _regressorAlgorithm(model, x_train_mo, x_test_mo, y_train_mo, y_test_mo)\n",
    "print(\"\\n\\n--- small graphs for training, large graphs for testing ---\")\n",
    "y_pred_dtr_mo_nd, y_test_dtr_mo_nd = _regressorAlgorithm(model, x_train_mo_nd, x_test_mo_nd, y_train_mo_nd, y_test_mo_nd)\n",
    "#_regressorAlgorithm_KFold(model, X_mo, y_mo)"
   ]
  },
  {
   "cell_type": "code",
   "execution_count": 294,
   "metadata": {},
   "outputs": [
    {
     "name": "stdout",
     "output_type": "stream",
     "text": [
      "MLP REGRESSION ALGORITHM PERFORMANCE RESULTS ON MULTIPLE OUTPUT\n",
      "\n",
      "### Performance Summarization of _regressorAlgorithm ###\n",
      "\n",
      "Mean Absolute Error: 8.92773065785158\n",
      "Mean Squared Error: 239.70670051533892\n",
      "Root Mean Squared Error: 15.482464290781973\n",
      "R2 score:  -0.060287263382106215\n",
      "Explained Variance Score:  0.009522097202763702\n",
      "Mean Absolute Percentage Error:  131680460.9283236\n",
      "\n",
      "\n",
      "--- small graphs for training, large graphs for testing ---\n",
      "\n",
      "### Performance Summarization of _regressorAlgorithm ###\n",
      "\n",
      "Mean Absolute Error: 8.979851129042608\n",
      "Mean Squared Error: 228.65880161594657\n",
      "Root Mean Squared Error: 15.121468236118693\n",
      "R2 score:  0.04892946067091092\n",
      "Explained Variance Score:  0.06443222181679681\n",
      "Mean Absolute Percentage Error:  69675413.13579233\n"
     ]
    }
   ],
   "source": [
    "print(\"MLP REGRESSION ALGORITHM PERFORMANCE RESULTS ON MULTIPLE OUTPUT\")\n",
    "model = MLPRegressor(hidden_layer_sizes=(4,8,4),activation=\"relu\" ,random_state=1, max_iter=50000)\n",
    "y_pred_mlpr, y_test_mlpr = _regressorAlgorithm(model, x_train_mo, x_test_mo, y_train_mo, y_test_mo)\n",
    "print(\"\\n\\n--- small graphs for training, large graphs for testing ---\")\n",
    "y_pred_mlpr_mo_nd, y_test_mlpr_mo_nd = _regressorAlgorithm(model, x_train_mo_nd, x_test_mo_nd, y_train_mo_nd, y_test_mo_nd)\n",
    "#_regressorAlgorithm_KFold(model, X_mo, y_mo)"
   ]
  },
  {
   "cell_type": "code",
   "execution_count": 295,
   "metadata": {},
   "outputs": [
    {
     "name": "stdout",
     "output_type": "stream",
     "text": [
      "MULTIOUTPUT REGRESSION ALGORITHM PERFORMANCE RESULTS ON MULTIPLE OUTPUT\n",
      "\n",
      "### Performance Summarization of _regressorAlgorithm ###\n",
      "\n",
      "Mean Absolute Error: 6.8431116010414055\n",
      "Mean Squared Error: 125.78756123850957\n",
      "Root Mean Squared Error: 11.215505393806806\n",
      "R2 score:  0.39617762793005085\n",
      "Explained Variance Score:  0.39625409982773224\n",
      "Mean Absolute Percentage Error:  53095492.6696085\n",
      "\n",
      "\n",
      "--- small graphs for training, large graphs for testing ---\n",
      "\n",
      "### Performance Summarization of _regressorAlgorithm ###\n",
      "\n",
      "Mean Absolute Error: 7.441842630659741\n",
      "Mean Squared Error: 169.00279894611677\n",
      "Root Mean Squared Error: 13.000107651327998\n",
      "R2 score:  0.3042848216841792\n",
      "Explained Variance Score:  0.31431948787735076\n",
      "Mean Absolute Percentage Error:  84972189.40299758\n"
     ]
    }
   ],
   "source": [
    "print(\"MULTIOUTPUT REGRESSION ALGORITHM PERFORMANCE RESULTS ON MULTIPLE OUTPUT\")\n",
    "model = MultiOutputRegressor(Ridge(random_state=123))\n",
    "y_pred_mor, y_test_mor = _regressorAlgorithm(model, x_train_mo, x_test_mo, y_train_mo, y_test_mo)\n",
    "print(\"\\n\\n--- small graphs for training, large graphs for testing ---\")\n",
    "y_pred_mor_mo_nd, y_test_mor_mo_nd = _regressorAlgorithm(model, x_train_mo_nd, x_test_mo_nd, y_train_mo_nd, y_test_mo_nd)\n",
    "#_regressorAlgorithm_KFold(model, X_mo, y_mo)"
   ]
  },
  {
   "cell_type": "markdown",
   "metadata": {},
   "source": [
    "# Predict Single Output - Execution"
   ]
  },
  {
   "cell_type": "code",
   "execution_count": 296,
   "metadata": {},
   "outputs": [],
   "source": [
    "X_sox = df1.drop(['speedup', 'Error'],axis=1)\n",
    "y_sox = df1[['speedup']]\n",
    "X_sox = X_sox.values\n",
    "\n",
    "#split the data randomly\n",
    "x_train_sox, x_test_sox, y_train_sox, y_test_sox = train_test_split(X_sox, y_sox, test_size=0.2, random_state=13)\n",
    "\n",
    "#split data - small graphs for training, large graphs for testing\n",
    "a = df1.loc[(df1['graphSize'] != 32) | (df1['sOriginalDistance'] == 1)]\n",
    "b = df1.loc[(df1['graphSize'] == 32) & (df1['sOriginalDistance'] == 0)]\n",
    "x_train_sox_nd = a.drop(['speedup', 'Error'],axis=1)\n",
    "y_train_sox_nd = a[['speedup']]\n",
    "x_test_sox_nd = b.drop(['speedup', 'Error'],axis=1)\n",
    "y_test_sox_nd = b[['speedup']]"
   ]
  },
  {
   "cell_type": "code",
   "execution_count": 297,
   "metadata": {},
   "outputs": [
    {
     "name": "stdout",
     "output_type": "stream",
     "text": [
      "LINEAR REGRESSION ALGORITHM PERFORMANCE RESULTS ON SINGLE OUTPUT EXECUTION\n",
      "\n",
      "### Performance Summarization of _regressorAlgorithm ###\n",
      "\n",
      "Mean Absolute Error: 5.701095618460538\n",
      "Mean Squared Error: 153.16786816985947\n",
      "Root Mean Squared Error: 12.376100685185923\n",
      "R2 score:  0.159357978874625\n",
      "Explained Variance Score:  0.1595023172777681\n",
      "Mean Absolute Percentage Error:  2.720660445134634\n",
      "\n",
      "\n",
      "--- small graphs for training, large graphs for testing ---\n",
      "\n",
      "### Performance Summarization of _regressorAlgorithm ###\n",
      "\n",
      "Mean Absolute Error: 6.18576553537762\n",
      "Mean Squared Error: 215.711270032316\n",
      "Root Mean Squared Error: 14.687112378963947\n",
      "R2 score:  0.15357185897634995\n",
      "Explained Variance Score:  0.15370305676636586\n",
      "Mean Absolute Percentage Error:  2.6823209899229346\n",
      "\n",
      "### Performance Summarization of _regressorAlgorithm_KFold ###\n",
      "\n",
      "Mean Absolute Error (avg): 5.78508\n",
      "Mean Squared Error (avg): 165.57174\n",
      "Root Mean Squared Error (avg): 12.85228\n",
      "R2 score (avg) 0.16461\n",
      "Explained Variance (avg): 0.16486\n",
      "Mean Absolute Percentage Error (avg): 2.68277\n"
     ]
    }
   ],
   "source": [
    "print(\"LINEAR REGRESSION ALGORITHM PERFORMANCE RESULTS ON SINGLE OUTPUT EXECUTION\")\n",
    "model = LinearRegression()\n",
    "y_pred_lr_sox, y_test_lr_sox = _regressorAlgorithm(model, x_train_sox, x_test_sox, y_train_sox, y_test_sox)\n",
    "print(\"\\n\\n--- small graphs for training, large graphs for testing ---\")\n",
    "y_pred_lr_sox_nd, y_test_lr_sox_nd = _regressorAlgorithm(model, x_train_sox_nd, x_test_sox_nd, y_train_sox_nd, y_test_sox_nd)\n",
    "_regressorAlgorithm_KFold(model, X_sox, y_sox)"
   ]
  },
  {
   "cell_type": "code",
   "execution_count": 298,
   "metadata": {},
   "outputs": [
    {
     "name": "stdout",
     "output_type": "stream",
     "text": [
      "KNEIGHBORS REGRESSION ALGORITHM PERFORMANCE RESULTS ON SINGLE OUTPUT EXECUTION\n",
      "\n",
      "### Performance Summarization of _regressorAlgorithm ###\n",
      "\n",
      "Mean Absolute Error: 0.24776192292852806\n",
      "Mean Squared Error: 0.7611023710573066\n",
      "Root Mean Squared Error: 0.872411812768091\n",
      "R2 score:  0.9958227881400074\n",
      "Explained Variance Score:  0.9958324495461685\n",
      "Mean Absolute Percentage Error:  0.0696625710877094\n",
      "\n",
      "\n",
      "--- small graphs for training, large graphs for testing ---\n",
      "\n",
      "### Performance Summarization of _regressorAlgorithm ###\n",
      "\n",
      "Mean Absolute Error: 1.395960585563599\n",
      "Mean Squared Error: 62.22673148135841\n",
      "Root Mean Squared Error: 7.888392198753711\n",
      "R2 score:  0.7558289066591032\n",
      "Explained Variance Score:  0.7597279362285021\n",
      "Mean Absolute Percentage Error:  0.20695617316819567\n",
      "\n",
      "### Performance Summarization of _regressorAlgorithm_KFold ###\n",
      "\n",
      "Mean Absolute Error (avg): 0.22430\n",
      "Mean Squared Error (avg): 0.60002\n",
      "Root Mean Squared Error (avg): 0.77070\n",
      "R2 score (avg) 0.99694\n",
      "Explained Variance (avg): 0.99694\n",
      "Mean Absolute Percentage Error (avg): 0.06517\n"
     ]
    }
   ],
   "source": [
    "print(\"KNEIGHBORS REGRESSION ALGORITHM PERFORMANCE RESULTS ON SINGLE OUTPUT EXECUTION\")\n",
    "model = KNeighborsRegressor()\n",
    "y_pred_knr_sox, y_test_knr_sox = _regressorAlgorithm(model, x_train_sox, x_test_sox, y_train_sox, y_test_sox)\n",
    "print(\"\\n\\n--- small graphs for training, large graphs for testing ---\")\n",
    "y_pred_knr_sox_nd, y_test_knr_sox_nd = _regressorAlgorithm(model, x_train_sox_nd, x_test_sox_nd, y_train_sox_nd, y_test_sox_nd)\n",
    "_regressorAlgorithm_KFold(model, X_sox, y_sox)"
   ]
  },
  {
   "cell_type": "code",
   "execution_count": 299,
   "metadata": {},
   "outputs": [
    {
     "name": "stdout",
     "output_type": "stream",
     "text": [
      "RANDOM FOREST REGRESSION ALGORITHM PERFORMANCE RESULTS ON SINGLE OUTPUT EXECUTION\n"
     ]
    },
    {
     "name": "stderr",
     "output_type": "stream",
     "text": [
      "<ipython-input-234-d3cf25568291>:49: DataConversionWarning: A column-vector y was passed when a 1d array was expected. Please change the shape of y to (n_samples,), for example using ravel().\n",
      "  model.fit(x_train, y_train)\n"
     ]
    },
    {
     "name": "stdout",
     "output_type": "stream",
     "text": [
      "\n",
      "### Performance Summarization of _regressorAlgorithm ###\n",
      "\n",
      "Mean Absolute Error: 0.07685436320996744\n",
      "Mean Squared Error: 0.2753706468321316\n",
      "Root Mean Squared Error: 0.5247577029755081\n",
      "R2 score:  0.9984886638439412\n",
      "Explained Variance Score:  0.998488842530101\n",
      "Mean Absolute Percentage Error:  0.0185652919706077\n",
      "\n",
      "\n",
      "--- small graphs for training, large graphs for testing ---\n"
     ]
    },
    {
     "name": "stderr",
     "output_type": "stream",
     "text": [
      "<ipython-input-234-d3cf25568291>:49: DataConversionWarning: A column-vector y was passed when a 1d array was expected. Please change the shape of y to (n_samples,), for example using ravel().\n",
      "  model.fit(x_train, y_train)\n"
     ]
    },
    {
     "name": "stdout",
     "output_type": "stream",
     "text": [
      "\n",
      "### Performance Summarization of _regressorAlgorithm ###\n",
      "\n",
      "Mean Absolute Error: 0.5465914707121303\n",
      "Mean Squared Error: 4.481350952828815\n",
      "Root Mean Squared Error: 2.1169201574052847\n",
      "R2 score:  0.9824156542413885\n",
      "Explained Variance Score:  0.9828424949794616\n",
      "Mean Absolute Percentage Error:  0.09908414955026237\n"
     ]
    }
   ],
   "source": [
    "print(\"RANDOM FOREST REGRESSION ALGORITHM PERFORMANCE RESULTS ON SINGLE OUTPUT EXECUTION\")\n",
    "model = RandomForestRegressor(max_depth=1000, n_estimators=100, random_state=1)\n",
    "y_pred_rfr_sox, y_test_rfr_sox = _regressorAlgorithm(model, x_train_sox, x_test_sox, y_train_sox, y_test_sox)\n",
    "print(\"\\n\\n--- small graphs for training, large graphs for testing ---\")\n",
    "y_pred_rfr_sox_nd, y_test_rfr_sox_nd = _regressorAlgorithm(model, x_train_sox_nd, x_test_sox_nd, y_train_sox_nd, y_test_sox_nd)\n",
    "#_regressorAlgorithm_KFold(model, X_sox, y_sox)"
   ]
  },
  {
   "cell_type": "code",
   "execution_count": 300,
   "metadata": {},
   "outputs": [
    {
     "name": "stdout",
     "output_type": "stream",
     "text": [
      "DECISION TREE REGRESSION ALGORITHM PERFORMANCE RESULTS ON SINGLE OUTPUT EXECUTION\n",
      "\n",
      "### Performance Summarization of _regressorAlgorithm ###\n",
      "\n",
      "Mean Absolute Error: 0.08711011186782636\n",
      "Mean Squared Error: 0.3357590851331721\n",
      "Root Mean Squared Error: 0.5794472237686294\n",
      "R2 score:  0.9981572297159313\n",
      "Explained Variance Score:  0.9981578476066854\n",
      "Mean Absolute Percentage Error:  0.021589939388808335\n",
      "\n",
      "\n",
      "--- small graphs for training, large graphs for testing ---\n",
      "\n",
      "### Performance Summarization of _regressorAlgorithm ###\n",
      "\n",
      "Mean Absolute Error: 0.5519648413947675\n",
      "Mean Squared Error: 4.680050930443621\n",
      "Root Mean Squared Error: 2.1633425365493144\n",
      "R2 score:  0.9816359766072587\n",
      "Explained Variance Score:  0.9820231043962541\n",
      "Mean Absolute Percentage Error:  0.1005402839820028\n",
      "[2.13613621 1.05221822 1.00198977 0.99584561 1.00360775 0.99996672\n",
      " 1.00246734 1.01864243 1.05853588 1.08785035 1.10445703 1.12505949\n",
      " 1.15975967 1.19089074 0.99820584 1.31919487 1.31919487 1.31919487\n",
      " 1.44335708 1.3430526 ]\n",
      "        speedup\n",
      "10541  2.191485\n",
      "10542  1.047629\n",
      "10543  1.000281\n",
      "10544  0.989697\n",
      "10545  0.993218\n",
      "10546  0.992931\n",
      "10547  0.989607\n",
      "10548  1.006091\n",
      "10549  1.045406\n",
      "10550  1.083955\n",
      "10551  1.104224\n",
      "10552  1.138913\n",
      "10553  1.160252\n",
      "10554  1.239223\n",
      "10555  0.991299\n",
      "10556  1.169100\n",
      "10557  1.282426\n",
      "10558  1.280202\n",
      "10559  1.267463\n",
      "10560  1.351761\n"
     ]
    }
   ],
   "source": [
    "print(\"DECISION TREE REGRESSION ALGORITHM PERFORMANCE RESULTS ON SINGLE OUTPUT EXECUTION\")\n",
    "model = DecisionTreeRegressor(max_depth=1000, splitter=\"best\", criterion=\"mse\", min_samples_split=2)\n",
    "y_pred_dtr_sox, y_test_dtr_sox = _regressorAlgorithm(model, x_train_sox, x_test_sox, y_train_sox, y_test_sox)\n",
    "print(\"\\n\\n--- small graphs for training, large graphs for testing ---\")\n",
    "y_pred_dtr_sox_nd, y_test_dtr_sox_nd = _regressorAlgorithm(model, x_train_sox_nd, x_test_sox_nd, y_train_sox_nd, y_test_sox_nd)\n",
    "print(y_pred_dtr_sox_nd[:20])\n",
    "print(y_test_dtr_sox_nd.head(20))\n",
    "#_regressorAlgorithm_KFold(model, X_sox, y_sox)"
   ]
  },
  {
   "cell_type": "code",
   "execution_count": 301,
   "metadata": {},
   "outputs": [
    {
     "name": "stdout",
     "output_type": "stream",
     "text": [
      "MLP REGRESSION ALGORITHM PERFORMANCE RESULTS ON SINGLE OUTPUT EXECUTION\n"
     ]
    },
    {
     "name": "stderr",
     "output_type": "stream",
     "text": [
      "/home/buse/anaconda3/lib/python3.8/site-packages/sklearn/utils/validation.py:63: DataConversionWarning: A column-vector y was passed when a 1d array was expected. Please change the shape of y to (n_samples, ), for example using ravel().\n",
      "  return f(*args, **kwargs)\n"
     ]
    },
    {
     "name": "stdout",
     "output_type": "stream",
     "text": [
      "\n",
      "### Performance Summarization of _regressorAlgorithm ###\n",
      "\n",
      "Mean Absolute Error: 6.065422264346664\n",
      "Mean Squared Error: 155.46786493381586\n",
      "Root Mean Squared Error: 12.468675347999717\n",
      "R2 score:  0.14673474430632816\n",
      "Explained Variance Score:  0.17694338413870292\n",
      "Mean Absolute Percentage Error:  3.092266675343097\n",
      "\n",
      "\n",
      "--- small graphs for training, large graphs for testing ---\n"
     ]
    },
    {
     "name": "stderr",
     "output_type": "stream",
     "text": [
      "/home/buse/anaconda3/lib/python3.8/site-packages/sklearn/utils/validation.py:63: DataConversionWarning: A column-vector y was passed when a 1d array was expected. Please change the shape of y to (n_samples, ), for example using ravel().\n",
      "  return f(*args, **kwargs)\n"
     ]
    },
    {
     "name": "stdout",
     "output_type": "stream",
     "text": [
      "\n",
      "### Performance Summarization of _regressorAlgorithm ###\n",
      "\n",
      "Mean Absolute Error: 8.055809954940118\n",
      "Mean Squared Error: 239.786889283299\n",
      "Root Mean Squared Error: 15.485053738469848\n",
      "R2 score:  0.05910168296955243\n",
      "Explained Variance Score:  0.12206543833448347\n",
      "Mean Absolute Percentage Error:  4.01032100889165\n"
     ]
    }
   ],
   "source": [
    "print(\"MLP REGRESSION ALGORITHM PERFORMANCE RESULTS ON SINGLE OUTPUT EXECUTION\")\n",
    "model = MLPRegressor(hidden_layer_sizes=(4,8,4),activation=\"relu\" ,random_state=1, max_iter=50000)\n",
    "y_pred_mlpr_sox, y_test_mlpr_sox = _regressorAlgorithm(model, x_train_sox, x_test_sox, y_train_sox, y_test_sox)\n",
    "print(\"\\n\\n--- small graphs for training, large graphs for testing ---\")\n",
    "y_pred_mlpr_sox_nd, y_test_mlpr_sox_nd = _regressorAlgorithm(model, x_train_sox_nd, x_test_sox_nd, y_train_sox_nd, y_test_sox_nd)\n",
    "#_regressorAlgorithm_KFold(model, X_sox, y_sox)"
   ]
  },
  {
   "cell_type": "code",
   "execution_count": 302,
   "metadata": {},
   "outputs": [
    {
     "name": "stdout",
     "output_type": "stream",
     "text": [
      "MULTIOUTPUT REGRESSION ALGORITHM PERFORMANCE RESULTS ON SINGLE OUTPUT EXECUTION\n",
      "\n",
      "### Performance Summarization of _regressorAlgorithm ###\n",
      "\n",
      "Mean Absolute Error: 5.700975188477495\n",
      "Mean Squared Error: 153.16856134134764\n",
      "Root Mean Squared Error: 12.37612868959222\n",
      "R2 score:  0.15935417449262412\n",
      "Explained Variance Score:  0.15949848548233525\n",
      "Mean Absolute Percentage Error:  2.7205831593962166\n",
      "\n",
      "\n",
      "--- small graphs for training, large graphs for testing ---\n",
      "\n",
      "### Performance Summarization of _regressorAlgorithm ###\n",
      "\n",
      "Mean Absolute Error: 6.185792198866898\n",
      "Mean Squared Error: 215.7119016754849\n",
      "Root Mean Squared Error: 14.687133882261879\n",
      "R2 score:  0.15356938047555968\n",
      "Explained Variance Score:  0.15370178145599867\n",
      "Mean Absolute Percentage Error:  2.682211876992542\n"
     ]
    }
   ],
   "source": [
    "print(\"MULTIOUTPUT REGRESSION ALGORITHM PERFORMANCE RESULTS ON SINGLE OUTPUT EXECUTION\")\n",
    "model = MultiOutputRegressor(Ridge(random_state=123))\n",
    "y_pred_mor_sox, y_test_mor_sox = _regressorAlgorithm(model, x_train_sox, x_test_sox, y_train_sox, y_test_sox)\n",
    "print(\"\\n\\n--- small graphs for training, large graphs for testing ---\")\n",
    "y_pred_mor_sox_nd, y_test_mor_sox_nd = _regressorAlgorithm(model, x_train_sox_nd, x_test_sox_nd, y_train_sox_nd, y_test_sox_nd)\n",
    "#_regressorAlgorithm_KFold(model, X_sox, y_sox)"
   ]
  },
  {
   "cell_type": "markdown",
   "metadata": {},
   "source": [
    "# Predict Single Output - Error "
   ]
  },
  {
   "cell_type": "code",
   "execution_count": 303,
   "metadata": {},
   "outputs": [],
   "source": [
    "X_soe = df1.drop(['speedup', 'Error'],axis=1)\n",
    "y_soe = df1[['Error']]\n",
    "X_soe = X_soe.values\n",
    "\n",
    "#split the data randomly\n",
    "x_train_soe, x_test_soe, y_train_soe, y_test_soe = train_test_split(X_soe, y_soe, test_size=0.2, random_state=13)\n",
    "\n",
    "#split data - small graphs for training, large graphs for testing\n",
    "a = df1.loc[(df1['graphSize'] != 32) | (df1['sOriginalDistance'] == 1)]\n",
    "b = df1.loc[(df1['graphSize'] == 32) & (df1['sOriginalDistance'] == 0)]\n",
    "x_train_soe_nd = a.drop(['speedup', 'Error'],axis=1)\n",
    "y_train_soe_nd = a[['Error']]\n",
    "x_test_soe_nd = b.drop(['speedup', 'Error'],axis=1)\n",
    "y_test_soe_nd = b[['Error']]"
   ]
  },
  {
   "cell_type": "code",
   "execution_count": 304,
   "metadata": {},
   "outputs": [
    {
     "name": "stdout",
     "output_type": "stream",
     "text": [
      "LINEAR REGRESSION ALGORITHM PERFORMANCE RESULTS ON SINGLE OUTPUT ERROR\n",
      "\n",
      "### Performance Summarization of _regressorAlgorithm ###\n",
      "\n",
      "Mean Absolute Error: 7.985164812702663\n",
      "Mean Squared Error: 98.40555024173176\n",
      "Root Mean Squared Error: 9.919957169349662\n",
      "R2 score:  0.6330048514106379\n",
      "Explained Variance Score:  0.6330134812152786\n",
      "Mean Absolute Percentage Error:  105352065.33336726\n",
      "\n",
      "\n",
      "--- small graphs for training, large graphs for testing ---\n",
      "\n",
      "### Performance Summarization of _regressorAlgorithm ###\n",
      "\n",
      "Mean Absolute Error: 8.69828606649094\n",
      "Mean Squared Error: 122.29760852593269\n",
      "Root Mean Squared Error: 11.058824916144241\n",
      "R2 score:  0.45498282775474375\n",
      "Explained Variance Score:  0.4749188490815185\n",
      "Mean Absolute Percentage Error:  169912643.04195625\n",
      "\n",
      "### Performance Summarization of _regressorAlgorithm_KFold ###\n",
      "\n",
      "Mean Absolute Error (avg): 7.99773\n",
      "Mean Squared Error (avg): 98.49856\n",
      "Root Mean Squared Error (avg): 9.92416\n",
      "R2 score (avg) 0.63273\n",
      "Explained Variance (avg): 0.63285\n",
      "Mean Absolute Percentage Error (avg): 102219648.98432\n"
     ]
    }
   ],
   "source": [
    "print(\"LINEAR REGRESSION ALGORITHM PERFORMANCE RESULTS ON SINGLE OUTPUT ERROR\")\n",
    "model = LinearRegression()\n",
    "y_pred_lr_soe, y_test_lr_soe = _regressorAlgorithm(model, x_train_soe, x_test_soe, y_train_soe, y_test_soe)\n",
    "print(\"\\n\\n--- small graphs for training, large graphs for testing ---\")\n",
    "y_pred_lr_soe_nd, y_test_lr_soe_nd = _regressorAlgorithm(model, x_train_soe_nd, x_test_soe_nd, y_train_soe_nd, y_test_soe_nd)\n",
    "_regressorAlgorithm_KFold(model, X_soe, y_soe)"
   ]
  },
  {
   "cell_type": "code",
   "execution_count": 305,
   "metadata": {},
   "outputs": [
    {
     "name": "stdout",
     "output_type": "stream",
     "text": [
      "KNEIGHBORS REGRESSION ALGORITHM PERFORMANCE RESULTS ON SINGLE OUTPUT ERROR\n",
      "\n",
      "### Performance Summarization of _regressorAlgorithm ###\n",
      "\n",
      "Mean Absolute Error: 2.930055153575026\n",
      "Mean Squared Error: 19.076501975814356\n",
      "Root Mean Squared Error: 4.3676655064020595\n",
      "R2 score:  0.9288558047794923\n",
      "Explained Variance Score:  0.9296273984749437\n",
      "Mean Absolute Percentage Error:  57608670.50098718\n",
      "\n",
      "\n",
      "--- small graphs for training, large graphs for testing ---\n",
      "\n",
      "### Performance Summarization of _regressorAlgorithm ###\n",
      "\n",
      "Mean Absolute Error: 6.907074218750001\n",
      "Mean Squared Error: 90.46882950585758\n",
      "Root Mean Squared Error: 9.511510369329237\n",
      "R2 score:  0.5968272296741981\n",
      "Explained Variance Score:  0.6173547553197432\n",
      "Mean Absolute Percentage Error:  32.14166982871655\n",
      "\n",
      "### Performance Summarization of _regressorAlgorithm_KFold ###\n",
      "\n",
      "Mean Absolute Error (avg): 2.79755\n",
      "Mean Squared Error (avg): 17.82490\n",
      "Root Mean Squared Error (avg): 4.22145\n",
      "R2 score (avg) 0.93353\n",
      "Explained Variance (avg): 0.93424\n",
      "Mean Absolute Percentage Error (avg): 55953036.02140\n"
     ]
    }
   ],
   "source": [
    "print(\"KNEIGHBORS REGRESSION ALGORITHM PERFORMANCE RESULTS ON SINGLE OUTPUT ERROR\")\n",
    "model = KNeighborsRegressor()\n",
    "y_pred_knr_soe, y_test_knr_soe = _regressorAlgorithm(model, x_train_soe, x_test_soe, y_train_soe, y_test_soe)\n",
    "print(\"\\n\\n--- small graphs for training, large graphs for testing ---\")\n",
    "y_pred_knr_soe_nd, y_test_knr_soe_nd = _regressorAlgorithm(model, x_train_soe_nd, x_test_soe_nd, y_train_soe_nd, y_test_soe_nd)\n",
    "_regressorAlgorithm_KFold(model, X_soe, y_soe)"
   ]
  },
  {
   "cell_type": "code",
   "execution_count": 306,
   "metadata": {},
   "outputs": [
    {
     "name": "stdout",
     "output_type": "stream",
     "text": [
      "RANDOM FOREST REGRESSION ALGORITHM PERFORMANCE RESULTS ON SINGLE OUTPUT ERROR\n"
     ]
    },
    {
     "name": "stderr",
     "output_type": "stream",
     "text": [
      "<ipython-input-234-d3cf25568291>:49: DataConversionWarning: A column-vector y was passed when a 1d array was expected. Please change the shape of y to (n_samples,), for example using ravel().\n",
      "  model.fit(x_train, y_train)\n"
     ]
    },
    {
     "name": "stdout",
     "output_type": "stream",
     "text": [
      "\n",
      "### Performance Summarization of _regressorAlgorithm ###\n",
      "\n",
      "Mean Absolute Error: 0.4709158233471758\n",
      "Mean Squared Error: 4.37877178891946\n",
      "Root Mean Squared Error: 2.092551502094861\n",
      "R2 score:  0.9836697422110251\n",
      "Explained Variance Score:  0.9836712311650462\n",
      "Mean Absolute Percentage Error:  294.5939258252585\n",
      "\n",
      "\n",
      "--- small graphs for training, large graphs for testing ---\n"
     ]
    },
    {
     "name": "stderr",
     "output_type": "stream",
     "text": [
      "<ipython-input-234-d3cf25568291>:49: DataConversionWarning: A column-vector y was passed when a 1d array was expected. Please change the shape of y to (n_samples,), for example using ravel().\n",
      "  model.fit(x_train, y_train)\n"
     ]
    },
    {
     "name": "stdout",
     "output_type": "stream",
     "text": [
      "\n",
      "### Performance Summarization of _regressorAlgorithm ###\n",
      "\n",
      "Mean Absolute Error: 2.9307930243957494\n",
      "Mean Squared Error: 16.66553189474811\n",
      "Root Mean Squared Error: 4.082343921664135\n",
      "R2 score:  0.9257303460246099\n",
      "Explained Variance Score:  0.9257971011371073\n",
      "Mean Absolute Percentage Error:  341.1707780327996\n"
     ]
    }
   ],
   "source": [
    "print(\"RANDOM FOREST REGRESSION ALGORITHM PERFORMANCE RESULTS ON SINGLE OUTPUT ERROR\")\n",
    "model = RandomForestRegressor(max_depth=1000, n_estimators=100, random_state=1)\n",
    "y_pred_rfr_soe, y_test_rfr_soe = _regressorAlgorithm(model, x_train_soe, x_test_soe, y_train_soe, y_test_soe)\n",
    "print(\"\\n\\n--- small graphs for training, large graphs for testing ---\")\n",
    "y_pred_rfr_soe_nd, y_test_rfr_soe_nd = _regressorAlgorithm(model, x_train_soe_nd, x_test_soe_nd, y_train_soe_nd, y_test_soe_nd)\n",
    "#_regressorAlgorithm_KFold(model, X_soe, y_soe)"
   ]
  },
  {
   "cell_type": "code",
   "execution_count": 307,
   "metadata": {},
   "outputs": [
    {
     "name": "stdout",
     "output_type": "stream",
     "text": [
      "DECISION TREE REGRESSION ALGORITHM PERFORMANCE RESULTS ON SINGLE OUTPUT ERROR\n",
      "\n",
      "### Performance Summarization of _regressorAlgorithm ###\n",
      "\n",
      "Mean Absolute Error: 0.46779437416080694\n",
      "Mean Squared Error: 4.6045931029439675\n",
      "Root Mean Squared Error: 2.1458315644392894\n",
      "R2 score:  0.9828275607843526\n",
      "Explained Variance Score:  0.9828288574521017\n",
      "Mean Absolute Percentage Error:  377.6744525884068\n",
      "\n",
      "\n",
      "--- small graphs for training, large graphs for testing ---\n",
      "\n",
      "### Performance Summarization of _regressorAlgorithm ###\n",
      "\n",
      "Mean Absolute Error: 3.1290115775240306\n",
      "Mean Squared Error: 19.528038754446786\n",
      "Root Mean Squared Error: 4.419054056520104\n",
      "R2 score:  0.9129736338287634\n",
      "Explained Variance Score:  0.9130220882287947\n",
      "Mean Absolute Percentage Error:  0.1297942086555997\n"
     ]
    }
   ],
   "source": [
    "print(\"DECISION TREE REGRESSION ALGORITHM PERFORMANCE RESULTS ON SINGLE OUTPUT ERROR\")\n",
    "model = DecisionTreeRegressor(max_depth=1000, splitter=\"best\", criterion=\"mse\", min_samples_split=2)\n",
    "y_pred_dtr_soe, y_test_dtr_soe = _regressorAlgorithm(model, x_train_soe, x_test_soe, y_train_soe, y_test_soe)\n",
    "print(\"\\n\\n--- small graphs for training, large graphs for testing ---\")\n",
    "y_pred_dtr_soe_nd, y_test_dtr_soe_nd = _regressorAlgorithm(model, x_train_soe_nd, x_test_soe_nd, y_train_soe_nd, y_test_soe_nd)\n",
    "#_regressorAlgorithm_KFold(model, X_soe, y_soe)"
   ]
  },
  {
   "cell_type": "code",
   "execution_count": 308,
   "metadata": {},
   "outputs": [
    {
     "name": "stdout",
     "output_type": "stream",
     "text": [
      "MLP REGRESSION ALGORITHM PERFORMANCE RESULTS ON SINGLE OUTPUT ERROR\n"
     ]
    },
    {
     "name": "stderr",
     "output_type": "stream",
     "text": [
      "/home/buse/anaconda3/lib/python3.8/site-packages/sklearn/utils/validation.py:63: DataConversionWarning: A column-vector y was passed when a 1d array was expected. Please change the shape of y to (n_samples, ), for example using ravel().\n",
      "  return f(*args, **kwargs)\n"
     ]
    },
    {
     "name": "stdout",
     "output_type": "stream",
     "text": [
      "\n",
      "### Performance Summarization of _regressorAlgorithm ###\n",
      "\n",
      "Mean Absolute Error: 9.190513055308104\n",
      "Mean Squared Error: 131.85003224401035\n",
      "Root Mean Squared Error: 11.482596929441108\n",
      "R2 score:  0.5082764939981781\n",
      "Explained Variance Score:  0.5091133392325387\n",
      "Mean Absolute Percentage Error:  246319490.53018987\n",
      "\n",
      "\n",
      "--- small graphs for training, large graphs for testing ---\n"
     ]
    },
    {
     "name": "stderr",
     "output_type": "stream",
     "text": [
      "/home/buse/anaconda3/lib/python3.8/site-packages/sklearn/utils/validation.py:63: DataConversionWarning: A column-vector y was passed when a 1d array was expected. Please change the shape of y to (n_samples, ), for example using ravel().\n",
      "  return f(*args, **kwargs)\n"
     ]
    },
    {
     "name": "stdout",
     "output_type": "stream",
     "text": [
      "\n",
      "### Performance Summarization of _regressorAlgorithm ###\n",
      "\n",
      "Mean Absolute Error: 9.092419248808056\n",
      "Mean Squared Error: 130.75222757403253\n",
      "Root Mean Squared Error: 11.434694030625941\n",
      "R2 score:  0.41730496453610877\n",
      "Explained Variance Score:  0.43234390948178425\n",
      "Mean Absolute Percentage Error:  324440070.8691782\n"
     ]
    }
   ],
   "source": [
    "print(\"MLP REGRESSION ALGORITHM PERFORMANCE RESULTS ON SINGLE OUTPUT ERROR\")\n",
    "model = MLPRegressor(hidden_layer_sizes=(4,8,4),activation=\"relu\" ,random_state=1, max_iter=50000)\n",
    "y_pred_mlpr_soe, y_test_mlpr_soe = _regressorAlgorithm(model, x_train_soe, x_test_soe, y_train_soe, y_test_soe)\n",
    "print(\"\\n\\n--- small graphs for training, large graphs for testing ---\")\n",
    "y_pred_mlpr_soe_nd, y_test_mlpr_soe_nd = _regressorAlgorithm(model, x_train_soe_nd, x_test_soe_nd, y_train_soe_nd, y_test_soe_nd)\n",
    "#_regressorAlgorithm_KFold(model, X_soe, y_soe)"
   ]
  },
  {
   "cell_type": "code",
   "execution_count": 309,
   "metadata": {},
   "outputs": [
    {
     "name": "stdout",
     "output_type": "stream",
     "text": [
      "MULTIOUTPUT REGRESSION ALGORITHM PERFORMANCE RESULTS ON SINGLE OUTPUT ERROR\n",
      "\n",
      "### Performance Summarization of _regressorAlgorithm ###\n",
      "\n",
      "Mean Absolute Error: 7.985248013605316\n",
      "Mean Squared Error: 98.40656113567148\n",
      "Root Mean Squared Error: 9.92000812175431\n",
      "R2 score:  0.6330010813674776\n",
      "Explained Variance Score:  0.6330097141731292\n",
      "Mean Absolute Percentage Error:  106190982.61863385\n",
      "\n",
      "\n",
      "--- small graphs for training, large graphs for testing ---\n",
      "\n",
      "### Performance Summarization of _regressorAlgorithm ###\n",
      "\n",
      "Mean Absolute Error: 8.697893062452584\n",
      "Mean Squared Error: 122.29369621674863\n",
      "Root Mean Squared Error: 11.058648028432255\n",
      "R2 score:  0.4550002628927987\n",
      "Explained Variance Score:  0.47493719429870285\n",
      "Mean Absolute Percentage Error:  169944376.1237833\n"
     ]
    }
   ],
   "source": [
    "print(\"MULTIOUTPUT REGRESSION ALGORITHM PERFORMANCE RESULTS ON SINGLE OUTPUT ERROR\")\n",
    "model = MultiOutputRegressor(Ridge(random_state=123))\n",
    "y_pred_mor_soe, y_test_mor_soe = _regressorAlgorithm(model, x_train_soe, x_test_soe, y_train_soe, y_test_soe)\n",
    "print(\"\\n\\n--- small graphs for training, large graphs for testing ---\")\n",
    "y_pred_mor_soe_nd, y_test_mor_soe_nd = _regressorAlgorithm(model, x_train_soe_nd, x_test_soe_nd, y_train_soe_nd, y_test_soe_nd)\n",
    "#_regressorAlgorithm_KFold(model, X_soe, y_soe)"
   ]
  },
  {
   "cell_type": "code",
   "execution_count": null,
   "metadata": {},
   "outputs": [],
   "source": []
  }
 ],
 "metadata": {
  "kernelspec": {
   "display_name": "Python 3",
   "language": "python",
   "name": "python3"
  },
  "language_info": {
   "codemirror_mode": {
    "name": "ipython",
    "version": 3
   },
   "file_extension": ".py",
   "mimetype": "text/x-python",
   "name": "python",
   "nbconvert_exporter": "python",
   "pygments_lexer": "ipython3",
   "version": "3.8.3"
  }
 },
 "nbformat": 4,
 "nbformat_minor": 4
}
