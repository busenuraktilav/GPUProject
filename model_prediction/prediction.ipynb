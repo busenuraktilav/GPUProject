{
 "cells": [
  {
   "cell_type": "code",
   "execution_count": 326,
   "metadata": {},
   "outputs": [],
   "source": [
    "import pandas as pd\n",
    "import numpy as np\n",
    "from numpy import absolute\n",
    "from numpy import mean\n",
    "from numpy import std\n",
    "from sklearn import preprocessing, metrics\n",
    "from sklearn.metrics import r2_score\n",
    "from sklearn.model_selection import train_test_split\n",
    "from sklearn.linear_model import LinearRegression\n",
    "from sklearn.neighbors import KNeighborsRegressor\n",
    "from sklearn.tree import DecisionTreeRegressor\n",
    "from sklearn.model_selection import cross_val_score\n",
    "from sklearn.model_selection import RepeatedKFold\n",
    "from sklearn.neural_network import MLPRegressor\n",
    "from sklearn.multioutput import MultiOutputRegressor\n",
    "from sklearn.linear_model import Ridge\n",
    "from sklearn.preprocessing import StandardScaler\n",
    "from sklearn.metrics import mean_squared_error\n",
    "import matplotlib.pyplot as plt\n",
    "from sklearn.preprocessing import OneHotEncoder\n",
    "from sklearn.model_selection import KFold\n",
    "from sklearn.model_selection import validation_curve\n",
    "from sklearn.ensemble import RandomForestRegressor"
   ]
  },
  {
   "cell_type": "code",
   "execution_count": 327,
   "metadata": {},
   "outputs": [],
   "source": [
    "def mean_absolute_percentage_error(y_true, y_pred): \n",
    "    y_true, y_pred = np.array(y_true), np.array(y_pred)\n",
    "    return np.mean(np.abs((y_true - y_pred) / (y_true+1))) * 100"
   ]
  },
  {
   "cell_type": "code",
   "execution_count": 344,
   "metadata": {},
   "outputs": [],
   "source": [
    "df01 = pd.read_csv(\"bellman_performance_results_final.csv\")\n",
    "df02 = pd.read_csv(\"dijkstra_performance_results_final.csv\")\n",
    "df03 = pd.read_csv(\"hybrid_performance_results_final.csv\")\n"
   ]
  },
  {
   "cell_type": "code",
   "execution_count": 345,
   "metadata": {},
   "outputs": [],
   "source": [
    "df01['AlgoBellman'] = 1\n",
    "df01['AlgoDijkstra'] = 0\n",
    "df01['AlgoHybrid'] = 0\n",
    "df02['AlgoBellman'] = 0\n",
    "df02['AlgoDijkstra'] = 1\n",
    "df02['AlgoHybrid'] = 0\n",
    "df03['AlgoBellman'] = 0\n",
    "df03['AlgoDijkstra'] = 0\n",
    "df03['AlgoHybrid'] = 1"
   ]
  },
  {
   "cell_type": "code",
   "execution_count": 346,
   "metadata": {},
   "outputs": [
    {
     "name": "stdout",
     "output_type": "stream",
     "text": [
      "      vertexNum    edgeNum  iterationNum  maxEdgeDegree  minProcessEdge  \\\n",
      "0        524288    8387658             7          25054               0   \n",
      "1        524288    8387658             7          25054               2   \n",
      "2        524288    8387658             7          25054               3   \n",
      "3        524288    8387658             7          25054               4   \n",
      "4        524288    8387658             7          25054               6   \n",
      "...         ...        ...           ...            ...             ...   \n",
      "1100   33554432  528693459             3         372162             561   \n",
      "1101   33554432  528693459             4         372162             561   \n",
      "1102   33554432  528693459             5         372162             561   \n",
      "1103   33554432  528693459             6         372162             561   \n",
      "1104   33554432  528693459             7         372162             561   \n",
      "\n",
      "      percentage  sOriginalDistance  sMinEdgetoProcess  sApprAttrValues  \\\n",
      "0            1.0                  1                  0                0   \n",
      "1            1.0                  0                  1                0   \n",
      "2            1.0                  0                  1                0   \n",
      "3            1.0                  0                  1                0   \n",
      "4            1.0                  0                  1                0   \n",
      "...          ...                ...                ...              ...   \n",
      "1100         1.0                  0                  1                0   \n",
      "1101         1.0                  0                  1                0   \n",
      "1102         1.0                  0                  1                0   \n",
      "1103         1.0                  0                  1                0   \n",
      "1104         1.0                  0                  1                0   \n",
      "\n",
      "      sReduceExecution  sPartialGraphProcess  sAtomicMinBlock  \\\n",
      "0                    0                     0                0   \n",
      "1                    0                     0                0   \n",
      "2                    0                     0                0   \n",
      "3                    0                     0                0   \n",
      "4                    0                     0                0   \n",
      "...                ...                   ...              ...   \n",
      "1100                 1                     0                0   \n",
      "1101                 1                     0                0   \n",
      "1102                 1                     0                0   \n",
      "1103                 1                     0                0   \n",
      "1104                 1                     0                0   \n",
      "\n",
      "      sAtomicMaxBlock  sAtomicAddBlock      Error  executionTime  AlgoBellman  \\\n",
      "0                   0                0   0.000000         26.250            1   \n",
      "1                   0                0   0.151353         25.125            1   \n",
      "2                   0                0   0.255608         24.500            1   \n",
      "3                   0                0   0.376860         24.000            1   \n",
      "4                   0                0   0.611287         24.000            1   \n",
      "...               ...              ...        ...            ...          ...   \n",
      "1100                0                0  11.665950       1137.875            0   \n",
      "1101                0                0  11.665950       1153.875            0   \n",
      "1102                0                0  11.665950       1172.500            0   \n",
      "1103                0                0  11.665950       1149.000            0   \n",
      "1104                0                0  11.665950       1154.250            0   \n",
      "\n",
      "      AlgoDijkstra  AlgoHybrid  \n",
      "0                0           0  \n",
      "1                0           0  \n",
      "2                0           0  \n",
      "3                0           0  \n",
      "4                0           0  \n",
      "...            ...         ...  \n",
      "1100             0           1  \n",
      "1101             0           1  \n",
      "1102             0           1  \n",
      "1103             0           1  \n",
      "1104             0           1  \n",
      "\n",
      "[4092 rows x 19 columns]\n"
     ]
    }
   ],
   "source": [
    "frames = [df01, df02, df03]\n",
    "concat = pd.concat(frames)\n",
    "df1 = concat\n",
    "print(df1)"
   ]
  },
  {
   "cell_type": "code",
   "execution_count": 347,
   "metadata": {
    "scrolled": true
   },
   "outputs": [
    {
     "name": "stdout",
     "output_type": "stream",
     "text": [
      "      vertexNum    edgeNum  iterationNum  maxEdgeDegree  minProcessEdge  \\\n",
      "0        524288    8387658             7          25054               0   \n",
      "1        524288    8387658             7          25054               2   \n",
      "2        524288    8387658             7          25054               3   \n",
      "3        524288    8387658             7          25054               4   \n",
      "4        524288    8387658             7          25054               6   \n",
      "...         ...        ...           ...            ...             ...   \n",
      "1100   33554432  528693459             3         372162             561   \n",
      "1101   33554432  528693459             4         372162             561   \n",
      "1102   33554432  528693459             5         372162             561   \n",
      "1103   33554432  528693459             6         372162             561   \n",
      "1104   33554432  528693459             7         372162             561   \n",
      "\n",
      "      percentage  sOriginalDistance  sMinEdgetoProcess  sApprAttrValues  \\\n",
      "0            1.0                  1                  0                0   \n",
      "1            1.0                  0                  1                0   \n",
      "2            1.0                  0                  1                0   \n",
      "3            1.0                  0                  1                0   \n",
      "4            1.0                  0                  1                0   \n",
      "...          ...                ...                ...              ...   \n",
      "1100         1.0                  0                  1                0   \n",
      "1101         1.0                  0                  1                0   \n",
      "1102         1.0                  0                  1                0   \n",
      "1103         1.0                  0                  1                0   \n",
      "1104         1.0                  0                  1                0   \n",
      "\n",
      "      sReduceExecution  sPartialGraphProcess  sAtomicMinBlock  \\\n",
      "0                    0                     0                0   \n",
      "1                    0                     0                0   \n",
      "2                    0                     0                0   \n",
      "3                    0                     0                0   \n",
      "4                    0                     0                0   \n",
      "...                ...                   ...              ...   \n",
      "1100                 1                     0                0   \n",
      "1101                 1                     0                0   \n",
      "1102                 1                     0                0   \n",
      "1103                 1                     0                0   \n",
      "1104                 1                     0                0   \n",
      "\n",
      "      sAtomicMaxBlock  sAtomicAddBlock      Error  executionTime  AlgoBellman  \\\n",
      "0                   0                0   0.000000         26.250            1   \n",
      "1                   0                0   0.151353         25.125            1   \n",
      "2                   0                0   0.255608         24.500            1   \n",
      "3                   0                0   0.376860         24.000            1   \n",
      "4                   0                0   0.611287         24.000            1   \n",
      "...               ...              ...        ...            ...          ...   \n",
      "1100                0                0  11.665950       1137.875            0   \n",
      "1101                0                0  11.665950       1153.875            0   \n",
      "1102                0                0  11.665950       1172.500            0   \n",
      "1103                0                0  11.665950       1149.000            0   \n",
      "1104                0                0  11.665950       1154.250            0   \n",
      "\n",
      "      AlgoDijkstra  AlgoHybrid  graphSize  \n",
      "0                0           0          1  \n",
      "1                0           0          1  \n",
      "2                0           0          1  \n",
      "3                0           0          1  \n",
      "4                0           0          1  \n",
      "...            ...         ...        ...  \n",
      "1100             0           1         64  \n",
      "1101             0           1         64  \n",
      "1102             0           1         64  \n",
      "1103             0           1         64  \n",
      "1104             0           1         64  \n",
      "\n",
      "[4092 rows x 20 columns]\n"
     ]
    }
   ],
   "source": [
    "conditions = [df1['vertexNum'] == 524288, df1['vertexNum'] == 1048576, df1['vertexNum'] == 2097152, df1['vertexNum'] == 4194304, df1['vertexNum'] == 8388608, df1['vertexNum'] == 16777216, df1['vertexNum'] == 33554432]\n",
    "numbers = [1, 2, 4, 8, 16, 32, 64]\n",
    "df1['graphSize'] = np.select(conditions, numbers, default=0)\n",
    "print(df1)"
   ]
  },
  {
   "cell_type": "code",
   "execution_count": 348,
   "metadata": {},
   "outputs": [
    {
     "name": "stdout",
     "output_type": "stream",
     "text": [
      "      iterationNum  minProcessEdge  percentage  sOriginalDistance  \\\n",
      "0                7               0         1.0                  1   \n",
      "1                7               2         1.0                  0   \n",
      "2                7               3         1.0                  0   \n",
      "3                7               4         1.0                  0   \n",
      "4                7               6         1.0                  0   \n",
      "...            ...             ...         ...                ...   \n",
      "1100             3             561         1.0                  0   \n",
      "1101             4             561         1.0                  0   \n",
      "1102             5             561         1.0                  0   \n",
      "1103             6             561         1.0                  0   \n",
      "1104             7             561         1.0                  0   \n",
      "\n",
      "      sMinEdgetoProcess  sApprAttrValues  sReduceExecution  \\\n",
      "0                     0                0                 0   \n",
      "1                     1                0                 0   \n",
      "2                     1                0                 0   \n",
      "3                     1                0                 0   \n",
      "4                     1                0                 0   \n",
      "...                 ...              ...               ...   \n",
      "1100                  1                0                 1   \n",
      "1101                  1                0                 1   \n",
      "1102                  1                0                 1   \n",
      "1103                  1                0                 1   \n",
      "1104                  1                0                 1   \n",
      "\n",
      "      sPartialGraphProcess      Error  executionTime  AlgoBellman  \\\n",
      "0                        0   0.000000         26.250            1   \n",
      "1                        0   0.151353         25.125            1   \n",
      "2                        0   0.255608         24.500            1   \n",
      "3                        0   0.376860         24.000            1   \n",
      "4                        0   0.611287         24.000            1   \n",
      "...                    ...        ...            ...          ...   \n",
      "1100                     0  11.665950       1137.875            0   \n",
      "1101                     0  11.665950       1153.875            0   \n",
      "1102                     0  11.665950       1172.500            0   \n",
      "1103                     0  11.665950       1149.000            0   \n",
      "1104                     0  11.665950       1154.250            0   \n",
      "\n",
      "      AlgoDijkstra  AlgoHybrid  graphSize  \n",
      "0                0           0          1  \n",
      "1                0           0          1  \n",
      "2                0           0          1  \n",
      "3                0           0          1  \n",
      "4                0           0          1  \n",
      "...            ...         ...        ...  \n",
      "1100             0           1         64  \n",
      "1101             0           1         64  \n",
      "1102             0           1         64  \n",
      "1103             0           1         64  \n",
      "1104             0           1         64  \n",
      "\n",
      "[4092 rows x 14 columns]\n",
      "      iterationNum  minProcessEdge  percentage  sOriginalDistance  \\\n",
      "0                7               0         1.0                  1   \n",
      "1                7               2         1.0                  0   \n",
      "2                7               3         1.0                  0   \n",
      "3                7               4         1.0                  0   \n",
      "4                7               6         1.0                  0   \n",
      "...            ...             ...         ...                ...   \n",
      "1100             3             561         1.0                  0   \n",
      "1101             4             561         1.0                  0   \n",
      "1102             5             561         1.0                  0   \n",
      "1103             6             561         1.0                  0   \n",
      "1104             7             561         1.0                  0   \n",
      "\n",
      "      sMinEdgetoProcess  sApprAttrValues  sReduceExecution  \\\n",
      "0                     0                0                 0   \n",
      "1                     1                0                 0   \n",
      "2                     1                0                 0   \n",
      "3                     1                0                 0   \n",
      "4                     1                0                 0   \n",
      "...                 ...              ...               ...   \n",
      "1100                  1                0                 1   \n",
      "1101                  1                0                 1   \n",
      "1102                  1                0                 1   \n",
      "1103                  1                0                 1   \n",
      "1104                  1                0                 1   \n",
      "\n",
      "      sPartialGraphProcess      Error  executionTime  AlgoBellman  \\\n",
      "0                        0   0.000000         26.250            1   \n",
      "1                        0   0.151353         25.125            1   \n",
      "2                        0   0.255608         24.500            1   \n",
      "3                        0   0.376860         24.000            1   \n",
      "4                        0   0.611287         24.000            1   \n",
      "...                    ...        ...            ...          ...   \n",
      "1100                     0  11.665950       1137.875            0   \n",
      "1101                     0  11.665950       1153.875            0   \n",
      "1102                     0  11.665950       1172.500            0   \n",
      "1103                     0  11.665950       1149.000            0   \n",
      "1104                     0  11.665950       1154.250            0   \n",
      "\n",
      "      AlgoDijkstra  AlgoHybrid  graphSize  \n",
      "0                0           0          1  \n",
      "1                0           0          1  \n",
      "2                0           0          1  \n",
      "3                0           0          1  \n",
      "4                0           0          1  \n",
      "...            ...         ...        ...  \n",
      "1100             0           1         64  \n",
      "1101             0           1         64  \n",
      "1102             0           1         64  \n",
      "1103             0           1         64  \n",
      "1104             0           1         64  \n",
      "\n",
      "[4092 rows x 14 columns]\n"
     ]
    }
   ],
   "source": [
    "#one-hot encoding - nothing is dropped\n",
    "\n",
    "df1 = df1.drop(['vertexNum', 'edgeNum', 'maxEdgeDegree',\n",
    "                'sAtomicMinBlock', 'sAtomicMaxBlock',\n",
    "                'sAtomicAddBlock'], axis=1)\n",
    "\n",
    "\n",
    "print(df1)\n",
    "df1.dropna(inplace=True)\n",
    "print(df1)\n"
   ]
  },
  {
   "cell_type": "code",
   "execution_count": 349,
   "metadata": {},
   "outputs": [
    {
     "name": "stdout",
     "output_type": "stream",
     "text": [
      "      iterationNum  minProcessEdge  percentage  sOriginalDistance  \\\n",
      "0                7        1.000000         1.0                  1   \n",
      "1                7        0.960870         1.0                  0   \n",
      "2                7        0.942431         1.0                  0   \n",
      "3                7        0.924686         1.0                  0   \n",
      "4                7        0.891129         1.0                  0   \n",
      "...            ...             ...         ...                ...   \n",
      "1100             3        0.100000         1.0                  0   \n",
      "1101             4        0.100000         1.0                  0   \n",
      "1102             5        0.100000         1.0                  0   \n",
      "1103             6        0.100000         1.0                  0   \n",
      "1104             7        0.100000         1.0                  0   \n",
      "\n",
      "      sMinEdgetoProcess  sApprAttrValues  sReduceExecution  \\\n",
      "0                     0                0                 0   \n",
      "1                     1                0                 0   \n",
      "2                     1                0                 0   \n",
      "3                     1                0                 0   \n",
      "4                     1                0                 0   \n",
      "...                 ...              ...               ...   \n",
      "1100                  1                0                 1   \n",
      "1101                  1                0                 1   \n",
      "1102                  1                0                 1   \n",
      "1103                  1                0                 1   \n",
      "1104                  1                0                 1   \n",
      "\n",
      "      sPartialGraphProcess      Error  executionTime  AlgoBellman  \\\n",
      "0                        0   0.000000         26.250            1   \n",
      "1                        0   0.151353         25.125            1   \n",
      "2                        0   0.255608         24.500            1   \n",
      "3                        0   0.376860         24.000            1   \n",
      "4                        0   0.611287         24.000            1   \n",
      "...                    ...        ...            ...          ...   \n",
      "1100                     0  11.665950       1137.875            0   \n",
      "1101                     0  11.665950       1153.875            0   \n",
      "1102                     0  11.665950       1172.500            0   \n",
      "1103                     0  11.665950       1149.000            0   \n",
      "1104                     0  11.665950       1154.250            0   \n",
      "\n",
      "      AlgoDijkstra  AlgoHybrid  graphSize  \n",
      "0                0           0          1  \n",
      "1                0           0          1  \n",
      "2                0           0          1  \n",
      "3                0           0          1  \n",
      "4                0           0          1  \n",
      "...            ...         ...        ...  \n",
      "1100             0           1         64  \n",
      "1101             0           1         64  \n",
      "1102             0           1         64  \n",
      "1103             0           1         64  \n",
      "1104             0           1         64  \n",
      "\n",
      "[4092 rows x 14 columns]\n"
     ]
    }
   ],
   "source": [
    "df1 = df1[df1['minProcessEdge'] >= 0]\n",
    "\n",
    "\n",
    "\n",
    "for i in numbers:\n",
    "    mini = df1[df1['graphSize'] == i]['minProcessEdge'].min()\n",
    "    maxi = df1[df1['graphSize'] == i]['minProcessEdge'].max()\n",
    "    df1.loc[df1['graphSize'] == i, ['minProcessEdge']] = 1.0 / ((((df1.loc[df1['graphSize'] == i, ['minProcessEdge']] - mini) / (maxi - mini)) * 9) + 1)\n",
    "\n",
    "print(df1)"
   ]
  },
  {
   "cell_type": "code",
   "execution_count": 350,
   "metadata": {},
   "outputs": [],
   "source": [
    "X = df1.drop(['executionTime', 'Error'],axis=1)\n",
    "#y = df1[['executionTime']]\n",
    "y = df1[['executionTime', 'Error']]"
   ]
  },
  {
   "cell_type": "code",
   "execution_count": 351,
   "metadata": {},
   "outputs": [],
   "source": [
    "X = X.values\n",
    "x_train, x_test, y_train, y_test = train_test_split(X, y, test_size=0.2, random_state=13)"
   ]
  },
  {
   "cell_type": "code",
   "execution_count": 336,
   "metadata": {},
   "outputs": [
    {
     "name": "stdout",
     "output_type": "stream",
     "text": [
      "0.44269037149618357\n",
      "Mean Absolute Error: 55.26502745120746\n",
      "Mean Squared Error: 11257.08094734558\n",
      "Root Mean Squared Error: 106.09939183306179\n",
      "MAPE:  348.5216242053659\n"
     ]
    }
   ],
   "source": [
    "model = LinearRegression()\n",
    "model.fit(x_train, y_train)\n",
    "y_pred = model.predict(x_test)\n",
    "\n",
    "print(r2_score(y_pred, y_test))\n",
    "\n",
    "print('Mean Absolute Error:', metrics.mean_absolute_error(y_test, y_pred))\n",
    "print('Mean Squared Error:', metrics.mean_squared_error(y_test, y_pred))\n",
    "print('Root Mean Squared Error:', np.sqrt(metrics.mean_squared_error(y_test, y_pred)))\n",
    "print('MAPE: ', mean_absolute_percentage_error(y_test, y_pred))"
   ]
  },
  {
   "cell_type": "code",
   "execution_count": 337,
   "metadata": {},
   "outputs": [
    {
     "name": "stdout",
     "output_type": "stream",
     "text": [
      "      executionTime      Error\n",
      "821          97.125  46.383034\n",
      "217          24.875   0.255608\n",
      "646          26.250  25.368210\n",
      "229          23.000   0.914919\n",
      "518          99.125   4.792378\n",
      "...             ...        ...\n",
      "599         190.250   0.306336\n",
      "1061       1343.000   3.634882\n",
      "525         104.250   4.792378\n",
      "825          69.875  13.575014\n",
      "374          52.750   4.144991\n",
      "\n",
      "[819 rows x 2 columns]\n",
      "[[ 195.79970087   28.87463534]\n",
      " [  35.08946229   -0.65600604]\n",
      " [-115.72288904   30.1602262 ]\n",
      " ...\n",
      " [ 258.73029346   -3.34355179]\n",
      " [  -6.7764914    20.91721424]\n",
      " [  55.62072221   21.88408857]]\n"
     ]
    }
   ],
   "source": [
    "print(y_test)\n",
    "print(y_pred)"
   ]
  },
  {
   "cell_type": "code",
   "execution_count": null,
   "metadata": {},
   "outputs": [],
   "source": []
  },
  {
   "cell_type": "code",
   "execution_count": 338,
   "metadata": {},
   "outputs": [
    {
     "name": "stdout",
     "output_type": "stream",
     "text": [
      "Mean Absolute Error: 5.495965413675211\n",
      "Mean Squared Error: 293.5417429705773\n",
      "Root Mean Squared Error: 17.13305994183693\n",
      "R2 score:  0.9607228901575908\n",
      "MAPE:  28.55553367143637\n"
     ]
    }
   ],
   "source": [
    "model = KNeighborsRegressor()\n",
    "model.fit(x_train, y_train)\n",
    "y_pred = model.predict(x_test)\n",
    "\n",
    "print('Mean Absolute Error:', metrics.mean_absolute_error(y_test, y_pred))\n",
    "print('Mean Squared Error:', metrics.mean_squared_error(y_test, y_pred))\n",
    "print('Root Mean Squared Error:', np.sqrt(metrics.mean_squared_error(y_test, y_pred)))\n",
    "print('R2 score: ', r2_score(y_test, y_pred))\n",
    "print('MAPE: ', mean_absolute_percentage_error(y_test, y_pred))"
   ]
  },
  {
   "cell_type": "code",
   "execution_count": 339,
   "metadata": {},
   "outputs": [
    {
     "name": "stdout",
     "output_type": "stream",
     "text": [
      "      executionTime      Error\n",
      "821          97.125  46.383034\n",
      "217          24.875   0.255608\n",
      "646          26.250  25.368210\n",
      "229          23.000   0.914919\n",
      "518          99.125   4.792378\n",
      "...             ...        ...\n",
      "599         190.250   0.306336\n",
      "1061       1343.000   3.634882\n",
      "525         104.250   4.792378\n",
      "825          69.875  13.575014\n",
      "374          52.750   4.144991\n",
      "\n",
      "[819 rows x 2 columns]\n",
      "[[ 97.075      46.383034 ]\n",
      " [ 23.15        1.6644604]\n",
      " [ 25.975      26.0000516]\n",
      " ...\n",
      " [103.225       7.1666326]\n",
      " [ 67.275      14.7493546]\n",
      " [ 57.55        6.0985622]]\n"
     ]
    }
   ],
   "source": [
    "print(y_test)\n",
    "print(y_pred)"
   ]
  },
  {
   "cell_type": "code",
   "execution_count": 340,
   "metadata": {},
   "outputs": [
    {
     "name": "stdout",
     "output_type": "stream",
     "text": [
      "Mean Absolute Error: 2.059706112018664\n",
      "Mean Squared Error: 99.25256215828031\n",
      "Root Mean Squared Error: 9.962558012793718\n",
      "R2 score:  0.9916077616361527\n",
      "MAE: 1.725 (0.190)\n",
      "MAPE:  6.861076265801387\n"
     ]
    }
   ],
   "source": [
    "model = RandomForestRegressor(max_depth=1000, n_estimators=100, random_state=1)\n",
    "model.fit(x_train, y_train)\n",
    "\n",
    "y_pred = model.predict(x_test)\n",
    "\n",
    "print('Mean Absolute Error:', metrics.mean_absolute_error(y_test, y_pred))\n",
    "print('Mean Squared Error:', metrics.mean_squared_error(y_test, y_pred))\n",
    "print('Root Mean Squared Error:', np.sqrt(metrics.mean_squared_error(y_test, y_pred)))\n",
    "print('R2 score: ', r2_score(y_test, y_pred))\n",
    "\n",
    "cv = RepeatedKFold(n_splits=10, n_repeats=5, random_state=1)\n",
    "# evaluate the model and collect the scores\n",
    "n_scores = cross_val_score(model, X, y, scoring='neg_mean_absolute_error', cv=cv, n_jobs=-1)\n",
    "# force the scores to be positive\n",
    "n_scores = absolute(n_scores)\n",
    "# summarize performance\n",
    "print('MAE: %.3f (%.3f)' % (mean(n_scores), std(n_scores)))\n",
    "print('MAPE: ', mean_absolute_percentage_error(y_test, y_pred))"
   ]
  },
  {
   "cell_type": "code",
   "execution_count": 342,
   "metadata": {},
   "outputs": [
    {
     "name": "stdout",
     "output_type": "stream",
     "text": [
      "[23.1325, 24.42, 25.98, 39.00375, 39.2025, 39.34375, 62.765, 66.74875, 67.0875, 79.625, 97.80875, 98.18875, 194.11625, 196.625, 200.4525, 226.22375, 226.88625, 508.41125, 742.9575, 1172.02625]\n",
      "[23.0, 24.875, 26.25, 39.0, 39.125, 39.875, 65.875, 67.375, 67.5, 78.125, 97.125, 99.125, 194.75, 195.125, 202.25, 224.5, 227.125, 511.125, 748.25, 1136.125]\n"
     ]
    },
    {
     "data": {
      "image/png": "[encoded data removed]",
      "text/plain": [
       "<Figure size 432x288 with 1 Axes>"
      ]
     },
     "metadata": {
      "needs_background": "light"
     },
     "output_type": "display_data"
    }
   ],
   "source": [
    "y_pred_exec = []\n",
    "y_pred_err = []\n",
    "y_test_exec = []\n",
    "y_test_err = []\n",
    "y_test_n = y_test.to_numpy()\n",
    "y_pred_n = y_pred\n",
    "y_test_n.sort()\n",
    "y_pred_n.sort()\n",
    "for i in range(20):\n",
    "    y_pred_exec.append(y_pred_n[i][1])\n",
    "    y_pred_err.append(y_pred_n[i][0])\n",
    "    y_test_exec.append(y_test_n[i][1])\n",
    "    y_test_err.append(y_test_n[i][0])\n",
    "    \n",
    "y_pred_exec.sort()\n",
    "y_test_exec.sort()\n",
    "y_pred_err.sort()\n",
    "y_test_err.sort()\n",
    "print(y_pred_exec)\n",
    "print(y_test_exec)\n",
    "    \n",
    "\n",
    "draw_BFDJ(y_pred_exec, y_pred_err, y_test_exec, y_test_err, \"execution time\", \"error\")"
   ]
  },
  {
   "cell_type": "code",
   "execution_count": 343,
   "metadata": {},
   "outputs": [
    {
     "name": "stdout",
     "output_type": "stream",
     "text": [
      "      executionTime        Error\n",
      "821       46.383034    97.125000\n",
      "217        0.255608    24.875000\n",
      "646       25.368210    26.250000\n",
      "229        0.914919    23.000000\n",
      "518        4.792378    99.125000\n",
      "1089      15.625386    67.375000\n",
      "1389      11.277799   195.125000\n",
      "51         0.001283    67.500000\n",
      "85         0.000000    78.125000\n",
      "1380      10.960795   202.250000\n",
      "1873      14.768590   511.125000\n",
      "636        3.600784   194.750000\n",
      "1287       8.789064   227.125000\n",
      "39         7.775328    65.875000\n",
      "647       20.682224    39.875000\n",
      "549        6.369783    39.000000\n",
      "1099       7.662943  1136.125000\n",
      "239        4.646204    39.125000\n",
      "155        0.010089   748.250000\n",
      "1303       8.724759   224.500000\n",
      "1084       5.153821  1215.250000\n",
      "934       22.519369    37.500000\n",
      "447       17.576965    51.000000\n",
      "970        0.719276   122.375000\n",
      "685       21.265091    46.500000\n",
      "184        0.151353    32.125000\n",
      "768        2.679620   358.250000\n",
      "1300      13.975708   115.875000\n",
      "1070      10.712226   125.500000\n",
      "1187      13.979568   112.500000\n",
      "912        0.000000    50.586151\n",
      "620        1.481850   199.625000\n",
      "100        0.000181   247.750000\n",
      "205        0.255608    40.000000\n",
      "1571       9.129182   375.875000\n",
      "1625      11.901838   327.375000\n",
      "98        48.460003    75.250000\n",
      "159        0.305325  1450.500000\n",
      "216        0.255608    24.625000\n",
      "1169      15.737798   104.750000\n",
      "366       21.406412    29.000000\n",
      "303        9.756318    21.000000\n",
      "715        0.000000    50.586151\n",
      "374        4.478176    54.625000\n",
      "676        5.627741   189.500000\n",
      "721        0.127870    69.500000\n",
      "114        0.000000   147.000000\n",
      "233        0.611287    24.000000\n",
      "262        5.702501    36.000000\n",
      "224        0.376860    24.125000\n",
      "247        2.091799    23.000000\n",
      "731       46.383034    94.500000\n",
      "649        4.074704   197.750000\n",
      "292       11.000000    34.811028\n",
      "819       16.265066    49.000000\n",
      "887       13.668689    69.750000\n",
      "431       10.311116    52.250000\n",
      "363        1.835153    59.500000\n",
      "753        3.529978    63.375000\n",
      "1164      14.422245   108.250000\n",
      "[[ 46.383034    98.18875   ]\n",
      " [  0.27127646  24.42      ]\n",
      " [ 25.85761369  25.98      ]\n",
      " ...\n",
      " [  4.84456378 104.46      ]\n",
      " [ 13.77480721  69.53125   ]\n",
      " [  4.05258389  56.69125   ]]\n"
     ]
    }
   ],
   "source": [
    "print(y_test.head(60))\n",
    "print(y_pred)"
   ]
  },
  {
   "cell_type": "code",
   "execution_count": 352,
   "metadata": {},
   "outputs": [
    {
     "name": "stdout",
     "output_type": "stream",
     "text": [
      "Mean Absolute Error: 2.2850185964590963\n",
      "Mean Squared Error: 107.48730144360448\n",
      "Root Mean Squared Error: 10.367608279810947\n",
      "R2 score:  0.9901246783483328\n",
      "MAE: 1.906 (0.230)\n",
      "MAPE:  3.06967260451819\n"
     ]
    }
   ],
   "source": [
    "#predicts the best results\n",
    "\n",
    "model = DecisionTreeRegressor(max_depth=1000, splitter=\"best\", criterion=\"mse\", min_samples_split=2)\n",
    "model.fit(x_train, y_train)\n",
    "\n",
    "y_pred = model.predict(x_test)\n",
    "\n",
    "print('Mean Absolute Error:', metrics.mean_absolute_error(y_test, y_pred))\n",
    "print('Mean Squared Error:', metrics.mean_squared_error(y_test, y_pred))\n",
    "print('Root Mean Squared Error:', np.sqrt(metrics.mean_squared_error(y_test, y_pred)))\n",
    "print('R2 score: ', r2_score(y_test, y_pred))\n",
    "\n",
    "cv = RepeatedKFold(n_splits=10, n_repeats=5, random_state=1)\n",
    "# evaluate the model and collect the scores\n",
    "n_scores = cross_val_score(model, X, y, scoring='neg_mean_absolute_error', cv=cv, n_jobs=-1)\n",
    "# force the scores to be positive\n",
    "n_scores = absolute(n_scores)\n",
    "# summarize performance\n",
    "print('MAE: %.3f (%.3f)' % (mean(n_scores), std(n_scores)))\n",
    "print('MAPE: ', mean_absolute_percentage_error(y_test, y_pred))"
   ]
  },
  {
   "cell_type": "code",
   "execution_count": 354,
   "metadata": {},
   "outputs": [
    {
     "name": "stdout",
     "output_type": "stream",
     "text": [
      "[23.0, 24.75, 26.0, 39.0, 39.25, 39.375, 63.25, 66.625, 66.875, 78.75, 98.125, 98.375, 194.625, 195.75, 201.25, 224.25, 225.75, 506.0, 761.5, 1173.25]\n",
      "[23.0, 24.875, 26.25, 39.0, 39.125, 39.875, 65.875, 67.375, 67.5, 78.125, 97.125, 99.125, 194.75, 195.125, 202.25, 224.5, 227.125, 511.125, 748.25, 1136.125]\n"
     ]
    },
    {
     "data": {
      "image/png": "[encoded data removed]",
      "text/plain": [
       "<Figure size 432x288 with 1 Axes>"
      ]
     },
     "metadata": {
      "needs_background": "light"
     },
     "output_type": "display_data"
    }
   ],
   "source": [
    "y_pred_exec = []\n",
    "y_pred_err = []\n",
    "y_test_exec = []\n",
    "y_test_err = []\n",
    "y_test_n = y_test.to_numpy()\n",
    "y_test_n.sort()\n",
    "y_pred.sort()\n",
    "for i in range(20):\n",
    "    y_pred_exec.append(y_pred[i][1])\n",
    "    y_pred_err.append(y_pred[i][0])\n",
    "    y_test_exec.append(y_test_n[i][1])\n",
    "    y_test_err.append(y_test_n[i][0])\n",
    "    \n",
    "y_pred_exec.sort()\n",
    "y_test_exec.sort()\n",
    "y_pred_err.sort()\n",
    "y_test_err.sort()\n",
    "print(y_pred_exec)\n",
    "print(y_test_exec)\n",
    "    \n",
    "\n",
    "draw_BFDJ(y_pred_exec, y_pred_err, y_test_exec, y_test_err, \"execution time\", \"error\")"
   ]
  },
  {
   "cell_type": "code",
   "execution_count": 353,
   "metadata": {},
   "outputs": [
    {
     "name": "stdout",
     "output_type": "stream",
     "text": [
      "      executionTime      Error\n",
      "821          97.125  46.383034\n",
      "217          24.875   0.255608\n",
      "646          26.250  25.368210\n",
      "229          23.000   0.914919\n",
      "518          99.125   4.792378\n",
      "1089         67.375  15.625386\n",
      "1389        195.125  11.277799\n",
      "51           67.500   0.001283\n",
      "85           78.125   0.000000\n",
      "1380        202.250  10.960795\n",
      "1873        511.125  14.768590\n",
      "636         194.750   3.600784\n",
      "1287        227.125   8.789064\n",
      "39           65.875   7.775328\n",
      "647          39.875  20.682224\n",
      "549          39.000   6.369783\n",
      "1099       1136.125   7.662943\n",
      "239          39.125   4.646204\n",
      "155         748.250   0.010089\n",
      "1303        224.500   8.724759\n",
      "1084       1215.250   5.153821\n",
      "934          37.500  22.519369\n",
      "447          51.000  17.576965\n",
      "970         122.375   0.719276\n",
      "685          46.500  21.265091\n",
      "184          32.125   0.151353\n",
      "768         358.250   2.679620\n",
      "1300        115.875  13.975708\n",
      "1070        125.500  10.712226\n",
      "1187        112.500  13.979568\n",
      "912           0.000  50.586151\n",
      "620         199.625   1.481850\n",
      "100         247.750   0.000181\n",
      "205          40.000   0.255608\n",
      "1571        375.875   9.129182\n",
      "1625        327.375  11.901838\n",
      "98           75.250  48.460003\n",
      "159        1450.500   0.305325\n",
      "216          24.625   0.255608\n",
      "1169        104.750  15.737798\n",
      "366          29.000  21.406412\n",
      "303          21.000   9.756318\n",
      "715           0.000  50.586151\n",
      "374          54.625   4.478176\n",
      "676         189.500   5.627741\n",
      "721          69.500   0.127870\n",
      "114         147.000   0.000000\n",
      "233          24.000   0.611287\n",
      "262          36.000   5.702501\n",
      "224          24.125   0.376860\n",
      "247          23.000   2.091799\n",
      "731          94.500  46.383034\n",
      "649         197.750   4.074704\n",
      "292          11.000  34.811028\n",
      "819          49.000  16.265066\n",
      "887          69.750  13.668689\n",
      "431          52.250  10.311116\n",
      "363          59.500   1.835153\n",
      "753          63.375   3.529978\n",
      "1164        108.250  14.422245\n",
      "[[ 98.125     46.383034]\n",
      " [ 24.75       0.255608]\n",
      " [ 26.        25.592619]\n",
      " ...\n",
      " [104.375      4.792378]\n",
      " [ 69.25      13.834131]\n",
      " [ 60.75       5.293756]]\n"
     ]
    }
   ],
   "source": [
    "print(y_test.head(60))\n",
    "print(y_pred)"
   ]
  },
  {
   "cell_type": "code",
   "execution_count": null,
   "metadata": {},
   "outputs": [],
   "source": []
  },
  {
   "cell_type": "code",
   "execution_count": 19,
   "metadata": {},
   "outputs": [],
   "source": []
  },
  {
   "cell_type": "code",
   "execution_count": 20,
   "metadata": {},
   "outputs": [
    {
     "name": "stdout",
     "output_type": "stream",
     "text": [
      "349.03836847878284\n",
      "2\n",
      "348.6165394998875\n",
      "-6.208512668324784\n",
      "Training set score: 0.491691\n",
      "Test set score: 0.479734\n",
      "MAPE:  101.96432556063719\n"
     ]
    }
   ],
   "source": [
    "#t = [(2),(3),(4),(5),(6),(7),(8),(9),(10),(2,2),(3,2),(4,2),(5,2),(6,2),(7,2),(8,2)]\n",
    "\n",
    "#sc_X = StandardScaler()\n",
    "#X_trainscaled=sc_X.fit_transform(x_train)\n",
    "#X_testscaled=sc_X.transform(x_test)\n",
    "X_trainscaled = x_train\n",
    "X_testscaled = x_test\n",
    "\n",
    "model = MLPRegressor(hidden_layer_sizes=(4,8,4),activation=\"relu\" ,random_state=1, max_iter=50000)\n",
    "#model.fit(X_trainscaled, y_train.values.ravel()).loss_\n",
    "model.fit(X_trainscaled, y_train).loss_ #multiple outputs\n",
    "print(model.loss_)\n",
    "#print(model.loss_curve_)\n",
    "print(model.n_outputs_)\n",
    "print(model.best_loss_)\n",
    "y_pred=model.predict(X_testscaled)\n",
    "\n",
    "\n",
    "print(r2_score(y_pred, y_test))\n",
    "#print(\"Training set score: %f\" % model.score(X_trainscaled, y_train.values.ravel()))\n",
    "print(\"Training set score: %f\" % model.score(X_trainscaled, y_train)) #multiple output\n",
    "print(\"Test set score: %f\" % model.score(X_testscaled, y_test))\n",
    "print('MAPE: ', mean_absolute_percentage_error(y_test, y_pred))"
   ]
  },
  {
   "cell_type": "code",
   "execution_count": 21,
   "metadata": {},
   "outputs": [
    {
     "name": "stdout",
     "output_type": "stream",
     "text": [
      "      executionTime      Error\n",
      "165        1453.250   0.305325\n",
      "523         105.250   4.048765\n",
      "925         691.500   3.044508\n",
      "164        1448.750   0.158898\n",
      "373          25.000  24.031317\n",
      "...             ...        ...\n",
      "1843        620.125  10.632913\n",
      "513          42.500   1.912163\n",
      "487         109.500   1.479863\n",
      "901          64.375  14.572922\n",
      "827          69.750  14.065902\n",
      "\n",
      "[758 rows x 2 columns]\n",
      "[[1396.71967924   -2.58203792]\n",
      " [  98.30302225   12.38387991]\n",
      " [ 660.09867325    5.8609019 ]\n",
      " ...\n",
      " [ 132.61591635   11.28147543]\n",
      " [  50.06303958   11.64616643]\n",
      " [  60.43082523   11.75250415]]\n",
      "Test set score: 0.479734\n"
     ]
    }
   ],
   "source": [
    "print(y_test)\n",
    "print(y_pred)\n",
    "print(\"Test set score: %f\" % model.score(X_testscaled, y_test))"
   ]
  },
  {
   "cell_type": "code",
   "execution_count": 22,
   "metadata": {},
   "outputs": [
    {
     "name": "stdout",
     "output_type": "stream",
     "text": [
      "y1 MSE:657.8878\n",
      "Mean Absolute Error: 15.892685996317976\n",
      "Mean Squared Error: 657.8878127445028\n",
      "Root Mean Squared Error: 25.649323826263\n",
      "MAPE:  101.96432556063719\n"
     ]
    }
   ],
   "source": [
    "print(\"y1 MSE:%.4f\" % mean_squared_error(y_test, y_pred)) \n",
    "\n",
    "print('Mean Absolute Error:', metrics.mean_absolute_error(y_test, y_pred))\n",
    "print('Mean Squared Error:', metrics.mean_squared_error(y_test, y_pred))\n",
    "print('Root Mean Squared Error:', np.sqrt(metrics.mean_squared_error(y_test, y_pred)))\n",
    "print('MAPE: ', mean_absolute_percentage_error(y_test, y_pred))\n",
    "#print(\"y2 MSE:%.4f\" % mean_squared_error(y_test[:,1], y_pred[:,1]))"
   ]
  },
  {
   "cell_type": "markdown",
   "metadata": {},
   "source": [
    "\n",
    "\n",
    "# multioutputregressor - prediction of both execution and error at the same time\n",
    "\n"
   ]
  },
  {
   "cell_type": "code",
   "execution_count": 23,
   "metadata": {},
   "outputs": [],
   "source": [
    "X = df1.drop(['executionTime', 'Error'],axis=1)\n",
    "y = df1[['executionTime', 'Error']]"
   ]
  },
  {
   "cell_type": "code",
   "execution_count": 24,
   "metadata": {},
   "outputs": [],
   "source": [
    "X = X.values\n",
    "x_train, x_test, y_train, y_test = train_test_split(X, y, test_size=0.2, random_state=13)"
   ]
  },
  {
   "cell_type": "code",
   "execution_count": 25,
   "metadata": {},
   "outputs": [
    {
     "name": "stdout",
     "output_type": "stream",
     "text": [
      "0.4011275093399928\n",
      "MAPE:  335.1301060598332\n"
     ]
    }
   ],
   "source": [
    "model = MultiOutputRegressor(Ridge(random_state=123))\n",
    "model.fit(x_train, y_train)\n",
    "#print(y_test)\n",
    "y_pred = model.predict(x_test)\n",
    "\n",
    "print(r2_score(y_pred, y_test))\n",
    "print('MAPE: ', mean_absolute_percentage_error(y_test, y_pred))"
   ]
  },
  {
   "cell_type": "code",
   "execution_count": 26,
   "metadata": {},
   "outputs": [
    {
     "name": "stdout",
     "output_type": "stream",
     "text": [
      "      executionTime      Error\n",
      "165        1453.250   0.305325\n",
      "523         105.250   4.048765\n",
      "925         691.500   3.044508\n",
      "164        1448.750   0.158898\n",
      "373          25.000  24.031317\n",
      "...             ...        ...\n",
      "1843        620.125  10.632913\n",
      "513          42.500   1.912163\n",
      "487         109.500   1.479863\n",
      "901          64.375  14.572922\n",
      "827          69.750  14.065902\n",
      "\n",
      "[758 rows x 2 columns]\n",
      "[[ 1.04663944e+03 -7.72323134e-01]\n",
      " [ 2.29089419e+02  2.21529330e-01]\n",
      " [ 5.43618591e+02  8.23968874e+00]\n",
      " ...\n",
      " [ 2.36194984e+02  1.72910212e-01]\n",
      " [-4.92231229e+01  2.49098116e+01]\n",
      " [-2.96499032e+00  2.15941106e+01]]\n"
     ]
    }
   ],
   "source": [
    "print(y_test)\n",
    "print(y_pred)"
   ]
  },
  {
   "cell_type": "markdown",
   "metadata": {},
   "source": [
    "# Split Training-Test by graph size"
   ]
  },
  {
   "cell_type": "code",
   "execution_count": 361,
   "metadata": {},
   "outputs": [
    {
     "name": "stdout",
     "output_type": "stream",
     "text": [
      "(549, 2) (549, 12) (3543, 12) (3543, 2)\n"
     ]
    }
   ],
   "source": [
    "#X = df1.drop(['executionTime', 'Error'],axis=1)\n",
    "#y = df1[['executionTime', 'Error']]\n",
    "\n",
    "a = df1.loc[(df1['graphSize'] != 64) | (df1['sOriginalDistance'] == 1)]\n",
    "b = df1.loc[(df1['graphSize'] == 64) & (df1['sOriginalDistance'] == 0)]\n",
    "\n",
    "\n",
    "#a = df1[df1['graphSize'] != 64]\n",
    "#b = df1[df1['graphSize'] == 64]\n",
    "\n",
    "x_train = a.drop(['executionTime', 'Error'],axis=1)\n",
    "y_train = a[['executionTime', 'Error']]\n",
    "x_test = b.drop(['executionTime', 'Error'],axis=1)\n",
    "y_test = b[['executionTime', 'Error']]\n",
    "\n",
    "print(y_test.shape, x_test.shape, x_train.shape, y_train.shape)\n"
   ]
  },
  {
   "cell_type": "code",
   "execution_count": 160,
   "metadata": {},
   "outputs": [
    {
     "name": "stdout",
     "output_type": "stream",
     "text": [
      "-15.866824731156914\n",
      "Mean Absolute Error: 163.32676078715366\n",
      "Mean Squared Error: 67629.25854333169\n",
      "Root Mean Squared Error: 260.05626034251065\n",
      "MAPE:  508.7441003921053\n"
     ]
    }
   ],
   "source": [
    "model = LinearRegression()\n",
    "model.fit(x_train, y_train)\n",
    "y_pred = model.predict(x_test)\n",
    "\n",
    "print(r2_score(y_pred, y_test))\n",
    "\n",
    "print('Mean Absolute Error:', metrics.mean_absolute_error(y_test, y_pred))\n",
    "print('Mean Squared Error:', metrics.mean_squared_error(y_test, y_pred))\n",
    "print('Root Mean Squared Error:', np.sqrt(metrics.mean_squared_error(y_test, y_pred)))\n",
    "print('MAPE: ', mean_absolute_percentage_error(y_test, y_pred))"
   ]
  },
  {
   "cell_type": "code",
   "execution_count": 161,
   "metadata": {},
   "outputs": [
    {
     "name": "stdout",
     "output_type": "stream",
     "text": [
      "Mean Absolute Error: 148.54069998342447\n",
      "Mean Squared Error: 55264.036276141334\n",
      "Root Mean Squared Error: 235.08304123466954\n",
      "R2 score:  0.37829218711648066\n",
      "MAPE:  378.33418884082806\n"
     ]
    }
   ],
   "source": [
    "model = KNeighborsRegressor()\n",
    "model.fit(x_train, y_train)\n",
    "y_pred = model.predict(x_test)\n",
    "\n",
    "print('Mean Absolute Error:', metrics.mean_absolute_error(y_test, y_pred))\n",
    "print('Mean Squared Error:', metrics.mean_squared_error(y_test, y_pred))\n",
    "print('Root Mean Squared Error:', np.sqrt(metrics.mean_squared_error(y_test, y_pred)))\n",
    "print('R2 score: ', r2_score(y_test, y_pred))\n",
    "print('MAPE: ', mean_absolute_percentage_error(y_test, y_pred))"
   ]
  },
  {
   "cell_type": "code",
   "execution_count": 356,
   "metadata": {},
   "outputs": [
    {
     "name": "stdout",
     "output_type": "stream",
     "text": [
      "Mean Absolute Error: 76.23818751163628\n",
      "Mean Squared Error: 16543.737047945262\n",
      "Root Mean Squared Error: 128.62245934495758\n",
      "R2 score:  0.842294654618264\n",
      "MAE: 1.725 (0.190)\n",
      "MAPE:  26.572514475074666\n"
     ]
    }
   ],
   "source": [
    "model = RandomForestRegressor(max_depth=1000, n_estimators=100, random_state=1)\n",
    "model.fit(x_train, y_train)\n",
    "\n",
    "y_pred = model.predict(x_test)\n",
    "\n",
    "print('Mean Absolute Error:', metrics.mean_absolute_error(y_test, y_pred))\n",
    "print('Mean Squared Error:', metrics.mean_squared_error(y_test, y_pred))\n",
    "print('Root Mean Squared Error:', np.sqrt(metrics.mean_squared_error(y_test, y_pred)))\n",
    "print('R2 score: ', r2_score(y_test, y_pred))\n",
    "\n",
    "cv = RepeatedKFold(n_splits=10, n_repeats=5, random_state=1)\n",
    "# evaluate the model and collect the scores\n",
    "n_scores = cross_val_score(model, X, y, scoring='neg_mean_absolute_error', cv=cv, n_jobs=-1)\n",
    "# force the scores to be positive\n",
    "n_scores = absolute(n_scores)\n",
    "# summarize performance\n",
    "print('MAE: %.3f (%.3f)' % (mean(n_scores), std(n_scores)))\n",
    "print('MAPE: ', mean_absolute_percentage_error(y_test, y_pred))"
   ]
  },
  {
   "cell_type": "code",
   "execution_count": 172,
   "metadata": {},
   "outputs": [],
   "source": [
    "#print(y_test.head(60))\n",
    "#print(y_pred)"
   ]
  },
  {
   "cell_type": "code",
   "execution_count": 252,
   "metadata": {},
   "outputs": [],
   "source": [
    "import matplotlib.pyplot as plt\n",
    "import matplotlib.path as mpath\n",
    "def draw_BFDJ(arr1_b, arr2_b, arr1_d, arr2_d, x_label, y_label):\n",
    "    \n",
    "    asterisk = mpath.Path.unit_regular_asterisk(6)\n",
    "    circle = mpath.Path.unit_circle()\n",
    "\n",
    "    fig = plt.figure()\n",
    "    ax = fig.add_subplot(1, 1, 1)\n",
    "    ax.plot(arr1_b, arr2_b, color='red', label='predicted_data', marker=asterisk, markersize=7)\n",
    "    ax.plot(arr1_d, arr2_d, color='blue', label='test_data', marker=circle, markersize=4)\n",
    "    ax.set_xlabel(x_label)\n",
    "    ax.set_ylabel(y_label)\n",
    "\n",
    "    plt.legend()\n",
    "    plt.show()"
   ]
  },
  {
   "cell_type": "code",
   "execution_count": 357,
   "metadata": {},
   "outputs": [
    {
     "name": "stdout",
     "output_type": "stream",
     "text": [
      "[44.37879200000001, 44.37879200000001, 44.37879200000001, 44.37879200000001, 44.37879200000001, 201.9775, 202.2325, 202.44125, 206.38, 691.46625, 704.5575, 707.70125, 708.00625, 712.4175, 715.12625, 715.25375, 716.0725, 716.10625, 716.10625, 716.10625, 716.605, 724.03125, 724.94, 724.94, 729.82375, 730.22125, 730.27875, 730.3625, 730.79, 730.79, 731.1025, 731.1025, 731.69125, 732.295, 732.295, 732.59875, 732.59875, 736.29375, 738.85625, 739.57375, 739.57375, 740.70375, 743.65375, 744.98125, 745.1420833333334, 745.63, 745.8742291666666, 745.8742291666666, 745.8742291666666, 746.1125]\n",
      "[42.458393, 42.458393, 42.458393, 42.458393, 42.458393, 363.125, 363.375, 364.375, 366.75, 606.0, 641.875, 654.75, 684.5, 692.125, 710.125, 725.125, 733.625, 739.875, 749.875, 759.625, 767.5, 844.0, 868.0, 875.125, 876.625, 878.25, 890.5, 893.0, 893.625, 895.375, 899.125, 900.75, 901.0, 902.25, 903.875, 909.25, 910.625, 910.75, 910.875, 911.875, 919.625, 919.875, 920.625, 926.5, 926.875, 928.375, 930.5, 932.75, 933.375, 943.125]\n"
     ]
    },
    {
     "data": {
      "image/png": "[encoded data removed]",
      "text/plain": [
       "<Figure size 432x288 with 1 Axes>"
      ]
     },
     "metadata": {
      "needs_background": "light"
     },
     "output_type": "display_data"
    }
   ],
   "source": [
    "y_pred_exec = []\n",
    "y_pred_err = []\n",
    "y_test_exec = []\n",
    "y_test_err = []\n",
    "y_test_n = y_test.to_numpy()\n",
    "y_test_n.sort()\n",
    "y_pred.sort()\n",
    "for i in range(50):\n",
    "    y_pred_exec.append(y_pred[i][1])\n",
    "    y_pred_err.append(y_pred[i][0])\n",
    "    y_test_exec.append(y_test_n[i][1])\n",
    "    y_test_err.append(y_test_n[i][0])\n",
    "    \n",
    "y_pred_exec.sort()\n",
    "y_test_exec.sort()\n",
    "y_pred_err.sort()\n",
    "y_test_err.sort()\n",
    "print(y_pred_exec)\n",
    "print(y_test_exec)\n",
    "    \n",
    "\n",
    "draw_BFDJ(y_pred_exec, y_pred_err, y_test_exec, y_test_err, \"execution time\", \"error\")"
   ]
  },
  {
   "cell_type": "code",
   "execution_count": 359,
   "metadata": {},
   "outputs": [
    {
     "name": "stdout",
     "output_type": "stream",
     "text": [
      "Mean Absolute Error: 106.51947164845173\n",
      "Mean Squared Error: 32094.489617989326\n",
      "Root Mean Squared Error: 179.1493500350736\n",
      "R2 score:  0.6726559838146436\n",
      "MAE: 1.899 (0.234)\n",
      "MAPE:  41.41093513529044\n"
     ]
    }
   ],
   "source": [
    "model = DecisionTreeRegressor(max_depth=1000, splitter=\"best\", criterion=\"mse\", min_samples_split=2)\n",
    "model.fit(x_train, y_train)\n",
    "\n",
    "y_pred = model.predict(x_test)\n",
    "\n",
    "print('Mean Absolute Error:', metrics.mean_absolute_error(y_test, y_pred))\n",
    "print('Mean Squared Error:', metrics.mean_squared_error(y_test, y_pred))\n",
    "print('Root Mean Squared Error:', np.sqrt(metrics.mean_squared_error(y_test, y_pred)))\n",
    "print('R2 score: ', r2_score(y_test, y_pred))\n",
    "\n",
    "cv = RepeatedKFold(n_splits=10, n_repeats=5, random_state=1)\n",
    "# evaluate the model and collect the scores\n",
    "n_scores = cross_val_score(model, X, y, scoring='neg_mean_absolute_error', cv=cv, n_jobs=-1)\n",
    "# force the scores to be positive\n",
    "n_scores = absolute(n_scores)\n",
    "# summarize performance\n",
    "print('MAE: %.3f (%.3f)' % (mean(n_scores), std(n_scores)))\n",
    "print('MAPE: ', mean_absolute_percentage_error(y_test, y_pred))"
   ]
  },
  {
   "cell_type": "code",
   "execution_count": 360,
   "metadata": {},
   "outputs": [
    {
     "name": "stdout",
     "output_type": "stream",
     "text": [
      "[44.378792, 44.378792, 44.378792, 44.378792, 44.378792, 200.875, 200.875, 202.375, 208.75, 988.5, 988.5, 988.5, 988.5, 988.5, 988.5, 988.5, 988.5, 988.5, 988.5, 988.5, 988.5, 988.5, 988.5, 988.5, 988.5, 988.5, 988.5, 988.5, 988.5, 988.5, 988.5, 988.5, 988.5, 988.5, 988.5, 988.5, 988.5, 988.5, 988.5, 988.5, 988.5, 988.5, 988.5, 988.5, 988.5, 988.5, 988.5, 988.5, 988.5, 988.5]\n",
      "[42.458393, 42.458393, 42.458393, 42.458393, 42.458393, 363.125, 363.375, 364.375, 366.75, 606.0, 641.875, 654.75, 684.5, 692.125, 710.125, 725.125, 733.625, 739.875, 749.875, 759.625, 767.5, 844.0, 868.0, 875.125, 876.625, 878.25, 890.5, 893.0, 893.625, 895.375, 899.125, 900.75, 901.0, 902.25, 903.875, 909.25, 910.625, 910.75, 910.875, 911.875, 919.625, 919.875, 920.625, 926.5, 926.875, 928.375, 930.5, 932.75, 933.375, 943.125]\n"
     ]
    },
    {
     "data": {
      "image/png": "[encoded data removed]",
      "text/plain": [
       "<Figure size 432x288 with 1 Axes>"
      ]
     },
     "metadata": {
      "needs_background": "light"
     },
     "output_type": "display_data"
    }
   ],
   "source": [
    "y_pred_exec = []\n",
    "y_pred_err = []\n",
    "y_test_exec = []\n",
    "y_test_err = []\n",
    "y_test_n = y_test.to_numpy()\n",
    "y_test_n.sort()\n",
    "y_pred.sort()\n",
    "for i in range(50):\n",
    "    y_pred_exec.append(y_pred[i][1])\n",
    "    y_pred_err.append(y_pred[i][0])\n",
    "    y_test_exec.append(y_test_n[i][1])\n",
    "    y_test_err.append(y_test_n[i][0])\n",
    "    \n",
    "y_pred_exec.sort()\n",
    "y_test_exec.sort()\n",
    "y_pred_err.sort()\n",
    "y_test_err.sort()\n",
    "print(y_pred_exec)\n",
    "print(y_test_exec)\n",
    "    \n",
    "\n",
    "draw_BFDJ(y_pred_exec, y_pred_err, y_test_exec, y_test_err, \"execution time\", \"error\")"
   ]
  },
  {
   "cell_type": "code",
   "execution_count": 362,
   "metadata": {},
   "outputs": [
    {
     "name": "stdout",
     "output_type": "stream",
     "text": [
      "116.55117579256256\n",
      "2\n",
      "116.31345053084232\n",
      "0.5684462606830266\n",
      "Training set score: 0.777751\n",
      "Test set score: -0.316164\n",
      "MAPE:  313.1936775281207\n"
     ]
    }
   ],
   "source": [
    "#t = [(2),(3),(4),(5),(6),(7),(8),(9),(10),(2,2),(3,2),(4,2),(5,2),(6,2),(7,2),(8,2)]\n",
    "\n",
    "#sc_X = StandardScaler()\n",
    "#X_trainscaled=sc_X.fit_transform(x_train)\n",
    "#X_testscaled=sc_X.transform(x_test)\n",
    "X_trainscaled = x_train\n",
    "X_testscaled = x_test\n",
    "\n",
    "model = MLPRegressor(hidden_layer_sizes=(4,8,4),activation=\"relu\" ,random_state=1, max_iter=50000)\n",
    "#model.fit(X_trainscaled, y_train.values.ravel()).loss_\n",
    "model.fit(X_trainscaled, y_train).loss_ #multiple outputs\n",
    "print(model.loss_)\n",
    "#print(model.loss_curve_)\n",
    "print(model.n_outputs_)\n",
    "print(model.best_loss_)\n",
    "y_pred=model.predict(X_testscaled)\n",
    "\n",
    "\n",
    "print(r2_score(y_pred, y_test))\n",
    "#print(\"Training set score: %f\" % model.score(X_trainscaled, y_train.values.ravel()))\n",
    "print(\"Training set score: %f\" % model.score(X_trainscaled, y_train)) #multiple output\n",
    "print(\"Test set score: %f\" % model.score(X_testscaled, y_test))\n",
    "print('MAPE: ', mean_absolute_percentage_error(y_test, y_pred))\n",
    "\n",
    "#print(y_test.head(60))\n",
    "#print(y_pred)"
   ]
  },
  {
   "cell_type": "code",
   "execution_count": 363,
   "metadata": {},
   "outputs": [
    {
     "name": "stdout",
     "output_type": "stream",
     "text": [
      "-15.891887894377312\n",
      "MAPE:  508.29187764886433\n"
     ]
    }
   ],
   "source": [
    "model = MultiOutputRegressor(Ridge(random_state=123))\n",
    "model.fit(x_train, y_train)\n",
    "#print(y_test)\n",
    "y_pred = model.predict(x_test)\n",
    "\n",
    "print(r2_score(y_pred, y_test))\n",
    "print('MAPE: ', mean_absolute_percentage_error(y_test, y_pred))"
   ]
  },
  {
   "cell_type": "code",
   "execution_count": 150,
   "metadata": {},
   "outputs": [
    {
     "data": {
      "text/plain": [
       "'X = df1.drop([\\'executionTime\\', \\'Error\\'],axis=1)\\ny = df1[[\\'executionTime\\', \\'Error\\']]\\n\\nX = X.values\\ny = y.values\\n\\n\\nkf = KFold(n_splits=5, random_state=12313, shuffle=True)\\nkf.get_n_splits(X)\\nprint(kf)\\n\\nmodel = DecisionTreeRegressor()\\n\\n\\ncross_val_scores = cross_val_score(DecisionTreeRegressor(), X, y, scoring=\\'neg_mean_squared_error\\', cv=5)\\ncross_val_scores = np.sqrt(np.abs(cross_val_scores)) \\nprint(cross_val_scores)\\nprint(\"mean:\", np.mean(cross_val_scores))\\n\\n\\nfor train_index, test_index in kf.split(X):\\n    x_train, x_test = X[train_index], X[test_index]\\n    y_train, y_test = y[train_index], y[test_index]\\n    \\nx_train, x_valid, y_train, y_valid = train_test_split(X, y, train_size=0.8,test_size=0.2, random_state=101)\\n    \\nmodel.fit(x_train, y_train)\\n\\ntrain_scores, valid_scores = validation_curve(DecisionTreeRegressor(), x_train, y_train, scoring=\\'neg_mean_squared_error\\', cv=5)\\ntrain_scores = np.sqrt(np.abs(train_scores))\\nvalid_scores = np.sqrt(np.abs(valid_scores))\\n\\ntrain_scores_mean = np.mean(train_scores, axis=1)\\nvalid_scores_mean = np.mean(valid_scores, axis=1)\\n\\nplt.title(\"Validation Curve with Random Forest\")\\nplt.xlabel(\"max_depth\")\\nplt.ylabel(\"RMSE\")\\nplt.plot(param_range, train_scores_mean, label=\"train rmse\")\\nplt.plot(param_range, valid_scores_mean, label=\"validation rmse\")\\n\\nplt.legend()\\nplt.show()'"
      ]
     },
     "execution_count": 150,
     "metadata": {},
     "output_type": "execute_result"
    }
   ],
   "source": [
    "\"\"\"X = df1.drop(['executionTime', 'Error'],axis=1)\n",
    "y = df1[['executionTime', 'Error']]\n",
    "\n",
    "X = X.values\n",
    "y = y.values\n",
    "\n",
    "\n",
    "kf = KFold(n_splits=5, random_state=12313, shuffle=True)\n",
    "kf.get_n_splits(X)\n",
    "print(kf)\n",
    "\n",
    "model = DecisionTreeRegressor()\n",
    "\n",
    "\n",
    "cross_val_scores = cross_val_score(DecisionTreeRegressor(), X, y, scoring='neg_mean_squared_error', cv=5)\n",
    "cross_val_scores = np.sqrt(np.abs(cross_val_scores)) \n",
    "print(cross_val_scores)\n",
    "print(\"mean:\", np.mean(cross_val_scores))\n",
    "\n",
    "\n",
    "for train_index, test_index in kf.split(X):\n",
    "    x_train, x_test = X[train_index], X[test_index]\n",
    "    y_train, y_test = y[train_index], y[test_index]\n",
    "    \n",
    "x_train, x_valid, y_train, y_valid = train_test_split(X, y, train_size=0.8,test_size=0.2, random_state=101)\n",
    "    \n",
    "model.fit(x_train, y_train)\n",
    "\n",
    "train_scores, valid_scores = validation_curve(DecisionTreeRegressor(), x_train, y_train, scoring='neg_mean_squared_error', cv=5)\n",
    "train_scores = np.sqrt(np.abs(train_scores))\n",
    "valid_scores = np.sqrt(np.abs(valid_scores))\n",
    "\n",
    "train_scores_mean = np.mean(train_scores, axis=1)\n",
    "valid_scores_mean = np.mean(valid_scores, axis=1)\n",
    "\n",
    "plt.title(\"Validation Curve with Random Forest\")\n",
    "plt.xlabel(\"max_depth\")\n",
    "plt.ylabel(\"RMSE\")\n",
    "plt.plot(param_range, train_scores_mean, label=\"train rmse\")\n",
    "plt.plot(param_range, valid_scores_mean, label=\"validation rmse\")\n",
    "\n",
    "plt.legend()\n",
    "plt.show()\"\"\"\n",
    "\n",
    "    "
   ]
  },
  {
   "cell_type": "code",
   "execution_count": null,
   "metadata": {},
   "outputs": [],
   "source": []
  },
  {
   "cell_type": "code",
   "execution_count": null,
   "metadata": {},
   "outputs": [],
   "source": []
  }
 ],
 "metadata": {
  "kernelspec": {
   "display_name": "Python 3",
   "language": "python",
   "name": "python3"
  },
  "language_info": {
   "codemirror_mode": {
    "name": "ipython",
    "version": 3
   },
   "file_extension": ".py",
   "mimetype": "text/x-python",
   "name": "python",
   "nbconvert_exporter": "python",
   "pygments_lexer": "ipython3",
   "version": "3.8.3"
  }
 },
 "nbformat": 4,
 "nbformat_minor": 4
}
