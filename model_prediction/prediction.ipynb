{
 "cells": [
  {
   "cell_type": "code",
   "execution_count": 155,
   "metadata": {},
   "outputs": [],
   "source": [
    "import pandas as pd\n",
    "import numpy as np\n",
    "from numpy import absolute\n",
    "from numpy import mean\n",
    "from numpy import std\n",
    "from sklearn import preprocessing, metrics\n",
    "from sklearn.metrics import r2_score\n",
    "from sklearn.model_selection import train_test_split\n",
    "from sklearn.linear_model import LinearRegression\n",
    "from sklearn.neighbors import KNeighborsRegressor\n",
    "from sklearn.tree import DecisionTreeRegressor\n",
    "from sklearn.model_selection import cross_val_score\n",
    "from sklearn.model_selection import RepeatedKFold\n",
    "from sklearn.neural_network import MLPRegressor\n",
    "from sklearn.preprocessing import StandardScaler\n",
    "from sklearn.metrics import mean_squared_error\n",
    "import matplotlib.pyplot as plt\n",
    "from sklearn.preprocessing import OneHotEncoder"
   ]
  },
  {
   "cell_type": "code",
   "execution_count": 156,
   "metadata": {},
   "outputs": [],
   "source": [
    "#df1 = pd.read_csv(\"bellman_ford_performance_results.csv\")\n",
    "df1 = pd.read_csv(\"dijkstra_performance_results.csv\")\n",
    "conditions = [df1['vertexNum'] == 524288, df1['vertexNum'] == 1048576, df1['vertexNum'] == 2097152, df1['vertexNum'] == 4194304, df1['vertexNum'] == 8388608, df1['vertexNum'] == 16777216, df1['vertexNum'] == 33554432]\n",
    "numbers = [1, 2, 4, 8, 16, 32, 64]\n",
    "df1['graphSize'] = np.select(conditions, numbers, default=0)\n"
   ]
  },
  {
   "cell_type": "code",
   "execution_count": 157,
   "metadata": {},
   "outputs": [
    {
     "data": {
      "text/html": [
       "<div>\n",
       "<style scoped>\n",
       "    .dataframe tbody tr th:only-of-type {\n",
       "        vertical-align: middle;\n",
       "    }\n",
       "\n",
       "    .dataframe tbody tr th {\n",
       "        vertical-align: top;\n",
       "    }\n",
       "\n",
       "    .dataframe thead th {\n",
       "        text-align: right;\n",
       "    }\n",
       "</style>\n",
       "<table border=\"1\" class=\"dataframe\">\n",
       "  <thead>\n",
       "    <tr style=\"text-align: right;\">\n",
       "      <th></th>\n",
       "      <th>iterationNum</th>\n",
       "      <th>minProcessEdge</th>\n",
       "      <th>percentage</th>\n",
       "      <th>sOriginalDistance</th>\n",
       "      <th>sMinEdgetoProcess</th>\n",
       "      <th>sApprAttrValues</th>\n",
       "      <th>sReduceExecution</th>\n",
       "      <th>sPartialGraphProcess</th>\n",
       "      <th>Error</th>\n",
       "      <th>executionTime</th>\n",
       "      <th>graphSize</th>\n",
       "    </tr>\n",
       "  </thead>\n",
       "  <tbody>\n",
       "    <tr>\n",
       "      <th>0</th>\n",
       "      <td>8</td>\n",
       "      <td>0</td>\n",
       "      <td>1.0</td>\n",
       "      <td>1</td>\n",
       "      <td>0</td>\n",
       "      <td>0</td>\n",
       "      <td>0</td>\n",
       "      <td>0</td>\n",
       "      <td>0.000000</td>\n",
       "      <td>42.250</td>\n",
       "      <td>1</td>\n",
       "    </tr>\n",
       "    <tr>\n",
       "      <th>1</th>\n",
       "      <td>8</td>\n",
       "      <td>2</td>\n",
       "      <td>1.0</td>\n",
       "      <td>0</td>\n",
       "      <td>1</td>\n",
       "      <td>0</td>\n",
       "      <td>0</td>\n",
       "      <td>0</td>\n",
       "      <td>0.153689</td>\n",
       "      <td>39.250</td>\n",
       "      <td>1</td>\n",
       "    </tr>\n",
       "    <tr>\n",
       "      <th>2</th>\n",
       "      <td>8</td>\n",
       "      <td>3</td>\n",
       "      <td>1.0</td>\n",
       "      <td>0</td>\n",
       "      <td>1</td>\n",
       "      <td>0</td>\n",
       "      <td>0</td>\n",
       "      <td>0</td>\n",
       "      <td>0.257669</td>\n",
       "      <td>39.875</td>\n",
       "      <td>1</td>\n",
       "    </tr>\n",
       "    <tr>\n",
       "      <th>3</th>\n",
       "      <td>8</td>\n",
       "      <td>4</td>\n",
       "      <td>1.0</td>\n",
       "      <td>0</td>\n",
       "      <td>1</td>\n",
       "      <td>0</td>\n",
       "      <td>0</td>\n",
       "      <td>0</td>\n",
       "      <td>0.379209</td>\n",
       "      <td>40.000</td>\n",
       "      <td>1</td>\n",
       "    </tr>\n",
       "    <tr>\n",
       "      <th>4</th>\n",
       "      <td>8</td>\n",
       "      <td>6</td>\n",
       "      <td>1.0</td>\n",
       "      <td>0</td>\n",
       "      <td>1</td>\n",
       "      <td>0</td>\n",
       "      <td>0</td>\n",
       "      <td>0</td>\n",
       "      <td>0.612974</td>\n",
       "      <td>39.625</td>\n",
       "      <td>1</td>\n",
       "    </tr>\n",
       "    <tr>\n",
       "      <th>...</th>\n",
       "      <td>...</td>\n",
       "      <td>...</td>\n",
       "      <td>...</td>\n",
       "      <td>...</td>\n",
       "      <td>...</td>\n",
       "      <td>...</td>\n",
       "      <td>...</td>\n",
       "      <td>...</td>\n",
       "      <td>...</td>\n",
       "      <td>...</td>\n",
       "      <td>...</td>\n",
       "    </tr>\n",
       "    <tr>\n",
       "      <th>144</th>\n",
       "      <td>8</td>\n",
       "      <td>99</td>\n",
       "      <td>1.0</td>\n",
       "      <td>0</td>\n",
       "      <td>1</td>\n",
       "      <td>0</td>\n",
       "      <td>0</td>\n",
       "      <td>0</td>\n",
       "      <td>3.419386</td>\n",
       "      <td>736.500</td>\n",
       "      <td>32</td>\n",
       "    </tr>\n",
       "    <tr>\n",
       "      <th>145</th>\n",
       "      <td>8</td>\n",
       "      <td>109</td>\n",
       "      <td>1.0</td>\n",
       "      <td>0</td>\n",
       "      <td>1</td>\n",
       "      <td>0</td>\n",
       "      <td>0</td>\n",
       "      <td>0</td>\n",
       "      <td>4.141858</td>\n",
       "      <td>724.000</td>\n",
       "      <td>32</td>\n",
       "    </tr>\n",
       "    <tr>\n",
       "      <th>146</th>\n",
       "      <td>8</td>\n",
       "      <td>115</td>\n",
       "      <td>1.0</td>\n",
       "      <td>0</td>\n",
       "      <td>1</td>\n",
       "      <td>0</td>\n",
       "      <td>0</td>\n",
       "      <td>0</td>\n",
       "      <td>4.903501</td>\n",
       "      <td>718.000</td>\n",
       "      <td>32</td>\n",
       "    </tr>\n",
       "    <tr>\n",
       "      <th>147</th>\n",
       "      <td>8</td>\n",
       "      <td>121</td>\n",
       "      <td>1.0</td>\n",
       "      <td>0</td>\n",
       "      <td>1</td>\n",
       "      <td>0</td>\n",
       "      <td>0</td>\n",
       "      <td>0</td>\n",
       "      <td>5.708293</td>\n",
       "      <td>716.125</td>\n",
       "      <td>32</td>\n",
       "    </tr>\n",
       "    <tr>\n",
       "      <th>148</th>\n",
       "      <td>8</td>\n",
       "      <td>130</td>\n",
       "      <td>1.0</td>\n",
       "      <td>0</td>\n",
       "      <td>1</td>\n",
       "      <td>0</td>\n",
       "      <td>0</td>\n",
       "      <td>0</td>\n",
       "      <td>6.567028</td>\n",
       "      <td>706.875</td>\n",
       "      <td>32</td>\n",
       "    </tr>\n",
       "  </tbody>\n",
       "</table>\n",
       "<p>149 rows × 11 columns</p>\n",
       "</div>"
      ],
      "text/plain": [
       "     iterationNum  minProcessEdge  percentage  sOriginalDistance  \\\n",
       "0               8               0         1.0                  1   \n",
       "1               8               2         1.0                  0   \n",
       "2               8               3         1.0                  0   \n",
       "3               8               4         1.0                  0   \n",
       "4               8               6         1.0                  0   \n",
       "..            ...             ...         ...                ...   \n",
       "144             8              99         1.0                  0   \n",
       "145             8             109         1.0                  0   \n",
       "146             8             115         1.0                  0   \n",
       "147             8             121         1.0                  0   \n",
       "148             8             130         1.0                  0   \n",
       "\n",
       "     sMinEdgetoProcess  sApprAttrValues  sReduceExecution  \\\n",
       "0                    0                0                 0   \n",
       "1                    1                0                 0   \n",
       "2                    1                0                 0   \n",
       "3                    1                0                 0   \n",
       "4                    1                0                 0   \n",
       "..                 ...              ...               ...   \n",
       "144                  1                0                 0   \n",
       "145                  1                0                 0   \n",
       "146                  1                0                 0   \n",
       "147                  1                0                 0   \n",
       "148                  1                0                 0   \n",
       "\n",
       "     sPartialGraphProcess     Error  executionTime  graphSize  \n",
       "0                       0  0.000000         42.250          1  \n",
       "1                       0  0.153689         39.250          1  \n",
       "2                       0  0.257669         39.875          1  \n",
       "3                       0  0.379209         40.000          1  \n",
       "4                       0  0.612974         39.625          1  \n",
       "..                    ...       ...            ...        ...  \n",
       "144                     0  3.419386        736.500         32  \n",
       "145                     0  4.141858        724.000         32  \n",
       "146                     0  4.903501        718.000         32  \n",
       "147                     0  5.708293        716.125         32  \n",
       "148                     0  6.567028        706.875         32  \n",
       "\n",
       "[149 rows x 11 columns]"
      ]
     },
     "execution_count": 157,
     "metadata": {},
     "output_type": "execute_result"
    }
   ],
   "source": [
    "#one-hot encoding - nothing is dropped\n",
    "\n",
    "df1 = df1.drop(['vertexNum', 'edgeNum', 'maxEdgeDegree',\n",
    "                'sAtomicMinBlock', 'sAtomicMaxBlock',\n",
    "                'sAtomicAddBlock', 'sAtomicExchBlock'], axis=1)\n",
    "df1.dropna()\n"
   ]
  },
  {
   "cell_type": "code",
   "execution_count": 158,
   "metadata": {},
   "outputs": [
    {
     "data": {
      "text/plain": [
       "\"\\ndf1 = df1.drop(['vertexNum', 'edgeNum', 'maxEdgeDegree', 'percentage', \\n                'sPartialGraphProcess', 'sApprAttrValues', \\n                'sOriginalDistance', 'sReduceExecution','sMinEdgetoProcess', \\n                'iterationNum', 'sAtomicMinBlock', 'sAtomicMaxBlock',\\n                'sAtomicAddBlock', 'sAtomicExchBlock'], axis=1)\\ndf1.dropna()\\n\\n\""
      ]
     },
     "execution_count": 158,
     "metadata": {},
     "output_type": "execute_result"
    }
   ],
   "source": [
    "#execution time prediction with minProcessEdge\n",
    "\"\"\"\n",
    "df1 = df1.drop(['vertexNum', 'edgeNum', 'maxEdgeDegree', 'percentage', \n",
    "                'sPartialGraphProcess', 'sApprAttrValues', \n",
    "                'sOriginalDistance', 'sReduceExecution','sMinEdgetoProcess', \n",
    "                'iterationNum', 'sAtomicMinBlock', 'sAtomicMaxBlock',\n",
    "                'sAtomicAddBlock', 'sAtomicExchBlock'], axis=1)\n",
    "df1.dropna()\n",
    "\n",
    "\"\"\"\n",
    "\n"
   ]
  },
  {
   "cell_type": "code",
   "execution_count": 159,
   "metadata": {},
   "outputs": [
    {
     "name": "stdout",
     "output_type": "stream",
     "text": [
      "    iterationNum  minProcessEdge  percentage  sOriginalDistance  \\\n",
      "1              8        1.000000         1.0                  0   \n",
      "2              8        0.979955         1.0                  0   \n",
      "3              8        0.960699         1.0                  0   \n",
      "4              8        0.924370         1.0                  0   \n",
      "5              8        0.844530         1.0                  0   \n",
      "6              8        0.765217         1.0                  0   \n",
      "7              8        0.526316         1.0                  0   \n",
      "8              8        0.515222         1.0                  0   \n",
      "9              8        0.504587         1.0                  0   \n",
      "10             8        0.489433         1.0                  0   \n",
      "11             8        0.457380         1.0                  0   \n",
      "12             8        0.273292         1.0                  0   \n",
      "13             8        0.261593         1.0                  0   \n",
      "14             8        0.250855         1.0                  0   \n",
      "15             8        0.235168         1.0                  0   \n",
      "16             8        0.100000         1.0                  0   \n",
      "29             7        1.000000         1.0                  0   \n",
      "30             7        0.972603         1.0                  0   \n",
      "31             7        0.946667         1.0                  0   \n",
      "32             7        0.910256         1.0                  0   \n",
      "33             7        0.797753         1.0                  0   \n",
      "34             7        0.550388         1.0                  0   \n",
      "35             7        0.533835         1.0                  0   \n",
      "36             7        0.522059         1.0                  0   \n",
      "37             7        0.510791         1.0                  0   \n",
      "38             7        0.500000         1.0                  0   \n",
      "39             7        0.486301         1.0                  0   \n",
      "40             7        0.440994         1.0                  0   \n",
      "41             7        0.255396         1.0                  0   \n",
      "42             7        0.243986         1.0                  0   \n",
      "43             7        0.100000         1.0                  0   \n",
      "55             8        1.000000         1.0                  0   \n",
      "56             8        0.950276         1.0                  0   \n",
      "57             8        0.905263         1.0                  0   \n",
      "58             8        0.826923         1.0                  0   \n",
      "59             8        0.731915         1.0                  0   \n",
      "60             8        0.514970         1.0                  0   \n",
      "61             8        0.501458         1.0                  0   \n",
      "62             8        0.464865         1.0                  0   \n",
      "63             8        0.293515         1.0                  0   \n",
      "64             8        0.280587         1.0                  0   \n",
      "65             8        0.270653         1.0                  0   \n",
      "66             8        0.259623         1.0                  0   \n",
      "67             8        0.244666         1.0                  0   \n",
      "68             8        0.107299         1.0                  0   \n",
      "69             8        0.100000         1.0                  0   \n",
      "82             8        1.000000         1.0                  0   \n",
      "83             8        0.965251         1.0                  0   \n",
      "84             8        0.948767         1.0                  0   \n",
      "85             8        0.888099         1.0                  0   \n",
      "\n",
      "    sMinEdgetoProcess  sApprAttrValues  sReduceExecution  \\\n",
      "1                   1                0                 0   \n",
      "2                   1                0                 0   \n",
      "3                   1                0                 0   \n",
      "4                   1                0                 0   \n",
      "5                   1                0                 0   \n",
      "6                   1                0                 0   \n",
      "7                   1                0                 0   \n",
      "8                   1                0                 0   \n",
      "9                   1                0                 0   \n",
      "10                  1                0                 0   \n",
      "11                  1                0                 0   \n",
      "12                  1                0                 0   \n",
      "13                  1                0                 0   \n",
      "14                  1                0                 0   \n",
      "15                  1                0                 0   \n",
      "16                  1                0                 0   \n",
      "29                  1                0                 0   \n",
      "30                  1                0                 0   \n",
      "31                  1                0                 0   \n",
      "32                  1                0                 0   \n",
      "33                  1                0                 0   \n",
      "34                  1                0                 0   \n",
      "35                  1                0                 0   \n",
      "36                  1                0                 0   \n",
      "37                  1                0                 0   \n",
      "38                  1                0                 0   \n",
      "39                  1                0                 0   \n",
      "40                  1                0                 0   \n",
      "41                  1                0                 0   \n",
      "42                  1                0                 0   \n",
      "43                  1                0                 0   \n",
      "55                  1                0                 0   \n",
      "56                  1                0                 0   \n",
      "57                  1                0                 0   \n",
      "58                  1                0                 0   \n",
      "59                  1                0                 0   \n",
      "60                  1                0                 0   \n",
      "61                  1                0                 0   \n",
      "62                  1                0                 0   \n",
      "63                  1                0                 0   \n",
      "64                  1                0                 0   \n",
      "65                  1                0                 0   \n",
      "66                  1                0                 0   \n",
      "67                  1                0                 0   \n",
      "68                  1                0                 0   \n",
      "69                  1                0                 0   \n",
      "82                  1                0                 0   \n",
      "83                  1                0                 0   \n",
      "84                  1                0                 0   \n",
      "85                  1                0                 0   \n",
      "\n",
      "    sPartialGraphProcess      Error  executionTime  graphSize  \n",
      "1                      0   0.153689         39.250          1  \n",
      "2                      0   0.257669         39.875          1  \n",
      "3                      0   0.379209         40.000          1  \n",
      "4                      0   0.612974         39.625          1  \n",
      "5                      0   1.058428         39.875          1  \n",
      "6                      0   2.093466         39.000          1  \n",
      "7                      0   4.647993         38.625          1  \n",
      "8                      0   5.097333         38.250          1  \n",
      "9                      0   5.500796         38.125          1  \n",
      "10                     0   5.967984         37.500          1  \n",
      "11                     0   6.440314         37.875          1  \n",
      "12                     0   7.922143         37.625          1  \n",
      "13                     0   9.757296         37.000          1  \n",
      "14                     0  11.767733         37.000          1  \n",
      "15                     0  13.731627         36.875          1  \n",
      "16                     0  20.550692         35.625          1  \n",
      "29                     0   0.144393         65.375          2  \n",
      "30                     0   0.331575         69.375          2  \n",
      "31                     0   0.565010         66.250          2  \n",
      "32                     0   0.941313         64.500          2  \n",
      "33                     0   1.836053         64.125          2  \n",
      "34                     0   3.873240         67.000          2  \n",
      "35                     0   4.479125         62.625          2  \n",
      "36                     0   5.087614         64.000          2  \n",
      "37                     0   5.745683         63.500          2  \n",
      "38                     0   6.370465         62.000          2  \n",
      "39                     0   7.017480         62.500          2  \n",
      "40                     0   7.774907         62.000          2  \n",
      "41                     0  10.312127         61.125          2  \n",
      "42                     0  13.174481         61.375          2  \n",
      "43                     0  17.579306         61.500          2  \n",
      "55                     0   0.128531        131.500          4  \n",
      "56                     0   0.312886        131.375          4  \n",
      "57                     0   0.479889        130.750          4  \n",
      "58                     0   0.904936        128.625          4  \n",
      "59                     0   1.480589        127.500          4  \n",
      "60                     0   3.530659        126.375          4  \n",
      "61                     0   3.751060        126.375          4  \n",
      "62                     0   4.049456        125.375          4  \n",
      "63                     0   4.793233        123.375          4  \n",
      "64                     0   5.662541        122.250          4  \n",
      "65                     0   6.602716        121.250          4  \n",
      "66                     0   7.707077        121.125          4  \n",
      "67                     0   8.739888        119.125          4  \n",
      "68                     0  11.813880        117.875          4  \n",
      "69                     0  16.265274        111.125          4  \n",
      "82                     0   0.119912        248.125          8  \n",
      "83                     0   0.299251        248.500          8  \n",
      "84                     0   0.398568        245.500          8  \n",
      "85                     0   0.693786        235.750          8  \n"
     ]
    },
    {
     "name": "stderr",
     "output_type": "stream",
     "text": [
      "/home/buse/anaconda3/lib/python3.8/site-packages/pandas/core/indexing.py:966: SettingWithCopyWarning: \n",
      "A value is trying to be set on a copy of a slice from a DataFrame.\n",
      "Try using .loc[row_indexer,col_indexer] = value instead\n",
      "\n",
      "See the caveats in the documentation: https://pandas.pydata.org/pandas-docs/stable/user_guide/indexing.html#returning-a-view-versus-a-copy\n",
      "  self.obj[item] = s\n"
     ]
    }
   ],
   "source": [
    "df = df1[df1['minProcessEdge'] > 0]\n",
    "\n",
    "\n",
    "\n",
    "for i in numbers:\n",
    "    mini = df[df['graphSize'] == i]['minProcessEdge'].min()\n",
    "    maxi = df[df['graphSize'] == i]['minProcessEdge'].max()\n",
    "    #print(mini, maxi, i)\n",
    "    df.loc[df['graphSize'] == i, ['minProcessEdge']] = 1.0 / (((df.loc[df['graphSize'] == i, ['minProcessEdge']] - mini) / (maxi - mini)) * 9 + 1)\n",
    "\n",
    "    \n",
    "    \n",
    "print(df.head(50))"
   ]
  },
  {
   "cell_type": "code",
   "execution_count": 160,
   "metadata": {},
   "outputs": [
    {
     "name": "stdout",
     "output_type": "stream",
     "text": [
      "   iterationNum  minProcessEdge  percentage  sOriginalDistance  \\\n",
      "0             8               0         1.0                  1   \n",
      "1             8               2         1.0                  0   \n",
      "2             8               3         1.0                  0   \n",
      "3             8               4         1.0                  0   \n",
      "4             8               6         1.0                  0   \n",
      "\n",
      "   sMinEdgetoProcess  sApprAttrValues  sReduceExecution  sPartialGraphProcess  \\\n",
      "0                  0                0                 0                     0   \n",
      "1                  1                0                 0                     0   \n",
      "2                  1                0                 0                     0   \n",
      "3                  1                0                 0                     0   \n",
      "4                  1                0                 0                     0   \n",
      "\n",
      "      Error  executionTime  graphSize  \n",
      "0  0.000000         42.250          1  \n",
      "1  0.153689         39.250          1  \n",
      "2  0.257669         39.875          1  \n",
      "3  0.379209         40.000          1  \n",
      "4  0.612974         39.625          1  \n"
     ]
    }
   ],
   "source": [
    "print(df1.head())\n",
    "\n",
    "#df = df1.head(28)"
   ]
  },
  {
   "cell_type": "code",
   "execution_count": 161,
   "metadata": {},
   "outputs": [],
   "source": [
    "#################### EXECUTION TIME #############"
   ]
  },
  {
   "cell_type": "code",
   "execution_count": 162,
   "metadata": {},
   "outputs": [],
   "source": [
    "X = df.drop(['executionTime', 'Error'],axis=1)\n",
    "y = df[['executionTime']]"
   ]
  },
  {
   "cell_type": "code",
   "execution_count": 163,
   "metadata": {},
   "outputs": [],
   "source": [
    "X = X.values\n",
    "\n",
    "x_train, x_test, y_train, y_test = train_test_split(X, y, test_size=0.1, random_state=13)\n"
   ]
  },
  {
   "cell_type": "code",
   "execution_count": 164,
   "metadata": {},
   "outputs": [
    {
     "name": "stdout",
     "output_type": "stream",
     "text": [
      "0.9940285123290733\n",
      "Mean Absolute Error: 16.95128451742447\n",
      "Mean Squared Error: 439.81242067815043\n",
      "Root Mean Squared Error: 20.97170524011222\n"
     ]
    }
   ],
   "source": [
    "model = LinearRegression()\n",
    "model.fit(x_train, y_train)\n",
    "y_pred = model.predict(x_test)\n",
    "\n",
    "#print(model.intercept_)\n",
    "\n",
    "print(r2_score(y_pred, y_test))\n",
    "\n",
    "print('Mean Absolute Error:', metrics.mean_absolute_error(y_test, y_pred))\n",
    "print('Mean Squared Error:', metrics.mean_squared_error(y_test, y_pred))\n",
    "print('Root Mean Squared Error:', np.sqrt(metrics.mean_squared_error(y_test, y_pred)))"
   ]
  },
  {
   "cell_type": "code",
   "execution_count": 165,
   "metadata": {},
   "outputs": [
    {
     "name": "stdout",
     "output_type": "stream",
     "text": [
      "     executionTime\n",
      "96         204.500\n",
      "61         126.375\n",
      "65         121.250\n",
      "40          62.000\n",
      "148        706.875\n",
      "145        724.000\n",
      "68         117.875\n",
      "42          61.375\n",
      "109        433.625\n",
      "[[195.83623947]\n",
      " [118.53956371]\n",
      " [109.58860072]\n",
      " [ 57.1243867 ]\n",
      " [753.03120183]\n",
      " [753.70303613]\n",
      " [103.25347173]\n",
      " [ 49.48412992]\n",
      " [416.47128506]]\n"
     ]
    }
   ],
   "source": [
    "print(y_test)\n",
    "print(y_pred)\n",
    "#print(np.exp(y_test))\n",
    "#print(np.exp(y_pred))"
   ]
  },
  {
   "cell_type": "code",
   "execution_count": null,
   "metadata": {},
   "outputs": [],
   "source": []
  },
  {
   "cell_type": "code",
   "execution_count": 166,
   "metadata": {},
   "outputs": [
    {
     "name": "stdout",
     "output_type": "stream",
     "text": [
      "Mean Absolute Error: 8.030555555555544\n",
      "Mean Squared Error: 141.4792361111107\n",
      "Root Mean Squared Error: 11.894504450001719\n"
     ]
    }
   ],
   "source": [
    "model = KNeighborsRegressor()\n",
    "model.fit(x_train, y_train)\n",
    "y_pred = model.predict(x_test)\n",
    "\n",
    "print('Mean Absolute Error:', metrics.mean_absolute_error(y_test, y_pred))\n",
    "print('Mean Squared Error:', metrics.mean_squared_error(y_test, y_pred))\n",
    "print('Root Mean Squared Error:', np.sqrt(metrics.mean_squared_error(y_test, y_pred)))"
   ]
  },
  {
   "cell_type": "code",
   "execution_count": 167,
   "metadata": {},
   "outputs": [
    {
     "name": "stdout",
     "output_type": "stream",
     "text": [
      "     executionTime\n",
      "96         204.500\n",
      "61         126.375\n",
      "65         121.250\n",
      "40          62.000\n",
      "148        706.875\n",
      "145        724.000\n",
      "68         117.875\n",
      "42          61.375\n",
      "109        433.625\n",
      "[[219.475]\n",
      " [124.975]\n",
      " [119.4  ]\n",
      " [ 62.925]\n",
      " [734.675]\n",
      " [734.675]\n",
      " [119.4  ]\n",
      " [ 62.125]\n",
      " [421.25 ]]\n"
     ]
    }
   ],
   "source": [
    "print(y_test)\n",
    "print(y_pred)"
   ]
  },
  {
   "cell_type": "code",
   "execution_count": null,
   "metadata": {},
   "outputs": [],
   "source": []
  },
  {
   "cell_type": "code",
   "execution_count": 168,
   "metadata": {},
   "outputs": [
    {
     "name": "stdout",
     "output_type": "stream",
     "text": [
      "Mean Absolute Error: 4.208333333333333\n",
      "Mean Squared Error: 33.467013888888886\n",
      "Root Mean Squared Error: 5.785068183598953\n",
      "R2 score:  0.999479704115015\n",
      "MAE: 3.465 (1.556)\n"
     ]
    }
   ],
   "source": [
    "model = DecisionTreeRegressor()\n",
    "model.fit(x_train, y_train)\n",
    "\n",
    "y_pred = model.predict(x_test)\n",
    "\n",
    "print('Mean Absolute Error:', metrics.mean_absolute_error(y_test, y_pred))\n",
    "print('Mean Squared Error:', metrics.mean_squared_error(y_test, y_pred))\n",
    "print('Root Mean Squared Error:', np.sqrt(metrics.mean_squared_error(y_test, y_pred)))\n",
    "print('R2 score: ', r2_score(y_test, y_pred))\n",
    "\n",
    "cv = RepeatedKFold(n_splits=10, n_repeats=3, random_state=1)\n",
    "# evaluate the model and collect the scores\n",
    "n_scores = cross_val_score(model, X, y, scoring='neg_mean_absolute_error', cv=cv, n_jobs=-1)\n",
    "# force the scores to be positive\n",
    "n_scores = absolute(n_scores)\n",
    "# summarize performance\n",
    "print('MAE: %.3f (%.3f)' % (mean(n_scores), std(n_scores)))"
   ]
  },
  {
   "cell_type": "code",
   "execution_count": 169,
   "metadata": {},
   "outputs": [
    {
     "name": "stdout",
     "output_type": "stream",
     "text": [
      "     executionTime\n",
      "96         204.500\n",
      "61         126.375\n",
      "65         121.250\n",
      "40          62.000\n",
      "148        706.875\n",
      "145        724.000\n",
      "68         117.875\n",
      "42          61.375\n",
      "109        433.625\n",
      "[215.625 126.375 122.25   62.5   716.125 718.    111.125  61.125 430.625]\n"
     ]
    }
   ],
   "source": [
    "print(y_test)\n",
    "print(y_pred)"
   ]
  },
  {
   "cell_type": "code",
   "execution_count": null,
   "metadata": {},
   "outputs": [],
   "source": []
  },
  {
   "cell_type": "code",
   "execution_count": 170,
   "metadata": {},
   "outputs": [],
   "source": [
    "sc_X = StandardScaler()\n",
    "X_trainscaled=sc_X.fit_transform(x_train)\n",
    "X_testscaled=sc_X.transform(x_test)\n",
    "#X_trainscaled = x_train\n",
    "#X_testscaled = x_test\n",
    "#print(X_trainscaled)"
   ]
  },
  {
   "cell_type": "code",
   "execution_count": 171,
   "metadata": {},
   "outputs": [
    {
     "name": "stdout",
     "output_type": "stream",
     "text": [
      "106.1676142437075\n",
      "1\n",
      "106.16442100298283\n",
      "0.9946015413033802\n",
      "Training set score: 0.996290\n",
      "Test set score: 0.993835\n"
     ]
    }
   ],
   "source": [
    "#t = [(2),(3),(4),(5),(6),(7),(8),(9),(10),(2,2),(3,2),(4,2),(5,2),(6,2),(7,2),(8,2)]\n",
    "\n",
    "model = MLPRegressor(hidden_layer_sizes=(4,8,4),activation=\"relu\" ,random_state=1, max_iter=50000)\n",
    "model.fit(X_trainscaled, y_train.values.ravel()).loss_\n",
    "print(model.loss_)\n",
    "#print(model.loss_curve_)\n",
    "print(model.n_outputs_)\n",
    "print(model.best_loss_)\n",
    "y_pred=model.predict(X_testscaled)\n",
    "\n",
    "\n",
    "print(r2_score(y_pred, y_test))\n",
    "print(\"Training set score: %f\" % model.score(X_trainscaled, y_train.values.ravel()))\n",
    "print(\"Test set score: %f\" % model.score(X_testscaled, y_test))"
   ]
  },
  {
   "cell_type": "code",
   "execution_count": 172,
   "metadata": {},
   "outputs": [
    {
     "name": "stdout",
     "output_type": "stream",
     "text": [
      "     executionTime\n",
      "96         204.500\n",
      "61         126.375\n",
      "65         121.250\n",
      "40          62.000\n",
      "148        706.875\n",
      "145        724.000\n",
      "68         117.875\n",
      "42          61.375\n",
      "109        433.625\n",
      "[193.91025835 118.99482894 108.74812624  50.52473566 750.34046702\n",
      " 751.10955592 104.88887168  50.52473566 419.3429944 ]\n",
      "Test set score: 0.993835\n"
     ]
    }
   ],
   "source": [
    "print(y_test)\n",
    "print(y_pred)\n",
    "print(\"Test set score: %f\" % model.score(X_testscaled, y_test))"
   ]
  },
  {
   "cell_type": "code",
   "execution_count": 173,
   "metadata": {},
   "outputs": [
    {
     "name": "stdout",
     "output_type": "stream",
     "text": [
      "y1 MSE:396.5674\n",
      "Mean Absolute Error: 16.737830221421802\n",
      "Mean Squared Error: 396.56737624897136\n",
      "Root Mean Squared Error: 19.913999504091873\n"
     ]
    }
   ],
   "source": [
    "print(\"y1 MSE:%.4f\" % mean_squared_error(y_test, y_pred)) \n",
    "\n",
    "print('Mean Absolute Error:', metrics.mean_absolute_error(y_test, y_pred))\n",
    "print('Mean Squared Error:', metrics.mean_squared_error(y_test, y_pred))\n",
    "print('Root Mean Squared Error:', np.sqrt(metrics.mean_squared_error(y_test, y_pred)))\n",
    "\n",
    "#print(\"y2 MSE:%.4f\" % mean_squared_error(y_test[:,1], y_pred[:,1]))"
   ]
  },
  {
   "cell_type": "code",
   "execution_count": 174,
   "metadata": {},
   "outputs": [],
   "source": [
    "################### ERROR ###################"
   ]
  },
  {
   "cell_type": "code",
   "execution_count": 175,
   "metadata": {},
   "outputs": [],
   "source": [
    "y = df[['Error']]"
   ]
  },
  {
   "cell_type": "code",
   "execution_count": 176,
   "metadata": {},
   "outputs": [],
   "source": [
    "x_train, x_test, y_train, y_test = train_test_split(X, y, test_size=0.1, random_state=13)"
   ]
  },
  {
   "cell_type": "code",
   "execution_count": 177,
   "metadata": {},
   "outputs": [
    {
     "name": "stdout",
     "output_type": "stream",
     "text": [
      "0.4925876934411514\n",
      "Mean Absolute Error: 2.2013468008985044\n",
      "Mean Squared Error: 6.66822049449197\n",
      "Root Mean Squared Error: 2.5822897774053106\n"
     ]
    }
   ],
   "source": [
    "model = LinearRegression()\n",
    "model.fit(x_train, y_train)\n",
    "y_pred = model.predict(x_test)\n",
    "\n",
    "#print(model.intercept_)\n",
    "\n",
    "print(r2_score(y_pred, y_test))\n",
    "\n",
    "print('Mean Absolute Error:', metrics.mean_absolute_error(y_test, y_pred))\n",
    "print('Mean Squared Error:', metrics.mean_squared_error(y_test, y_pred))\n",
    "print('Root Mean Squared Error:', np.sqrt(metrics.mean_squared_error(y_test, y_pred)))"
   ]
  },
  {
   "cell_type": "code",
   "execution_count": 178,
   "metadata": {},
   "outputs": [
    {
     "name": "stdout",
     "output_type": "stream",
     "text": [
      "         Error\n",
      "96   15.382136\n",
      "61    3.751060\n",
      "65    6.602716\n",
      "40    7.774907\n",
      "148   6.567028\n",
      "145   4.141858\n",
      "68   11.813880\n",
      "42   13.174481\n",
      "109   0.114736\n",
      "[[10.45967039]\n",
      " [ 5.96999832]\n",
      " [ 8.86606315]\n",
      " [ 7.21613115]\n",
      " [ 7.17351028]\n",
      " [ 6.95613974]\n",
      " [10.91578051]\n",
      " [ 9.6881198 ]\n",
      " [-1.92863358]]\n"
     ]
    }
   ],
   "source": [
    "print(y_test)\n",
    "print(y_pred)"
   ]
  },
  {
   "cell_type": "code",
   "execution_count": 179,
   "metadata": {},
   "outputs": [
    {
     "name": "stdout",
     "output_type": "stream",
     "text": [
      "Mean Absolute Error: 2.5548012\n",
      "Mean Squared Error: 11.826724330617255\n",
      "Root Mean Squared Error: 3.439000484242079\n"
     ]
    }
   ],
   "source": [
    "model = KNeighborsRegressor()\n",
    "model.fit(x_train, y_train)\n",
    "y_pred = model.predict(x_test)\n",
    "\n",
    "print('Mean Absolute Error:', metrics.mean_absolute_error(y_test, y_pred))\n",
    "print('Mean Squared Error:', metrics.mean_squared_error(y_test, y_pred))\n",
    "print('Root Mean Squared Error:', np.sqrt(metrics.mean_squared_error(y_test, y_pred)))"
   ]
  },
  {
   "cell_type": "code",
   "execution_count": 180,
   "metadata": {},
   "outputs": [
    {
     "name": "stdout",
     "output_type": "stream",
     "text": [
      "         Error\n",
      "96   15.382136\n",
      "61    3.751060\n",
      "65    6.602716\n",
      "40    7.774907\n",
      "148   6.567028\n",
      "145   4.141858\n",
      "68   11.813880\n",
      "42   13.174481\n",
      "109   0.114736\n",
      "[[7.2438438]\n",
      " [3.9032956]\n",
      " [8.6336026]\n",
      " [5.7400734]\n",
      " [3.9811166]\n",
      " [3.9811166]\n",
      " [8.6336026]\n",
      " [9.4050122]\n",
      " [1.0552998]]\n"
     ]
    }
   ],
   "source": [
    "print(y_test)\n",
    "print(y_pred)"
   ]
  },
  {
   "cell_type": "code",
   "execution_count": 181,
   "metadata": {},
   "outputs": [
    {
     "name": "stdout",
     "output_type": "stream",
     "text": [
      "Mean Absolute Error: 1.6201328888888886\n",
      "Mean Squared Error: 6.265611098687553\n",
      "Root Mean Squared Error: 2.503120272517394\n",
      "R2 score:  0.7096163671036437\n",
      "MAE: 0.873 (0.502)\n"
     ]
    }
   ],
   "source": [
    "model = DecisionTreeRegressor()\n",
    "model.fit(x_train, y_train)\n",
    "\n",
    "y_pred = model.predict(x_test)\n",
    "\n",
    "print('Mean Absolute Error:', metrics.mean_absolute_error(y_test, y_pred))\n",
    "print('Mean Squared Error:', metrics.mean_squared_error(y_test, y_pred))\n",
    "print('Root Mean Squared Error:', np.sqrt(metrics.mean_squared_error(y_test, y_pred)))\n",
    "print('R2 score: ', r2_score(y_test, y_pred))\n",
    "\n",
    "cv = RepeatedKFold(n_splits=10, n_repeats=3, random_state=1)\n",
    "# evaluate the model and collect the scores\n",
    "n_scores = cross_val_score(model, X, y, scoring='neg_mean_absolute_error', cv=cv, n_jobs=-1)\n",
    "# force the scores to be positive\n",
    "n_scores = absolute(n_scores)\n",
    "# summarize performance\n",
    "print('MAE: %.3f (%.3f)' % (mean(n_scores), std(n_scores)))"
   ]
  },
  {
   "cell_type": "code",
   "execution_count": 182,
   "metadata": {},
   "outputs": [
    {
     "name": "stdout",
     "output_type": "stream",
     "text": [
      "         Error\n",
      "96   15.382136\n",
      "61    3.751060\n",
      "65    6.602716\n",
      "40    7.774907\n",
      "148   6.567028\n",
      "145   4.141858\n",
      "68   11.813880\n",
      "42   13.174481\n",
      "109   0.114736\n",
      "[16.265274  4.457448  7.922143  7.01748  13.39053   4.903501 13.731627\n",
      " 11.767733  0.119912]\n"
     ]
    }
   ],
   "source": [
    "print(y_test)\n",
    "print(y_pred)"
   ]
  },
  {
   "cell_type": "code",
   "execution_count": 183,
   "metadata": {},
   "outputs": [],
   "source": [
    "sc_X = StandardScaler()\n",
    "X_trainscaled=sc_X.fit_transform(x_train)\n",
    "X_testscaled=sc_X.transform(x_test)"
   ]
  },
  {
   "cell_type": "code",
   "execution_count": 184,
   "metadata": {},
   "outputs": [
    {
     "name": "stdout",
     "output_type": "stream",
     "text": [
      "0.5280936507544335\n",
      "1\n",
      "0.5280936507544335\n",
      "0.8482526859560977\n",
      "Training set score: 0.942792\n",
      "Test set score: 0.813945\n"
     ]
    }
   ],
   "source": [
    "model = MLPRegressor(hidden_layer_sizes=(4,8,4),activation=\"relu\" ,random_state=1, max_iter=50000)\n",
    "model.fit(X_trainscaled, y_train.values.ravel()).loss_\n",
    "print(model.loss_)\n",
    "#print(model.loss_curve_)\n",
    "print(model.n_outputs_)\n",
    "print(model.best_loss_)\n",
    "y_pred=model.predict(X_testscaled)\n",
    "\n",
    "\n",
    "print(r2_score(y_pred, y_test))\n",
    "print(\"Training set score: %f\" % model.score(X_trainscaled, y_train.values.ravel()))\n",
    "print(\"Test set score: %f\" % model.score(X_testscaled, y_test))"
   ]
  },
  {
   "cell_type": "code",
   "execution_count": 185,
   "metadata": {},
   "outputs": [
    {
     "name": "stdout",
     "output_type": "stream",
     "text": [
      "         Error\n",
      "96   15.382136\n",
      "61    3.751060\n",
      "65    6.602716\n",
      "40    7.774907\n",
      "148   6.567028\n",
      "145   4.141858\n",
      "68   11.813880\n",
      "42   13.174481\n",
      "109   0.114736\n",
      "[15.90218098  4.86480407  8.44902869  7.36527549  6.17863753  5.48835948\n",
      " 17.13468839 12.35406593  0.42311384]\n",
      "Test set score: 0.813945\n"
     ]
    }
   ],
   "source": [
    "print(y_test)\n",
    "print(y_pred)\n",
    "print(\"Test set score: %f\" % model.score(X_testscaled, y_test))"
   ]
  },
  {
   "cell_type": "code",
   "execution_count": 186,
   "metadata": {},
   "outputs": [
    {
     "name": "stdout",
     "output_type": "stream",
     "text": [
      "y1 MSE:4.0145\n",
      "Mean Absolute Error: 1.3415807221698886\n",
      "Mean Squared Error: 4.01451491680522\n",
      "Root Mean Squared Error: 2.0036254432416305\n"
     ]
    }
   ],
   "source": [
    "print(\"y1 MSE:%.4f\" % mean_squared_error(y_test, y_pred)) \n",
    "\n",
    "print('Mean Absolute Error:', metrics.mean_absolute_error(y_test, y_pred))\n",
    "print('Mean Squared Error:', metrics.mean_squared_error(y_test, y_pred))\n",
    "print('Root Mean Squared Error:', np.sqrt(metrics.mean_squared_error(y_test, y_pred)))"
   ]
  },
  {
   "cell_type": "code",
   "execution_count": null,
   "metadata": {},
   "outputs": [],
   "source": []
  }
 ],
 "metadata": {
  "kernelspec": {
   "display_name": "Python 3",
   "language": "python",
   "name": "python3"
  },
  "language_info": {
   "codemirror_mode": {
    "name": "ipython",
    "version": 3
   },
   "file_extension": ".py",
   "mimetype": "text/x-python",
   "name": "python",
   "nbconvert_exporter": "python",
   "pygments_lexer": "ipython3",
   "version": "3.8.3"
  }
 },
 "nbformat": 4,
 "nbformat_minor": 4
}
