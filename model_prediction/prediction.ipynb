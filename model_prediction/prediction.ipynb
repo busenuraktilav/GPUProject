{
 "cells": [
  {
   "cell_type": "code",
   "execution_count": 446,
   "metadata": {},
   "outputs": [],
   "source": [
    "import pandas as pd\n",
    "import numpy as np\n",
    "from numpy import absolute\n",
    "from numpy import mean\n",
    "from numpy import std\n",
    "from sklearn import preprocessing, metrics\n",
    "from sklearn.metrics import r2_score\n",
    "from sklearn.model_selection import train_test_split\n",
    "from sklearn.linear_model import LinearRegression\n",
    "from sklearn.neighbors import KNeighborsRegressor\n",
    "from sklearn.tree import DecisionTreeRegressor\n",
    "from sklearn.model_selection import cross_val_score\n",
    "from sklearn.model_selection import RepeatedKFold\n",
    "from sklearn.neural_network import MLPRegressor\n",
    "from sklearn.preprocessing import StandardScaler\n",
    "from sklearn.metrics import mean_squared_error\n",
    "import matplotlib.pyplot as plt"
   ]
  },
  {
   "cell_type": "code",
   "execution_count": 447,
   "metadata": {},
   "outputs": [
    {
     "name": "stdout",
     "output_type": "stream",
     "text": [
      "   vertexNum  edgeNum  maxEdgeDegree  iterationNum  executionTime    Error\n",
      "0      32768   524288           3877             6             14   0.0000\n",
      "1      32768   524288           3877             5             10   0.0000\n",
      "2      32768   524288           3877             4              9   0.0118\n",
      "3      32768   524288           3877             3              8   0.7980\n",
      "4      32768   524288           3877             2              5  33.1070\n"
     ]
    }
   ],
   "source": [
    "df = pd.read_csv(\"datas.csv\")\n",
    "df = df.drop(['sPartialGraphProcess', 'sReduceExecution','sMinEdgetoProcess','sApprAttrValues','minProcessEdge','percentage'], axis=1)\n",
    "df.dropna()\n",
    "print(df.head())"
   ]
  },
  {
   "cell_type": "code",
   "execution_count": 448,
   "metadata": {},
   "outputs": [],
   "source": [
    "X = df.drop(['executionTime', 'Error'],axis=1)\n",
    "y = df[['executionTime', 'Error']]"
   ]
  },
  {
   "cell_type": "code",
   "execution_count": 449,
   "metadata": {},
   "outputs": [
    {
     "data": {
      "text/plain": [
       "'sc_X = StandardScaler()\\nx_train=sc_X.fit_transform(x_train)\\nx_test=sc_X.transform(x_test)\\nprint(x_test)\\nprint(x_train)\\nprint(y_train)\\nprint(y_test)'"
      ]
     },
     "execution_count": 449,
     "metadata": {},
     "output_type": "execute_result"
    }
   ],
   "source": [
    "X = preprocessing.normalize(X)\n",
    "#print(X)\n",
    "#y = preprocessing.normalize(y)\n",
    "\n",
    "\n",
    "x_train, x_test, y_train, y_test = train_test_split(X, y, test_size=0.1, random_state=13)\n",
    "\n",
    "\n",
    "\"\"\"sc_X = StandardScaler()\n",
    "x_train=sc_X.fit_transform(x_train)\n",
    "x_test=sc_X.transform(x_test)\n",
    "print(x_test)\n",
    "print(x_train)\n",
    "print(y_train)\n",
    "print(y_test)\"\"\""
   ]
  },
  {
   "cell_type": "code",
   "execution_count": 450,
   "metadata": {},
   "outputs": [
    {
     "name": "stdout",
     "output_type": "stream",
     "text": [
      "Mean Absolute Error: 72.96656620129522\n",
      "Mean Squared Error: 11705.863587122436\n",
      "Root Mean Squared Error: 108.19363930990785\n"
     ]
    }
   ],
   "source": [
    "model = LinearRegression()\n",
    "model.fit(x_train, y_train)\n",
    "y_pred = model.predict(x_test)\n",
    "\n",
    "print('Mean Absolute Error:', metrics.mean_absolute_error(y_test, y_pred))\n",
    "print('Mean Squared Error:', metrics.mean_squared_error(y_test, y_pred))\n",
    "print('Root Mean Squared Error:', np.sqrt(metrics.mean_squared_error(y_test, y_pred)))"
   ]
  },
  {
   "cell_type": "code",
   "execution_count": 451,
   "metadata": {},
   "outputs": [
    {
     "name": "stdout",
     "output_type": "stream",
     "text": [
      "    executionTime      Error\n",
      "42            705   0.086000\n",
      "4               5  33.107000\n",
      "20            106   0.000000\n",
      "50            695  11.890000\n",
      "0              14   0.000000\n",
      "14             50   0.000045\n",
      "[[747.5067775    9.86250496]\n",
      " [146.38367793  43.48151552]\n",
      " [ 58.48658922   6.21455865]\n",
      " [956.29479167  10.12376536]\n",
      " [175.17654377 -45.66315715]\n",
      " [-90.64379975   7.28486709]]\n"
     ]
    }
   ],
   "source": [
    "print(y_test)\n",
    "print(y_pred)"
   ]
  },
  {
   "cell_type": "code",
   "execution_count": null,
   "metadata": {},
   "outputs": [],
   "source": []
  },
  {
   "cell_type": "code",
   "execution_count": 452,
   "metadata": {},
   "outputs": [
    {
     "name": "stdout",
     "output_type": "stream",
     "text": [
      "Mean Absolute Error: 62.77040415\n",
      "Mean Squared Error: 24598.780285569897\n",
      "Root Mean Squared Error: 156.8399830577965\n"
     ]
    }
   ],
   "source": [
    "model = KNeighborsRegressor()\n",
    "model.fit(x_train, y_train)\n",
    "y_pred = model.predict(x_test)\n",
    "\n",
    "print('Mean Absolute Error:', metrics.mean_absolute_error(y_test, y_pred))\n",
    "print('Mean Squared Error:', metrics.mean_squared_error(y_test, y_pred))\n",
    "print('Root Mean Squared Error:', np.sqrt(metrics.mean_squared_error(y_test, y_pred)))"
   ]
  },
  {
   "cell_type": "code",
   "execution_count": 453,
   "metadata": {},
   "outputs": [
    {
     "name": "stdout",
     "output_type": "stream",
     "text": [
      "    executionTime      Error\n",
      "42            705   0.086000\n",
      "4               5  33.107000\n",
      "20            106   0.000000\n",
      "50            695  11.890000\n",
      "0              14   0.000000\n",
      "14             50   0.000045\n",
      "[[ 551.2         12.5081368]\n",
      " [   9.8         13.0964   ]\n",
      " [  97.8          3.3805838]\n",
      " [1215.2          9.6959318]\n",
      " [  11.          13.09436  ]\n",
      " [  42.           4.143146 ]]\n"
     ]
    }
   ],
   "source": [
    "print(y_test)\n",
    "print(y_pred)"
   ]
  },
  {
   "cell_type": "code",
   "execution_count": null,
   "metadata": {},
   "outputs": [],
   "source": []
  },
  {
   "cell_type": "code",
   "execution_count": 454,
   "metadata": {},
   "outputs": [
    {
     "name": "stdout",
     "output_type": "stream",
     "text": [
      "Mean Absolute Error: 62.10749262499999\n",
      "Mean Squared Error: 28932.46766187971\n",
      "Root Mean Squared Error: 170.09546631782902\n",
      "MAE: 64.653 (34.234)\n"
     ]
    }
   ],
   "source": [
    "model = DecisionTreeRegressor()\n",
    "model.fit(x_train, y_train)\n",
    "y_pred = model.predict(x_test)\n",
    "\n",
    "print('Mean Absolute Error:', metrics.mean_absolute_error(y_test, y_pred))\n",
    "print('Mean Squared Error:', metrics.mean_squared_error(y_test, y_pred))\n",
    "print('Root Mean Squared Error:', np.sqrt(metrics.mean_squared_error(y_test, y_pred)))\n",
    "\n",
    "cv = RepeatedKFold(n_splits=10, n_repeats=3, random_state=1)\n",
    "# evaluate the model and collect the scores\n",
    "n_scores = cross_val_score(model, X, y, scoring='neg_mean_absolute_error', cv=cv, n_jobs=-1)\n",
    "# force the scores to be positive\n",
    "n_scores = absolute(n_scores)\n",
    "# summarize performance\n",
    "print('MAE: %.3f (%.3f)' % (mean(n_scores), std(n_scores)))"
   ]
  },
  {
   "cell_type": "code",
   "execution_count": 455,
   "metadata": {},
   "outputs": [
    {
     "name": "stdout",
     "output_type": "stream",
     "text": [
      "    executionTime      Error\n",
      "42            705   0.086000\n",
      "4               5  33.107000\n",
      "20            106   0.000000\n",
      "50            695  11.890000\n",
      "0              14   0.000000\n",
      "14             50   0.000045\n",
      "[[5.95000000e+02 1.04234473e+01]\n",
      " [8.00000000e+00 7.98000000e-01]\n",
      " [1.04000000e+02 2.90000000e-05]\n",
      " [1.27283333e+03 8.07994317e+00]\n",
      " [1.00000000e+01 0.00000000e+00]\n",
      " [5.20000000e+01 0.00000000e+00]]\n"
     ]
    }
   ],
   "source": [
    "print(y_test)\n",
    "print(y_pred)"
   ]
  },
  {
   "cell_type": "code",
   "execution_count": null,
   "metadata": {},
   "outputs": [],
   "source": []
  },
  {
   "cell_type": "code",
   "execution_count": 456,
   "metadata": {},
   "outputs": [],
   "source": [
    "sc_X = StandardScaler()\n",
    "X_trainscaled=sc_X.fit_transform(x_train)\n",
    "X_testscaled=sc_X.transform(x_test)\n",
    "#X_trainscaled = x_train\n",
    "#X_testscaled = x_test\n",
    "#print(X_trainscaled)"
   ]
  },
  {
   "cell_type": "code",
   "execution_count": 493,
   "metadata": {},
   "outputs": [
    {
     "name": "stdout",
     "output_type": "stream",
     "text": [
      "2821.5213399150093\n",
      "2\n",
      "2802.035296428826\n",
      "0.1659355145117689\n"
     ]
    }
   ],
   "source": [
    "#t = [(2),(3),(4),(5),(6),(7),(8),(9),(10),(2,2),(3,2),(4,2),(5,2),(6,2),(7,2),(8,2)]\n",
    "\n",
    "\n",
    "model = MLPRegressor(hidden_layer_sizes=(4,8,5,12,8,4),activation=\"relu\" ,random_state=1, max_iter=50000)\n",
    "model.fit(X_trainscaled, y_train).loss_\n",
    "print(model.loss_)\n",
    "#print(model.loss_curve_)\n",
    "print(model.n_outputs_)\n",
    "print(model.best_loss_)\n",
    "y_pred=model.predict(X_testscaled)\n",
    "\n",
    "\n",
    "print(r2_score(y_pred, y_test))\n"
   ]
  },
  {
   "cell_type": "code",
   "execution_count": 494,
   "metadata": {},
   "outputs": [
    {
     "name": "stdout",
     "output_type": "stream",
     "text": [
      "    executionTime      Error\n",
      "42            705   0.086000\n",
      "4               5  33.107000\n",
      "20            106   0.000000\n",
      "50            695  11.890000\n",
      "0              14   0.000000\n",
      "14             50   0.000045\n",
      "[[ 409.90114902   17.99250377]\n",
      " [   5.60958065   32.90427165]\n",
      " [ 161.08469893    7.68830165]\n",
      " [1032.1379004     6.23896257]\n",
      " [   8.70227582    9.24799178]\n",
      " [  39.67682943   14.14287613]]\n"
     ]
    },
    {
     "data": {
      "text/plain": [
       "-34.74991188325814"
      ]
     },
     "execution_count": 494,
     "metadata": {},
     "output_type": "execute_result"
    }
   ],
   "source": [
    "print(y_test)\n",
    "print(y_pred)\n",
    "model.score(x_test, y_test)"
   ]
  },
  {
   "cell_type": "code",
   "execution_count": 495,
   "metadata": {},
   "outputs": [
    {
     "name": "stdout",
     "output_type": "stream",
     "text": [
      "y1 MSE:17050.9915\n"
     ]
    }
   ],
   "source": [
    "print(\"y1 MSE:%.4f\" % mean_squared_error(y_test, y_pred)) \n",
    "\n",
    "#print(\"y2 MSE:%.4f\" % mean_squared_error(y_test[:,1], y_pred[:,1]))"
   ]
  },
  {
   "cell_type": "code",
   "execution_count": null,
   "metadata": {},
   "outputs": [],
   "source": []
  }
 ],
 "metadata": {
  "kernelspec": {
   "display_name": "Python 3",
   "language": "python",
   "name": "python3"
  },
  "language_info": {
   "codemirror_mode": {
    "name": "ipython",
    "version": 3
   },
   "file_extension": ".py",
   "mimetype": "text/x-python",
   "name": "python",
   "nbconvert_exporter": "python",
   "pygments_lexer": "ipython3",
   "version": "3.8.3"
  }
 },
 "nbformat": 4,
 "nbformat_minor": 4
}
